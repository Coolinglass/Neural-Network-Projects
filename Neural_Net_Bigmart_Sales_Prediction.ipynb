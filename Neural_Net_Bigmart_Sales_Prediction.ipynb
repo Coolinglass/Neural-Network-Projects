{
  "cells": [
    {
      "cell_type": "markdown",
      "metadata": {
        "id": "view-in-github",
        "colab_type": "text"
      },
      "source": [
        "<a href=\"https://colab.research.google.com/github/Coolinglass/Applied-Machine-Learning-Projects/blob/master/Neural_Net_Bigmart_Sales_Prediction.ipynb\" target=\"_parent\"><img src=\"https://colab.research.google.com/assets/colab-badge.svg\" alt=\"Open In Colab\"/></a>"
      ]
    },
    {
      "cell_type": "code",
      "execution_count": null,
      "id": "bb757f8e",
      "metadata": {
        "id": "bb757f8e"
      },
      "outputs": [],
      "source": [
        "# importing the required libraries\n",
        "import pandas as pd\n",
        "import numpy as np\n",
        "import sklearn\n",
        "from sklearn.model_selection import train_test_split\n",
        "from sklearn.metrics import accuracy_score\n",
        "import matplotlib.pyplot as plt\n",
        "%matplotlib inline"
      ]
    },
    {
      "cell_type": "code",
      "execution_count": null,
      "id": "ab154aab",
      "metadata": {
        "id": "ab154aab",
        "outputId": "17055c9f-8e78-472b-c508-e16f847294cb"
      },
      "outputs": [
        {
          "name": "stdout",
          "output_type": "stream",
          "text": [
            "Version of sklearn: 1.0.2\n"
          ]
        }
      ],
      "source": [
        "# check version on sklearn\n",
        "print('Version of sklearn:', sklearn.__version__)"
      ]
    },
    {
      "cell_type": "code",
      "execution_count": null,
      "id": "ca78fb14",
      "metadata": {
        "id": "ca78fb14"
      },
      "outputs": [],
      "source": [
        "data = pd.read_csv('train.csv')"
      ]
    },
    {
      "cell_type": "code",
      "execution_count": null,
      "id": "1996ae26",
      "metadata": {
        "id": "1996ae26",
        "outputId": "f7ae93e9-01ef-4e60-8f39-a2c5763ecd06"
      },
      "outputs": [
        {
          "data": {
            "text/html": [
              "<div>\n",
              "<style scoped>\n",
              "    .dataframe tbody tr th:only-of-type {\n",
              "        vertical-align: middle;\n",
              "    }\n",
              "\n",
              "    .dataframe tbody tr th {\n",
              "        vertical-align: top;\n",
              "    }\n",
              "\n",
              "    .dataframe thead th {\n",
              "        text-align: right;\n",
              "    }\n",
              "</style>\n",
              "<table border=\"1\" class=\"dataframe\">\n",
              "  <thead>\n",
              "    <tr style=\"text-align: right;\">\n",
              "      <th></th>\n",
              "      <th>Item_Identifier</th>\n",
              "      <th>Item_Weight</th>\n",
              "      <th>Item_Fat_Content</th>\n",
              "      <th>Item_Visibility</th>\n",
              "      <th>Item_Type</th>\n",
              "      <th>Item_MRP</th>\n",
              "      <th>Outlet_Identifier</th>\n",
              "      <th>Outlet_Establishment_Year</th>\n",
              "      <th>Outlet_Size</th>\n",
              "      <th>Outlet_Location_Type</th>\n",
              "      <th>Outlet_Type</th>\n",
              "      <th>Item_Outlet_Sales</th>\n",
              "    </tr>\n",
              "  </thead>\n",
              "  <tbody>\n",
              "    <tr>\n",
              "      <th>0</th>\n",
              "      <td>FDA15</td>\n",
              "      <td>9.30</td>\n",
              "      <td>Low Fat</td>\n",
              "      <td>0.016047</td>\n",
              "      <td>Dairy</td>\n",
              "      <td>249.8092</td>\n",
              "      <td>OUT049</td>\n",
              "      <td>1999</td>\n",
              "      <td>Medium</td>\n",
              "      <td>Tier 1</td>\n",
              "      <td>Supermarket Type1</td>\n",
              "      <td>3735.1380</td>\n",
              "    </tr>\n",
              "    <tr>\n",
              "      <th>1</th>\n",
              "      <td>DRC01</td>\n",
              "      <td>5.92</td>\n",
              "      <td>Regular</td>\n",
              "      <td>0.019278</td>\n",
              "      <td>Soft Drinks</td>\n",
              "      <td>48.2692</td>\n",
              "      <td>OUT018</td>\n",
              "      <td>2009</td>\n",
              "      <td>Medium</td>\n",
              "      <td>Tier 3</td>\n",
              "      <td>Supermarket Type2</td>\n",
              "      <td>443.4228</td>\n",
              "    </tr>\n",
              "    <tr>\n",
              "      <th>2</th>\n",
              "      <td>FDN15</td>\n",
              "      <td>17.50</td>\n",
              "      <td>Low Fat</td>\n",
              "      <td>0.016760</td>\n",
              "      <td>Meat</td>\n",
              "      <td>141.6180</td>\n",
              "      <td>OUT049</td>\n",
              "      <td>1999</td>\n",
              "      <td>Medium</td>\n",
              "      <td>Tier 1</td>\n",
              "      <td>Supermarket Type1</td>\n",
              "      <td>2097.2700</td>\n",
              "    </tr>\n",
              "    <tr>\n",
              "      <th>3</th>\n",
              "      <td>FDX07</td>\n",
              "      <td>19.20</td>\n",
              "      <td>Regular</td>\n",
              "      <td>0.000000</td>\n",
              "      <td>Fruits and Vegetables</td>\n",
              "      <td>182.0950</td>\n",
              "      <td>OUT010</td>\n",
              "      <td>1998</td>\n",
              "      <td>NaN</td>\n",
              "      <td>Tier 3</td>\n",
              "      <td>Grocery Store</td>\n",
              "      <td>732.3800</td>\n",
              "    </tr>\n",
              "    <tr>\n",
              "      <th>4</th>\n",
              "      <td>NCD19</td>\n",
              "      <td>8.93</td>\n",
              "      <td>Low Fat</td>\n",
              "      <td>0.000000</td>\n",
              "      <td>Household</td>\n",
              "      <td>53.8614</td>\n",
              "      <td>OUT013</td>\n",
              "      <td>1987</td>\n",
              "      <td>High</td>\n",
              "      <td>Tier 3</td>\n",
              "      <td>Supermarket Type1</td>\n",
              "      <td>994.7052</td>\n",
              "    </tr>\n",
              "  </tbody>\n",
              "</table>\n",
              "</div>"
            ],
            "text/plain": [
              "  Item_Identifier  Item_Weight Item_Fat_Content  Item_Visibility  \\\n",
              "0           FDA15         9.30          Low Fat         0.016047   \n",
              "1           DRC01         5.92          Regular         0.019278   \n",
              "2           FDN15        17.50          Low Fat         0.016760   \n",
              "3           FDX07        19.20          Regular         0.000000   \n",
              "4           NCD19         8.93          Low Fat         0.000000   \n",
              "\n",
              "               Item_Type  Item_MRP Outlet_Identifier  \\\n",
              "0                  Dairy  249.8092            OUT049   \n",
              "1            Soft Drinks   48.2692            OUT018   \n",
              "2                   Meat  141.6180            OUT049   \n",
              "3  Fruits and Vegetables  182.0950            OUT010   \n",
              "4              Household   53.8614            OUT013   \n",
              "\n",
              "   Outlet_Establishment_Year Outlet_Size Outlet_Location_Type  \\\n",
              "0                       1999      Medium               Tier 1   \n",
              "1                       2009      Medium               Tier 3   \n",
              "2                       1999      Medium               Tier 1   \n",
              "3                       1998         NaN               Tier 3   \n",
              "4                       1987        High               Tier 3   \n",
              "\n",
              "         Outlet_Type  Item_Outlet_Sales  \n",
              "0  Supermarket Type1          3735.1380  \n",
              "1  Supermarket Type2           443.4228  \n",
              "2  Supermarket Type1          2097.2700  \n",
              "3      Grocery Store           732.3800  \n",
              "4  Supermarket Type1           994.7052  "
            ]
          },
          "execution_count": 4,
          "metadata": {},
          "output_type": "execute_result"
        }
      ],
      "source": [
        "data.head()"
      ]
    },
    {
      "cell_type": "code",
      "execution_count": null,
      "id": "49aed299",
      "metadata": {
        "id": "49aed299",
        "outputId": "df7b5398-ff45-49ce-80dc-83107a0e3510"
      },
      "outputs": [
        {
          "data": {
            "text/plain": [
              "Item_Identifier                 0\n",
              "Item_Weight                  1463\n",
              "Item_Fat_Content                0\n",
              "Item_Visibility                 0\n",
              "Item_Type                       0\n",
              "Item_MRP                        0\n",
              "Outlet_Identifier               0\n",
              "Outlet_Establishment_Year       0\n",
              "Outlet_Size                  2410\n",
              "Outlet_Location_Type            0\n",
              "Outlet_Type                     0\n",
              "Item_Outlet_Sales               0\n",
              "dtype: int64"
            ]
          },
          "execution_count": 5,
          "metadata": {},
          "output_type": "execute_result"
        }
      ],
      "source": [
        "data.isnull().sum()"
      ]
    },
    {
      "cell_type": "code",
      "execution_count": null,
      "id": "ee700322",
      "metadata": {
        "id": "ee700322",
        "outputId": "fda1980b-4965-47ee-d86c-5668ddb4deee"
      },
      "outputs": [
        {
          "data": {
            "text/plain": [
              "Medium    2793\n",
              "Small     2388\n",
              "High       932\n",
              "Name: Outlet_Size, dtype: int64"
            ]
          },
          "execution_count": 6,
          "metadata": {},
          "output_type": "execute_result"
        }
      ],
      "source": [
        "data['Outlet_Size'].value_counts()"
      ]
    },
    {
      "cell_type": "code",
      "execution_count": null,
      "id": "07016406",
      "metadata": {
        "id": "07016406",
        "outputId": "4ffeef11-1e3e-464d-f70b-b5b79b02893d"
      },
      "outputs": [
        {
          "data": {
            "text/plain": [
              "count    7060.000000\n",
              "mean       12.857645\n",
              "std         4.643456\n",
              "min         4.555000\n",
              "25%         8.773750\n",
              "50%        12.600000\n",
              "75%        16.850000\n",
              "max        21.350000\n",
              "Name: Item_Weight, dtype: float64"
            ]
          },
          "execution_count": 7,
          "metadata": {},
          "output_type": "execute_result"
        }
      ],
      "source": [
        "data['Item_Weight'].describe()"
      ]
    },
    {
      "cell_type": "code",
      "execution_count": null,
      "id": "03a8a196",
      "metadata": {
        "id": "03a8a196",
        "outputId": "97d04158-67f7-4a8b-baca-f86056f5cb05"
      },
      "outputs": [
        {
          "data": {
            "text/plain": [
              "Outlet_Size\n",
              "High      2298.995256\n",
              "Medium    2681.603542\n",
              "Small     1912.149161\n",
              "Name: Item_Outlet_Sales, dtype: float64"
            ]
          },
          "execution_count": 8,
          "metadata": {},
          "output_type": "execute_result"
        }
      ],
      "source": [
        "data.groupby(['Outlet_Size'])['Item_Outlet_Sales'].mean()"
      ]
    },
    {
      "cell_type": "code",
      "execution_count": null,
      "id": "0b5f644f",
      "metadata": {
        "id": "0b5f644f",
        "outputId": "a904cd3e-256b-4730-802b-572c0e251a75"
      },
      "outputs": [
        {
          "data": {
            "text/plain": [
              "Outlet_Size\n",
              "High      2298.995256\n",
              "Medium    2681.603542\n",
              "Small     1912.149161\n",
              "Name: Item_Outlet_Sales, dtype: float64"
            ]
          },
          "execution_count": 9,
          "metadata": {},
          "output_type": "execute_result"
        }
      ],
      "source": [
        "data.groupby(['Outlet_Size'])['Item_Outlet_Sales'].mean()"
      ]
    },
    {
      "cell_type": "code",
      "execution_count": null,
      "id": "e3c63fa5",
      "metadata": {
        "id": "e3c63fa5",
        "outputId": "4a1396f7-c79e-4bae-8962-1307b9ff963e"
      },
      "outputs": [
        {
          "data": {
            "text/plain": [
              "Outlet_Size\n",
              "High      10256.6490\n",
              "Medium    13086.9648\n",
              "Small      9779.9362\n",
              "Name: Item_Outlet_Sales, dtype: float64"
            ]
          },
          "execution_count": 10,
          "metadata": {},
          "output_type": "execute_result"
        }
      ],
      "source": [
        "data.groupby(['Outlet_Size'])['Item_Outlet_Sales'].max()"
      ]
    },
    {
      "cell_type": "code",
      "execution_count": null,
      "id": "1e466a9c",
      "metadata": {
        "id": "1e466a9c",
        "outputId": "65f5eaed-205f-45fd-ae38-a2bb6ec617f0"
      },
      "outputs": [
        {
          "data": {
            "text/plain": [
              "<AxesSubplot:xlabel='Outlet_Size'>"
            ]
          },
          "execution_count": 11,
          "metadata": {},
          "output_type": "execute_result"
        },
        {
          "data": {
            "image/png": "[encoded data removed]",
            "text/plain": [
              "<Figure size 432x288 with 1 Axes>"
            ]
          },
          "metadata": {
            "needs_background": "light"
          },
          "output_type": "display_data"
        }
      ],
      "source": [
        "data.groupby(['Outlet_Size'])['Item_Outlet_Sales'].mean().plot()"
      ]
    },
    {
      "cell_type": "code",
      "execution_count": null,
      "id": "2c5d127a",
      "metadata": {
        "id": "2c5d127a"
      },
      "outputs": [],
      "source": [
        "common = data['Outlet_Size'].isnull()\n",
        "all_conditions = [(data['Item_Outlet_Sales'] <= 2200) & (common),\n",
        "                  (data['Item_Outlet_Sales'] > 2600)  & (common),\n",
        "                  (data['Item_Outlet_Sales'] > 2200) & (data['Item_Outlet_Sales'] < 2600) & (common)\n",
        "                 ]\n",
        "\n",
        "fill_with = ['Small', 'Medium', 'High']\n",
        "data['Outlet_Size'] = np.select(all_conditions, fill_with, default=data['Outlet_Size'])"
      ]
    },
    {
      "cell_type": "code",
      "execution_count": null,
      "id": "399b278f",
      "metadata": {
        "id": "399b278f",
        "outputId": "169f0e61-36a2-41e3-96b5-d6ea875c0e00"
      },
      "outputs": [
        {
          "data": {
            "text/plain": [
              "Small     3995\n",
              "Medium    3429\n",
              "High      1099\n",
              "Name: Outlet_Size, dtype: int64"
            ]
          },
          "execution_count": 13,
          "metadata": {},
          "output_type": "execute_result"
        }
      ],
      "source": [
        "data['Outlet_Size'].value_counts()"
      ]
    },
    {
      "cell_type": "code",
      "execution_count": null,
      "id": "8504f74e",
      "metadata": {
        "id": "8504f74e",
        "outputId": "55150fda-0438-47f0-ff7f-4fddf33f5ee0"
      },
      "outputs": [
        {
          "data": {
            "text/plain": [
              "Item_Identifier                 0\n",
              "Item_Weight                  1463\n",
              "Item_Fat_Content                0\n",
              "Item_Visibility                 0\n",
              "Item_Type                       0\n",
              "Item_MRP                        0\n",
              "Outlet_Identifier               0\n",
              "Outlet_Establishment_Year       0\n",
              "Outlet_Size                     0\n",
              "Outlet_Location_Type            0\n",
              "Outlet_Type                     0\n",
              "Item_Outlet_Sales               0\n",
              "dtype: int64"
            ]
          },
          "execution_count": 14,
          "metadata": {},
          "output_type": "execute_result"
        }
      ],
      "source": [
        "data.isnull().sum()"
      ]
    },
    {
      "cell_type": "code",
      "execution_count": null,
      "id": "b6ab94b8",
      "metadata": {
        "id": "b6ab94b8",
        "outputId": "0ba992a0-a9b2-4a4c-d9e0-ca17bd19cb0b"
      },
      "outputs": [
        {
          "data": {
            "text/plain": [
              "count    7060.000000\n",
              "mean       12.857645\n",
              "std         4.643456\n",
              "min         4.555000\n",
              "25%         8.773750\n",
              "50%        12.600000\n",
              "75%        16.850000\n",
              "max        21.350000\n",
              "Name: Item_Weight, dtype: float64"
            ]
          },
          "execution_count": 15,
          "metadata": {},
          "output_type": "execute_result"
        }
      ],
      "source": [
        "data['Item_Weight'].describe()"
      ]
    },
    {
      "cell_type": "code",
      "execution_count": null,
      "id": "4fa985fd",
      "metadata": {
        "id": "4fa985fd",
        "outputId": "c4a9d1ee-4855-4a6b-fa9c-a15694636fde"
      },
      "outputs": [
        {
          "data": {
            "text/html": [
              "<div>\n",
              "<style scoped>\n",
              "    .dataframe tbody tr th:only-of-type {\n",
              "        vertical-align: middle;\n",
              "    }\n",
              "\n",
              "    .dataframe tbody tr th {\n",
              "        vertical-align: top;\n",
              "    }\n",
              "\n",
              "    .dataframe thead th {\n",
              "        text-align: right;\n",
              "    }\n",
              "</style>\n",
              "<table border=\"1\" class=\"dataframe\">\n",
              "  <thead>\n",
              "    <tr style=\"text-align: right;\">\n",
              "      <th></th>\n",
              "      <th>Item_Identifier</th>\n",
              "      <th>Item_Weight</th>\n",
              "      <th>Item_Fat_Content</th>\n",
              "      <th>Item_Visibility</th>\n",
              "      <th>Item_Type</th>\n",
              "      <th>Item_MRP</th>\n",
              "      <th>Outlet_Identifier</th>\n",
              "      <th>Outlet_Establishment_Year</th>\n",
              "      <th>Outlet_Size</th>\n",
              "      <th>Outlet_Location_Type</th>\n",
              "      <th>Outlet_Type</th>\n",
              "      <th>Item_Outlet_Sales</th>\n",
              "      <th>Item_Weight_revised</th>\n",
              "    </tr>\n",
              "  </thead>\n",
              "  <tbody>\n",
              "    <tr>\n",
              "      <th>0</th>\n",
              "      <td>FDA15</td>\n",
              "      <td>9.30</td>\n",
              "      <td>Low Fat</td>\n",
              "      <td>0.016047</td>\n",
              "      <td>Dairy</td>\n",
              "      <td>249.8092</td>\n",
              "      <td>OUT049</td>\n",
              "      <td>1999</td>\n",
              "      <td>Medium</td>\n",
              "      <td>Tier 1</td>\n",
              "      <td>Supermarket Type1</td>\n",
              "      <td>3735.1380</td>\n",
              "      <td>2</td>\n",
              "    </tr>\n",
              "    <tr>\n",
              "      <th>1</th>\n",
              "      <td>DRC01</td>\n",
              "      <td>5.92</td>\n",
              "      <td>Regular</td>\n",
              "      <td>0.019278</td>\n",
              "      <td>Soft Drinks</td>\n",
              "      <td>48.2692</td>\n",
              "      <td>OUT018</td>\n",
              "      <td>2009</td>\n",
              "      <td>Medium</td>\n",
              "      <td>Tier 3</td>\n",
              "      <td>Supermarket Type2</td>\n",
              "      <td>443.4228</td>\n",
              "      <td>1</td>\n",
              "    </tr>\n",
              "    <tr>\n",
              "      <th>2</th>\n",
              "      <td>FDN15</td>\n",
              "      <td>17.50</td>\n",
              "      <td>Low Fat</td>\n",
              "      <td>0.016760</td>\n",
              "      <td>Meat</td>\n",
              "      <td>141.6180</td>\n",
              "      <td>OUT049</td>\n",
              "      <td>1999</td>\n",
              "      <td>Medium</td>\n",
              "      <td>Tier 1</td>\n",
              "      <td>Supermarket Type1</td>\n",
              "      <td>2097.2700</td>\n",
              "      <td>4</td>\n",
              "    </tr>\n",
              "    <tr>\n",
              "      <th>3</th>\n",
              "      <td>FDX07</td>\n",
              "      <td>19.20</td>\n",
              "      <td>Regular</td>\n",
              "      <td>0.000000</td>\n",
              "      <td>Fruits and Vegetables</td>\n",
              "      <td>182.0950</td>\n",
              "      <td>OUT010</td>\n",
              "      <td>1998</td>\n",
              "      <td>Small</td>\n",
              "      <td>Tier 3</td>\n",
              "      <td>Grocery Store</td>\n",
              "      <td>732.3800</td>\n",
              "      <td>4</td>\n",
              "    </tr>\n",
              "    <tr>\n",
              "      <th>4</th>\n",
              "      <td>NCD19</td>\n",
              "      <td>8.93</td>\n",
              "      <td>Low Fat</td>\n",
              "      <td>0.000000</td>\n",
              "      <td>Household</td>\n",
              "      <td>53.8614</td>\n",
              "      <td>OUT013</td>\n",
              "      <td>1987</td>\n",
              "      <td>High</td>\n",
              "      <td>Tier 3</td>\n",
              "      <td>Supermarket Type1</td>\n",
              "      <td>994.7052</td>\n",
              "      <td>2</td>\n",
              "    </tr>\n",
              "  </tbody>\n",
              "</table>\n",
              "</div>"
            ],
            "text/plain": [
              "  Item_Identifier  Item_Weight Item_Fat_Content  Item_Visibility  \\\n",
              "0           FDA15         9.30          Low Fat         0.016047   \n",
              "1           DRC01         5.92          Regular         0.019278   \n",
              "2           FDN15        17.50          Low Fat         0.016760   \n",
              "3           FDX07        19.20          Regular         0.000000   \n",
              "4           NCD19         8.93          Low Fat         0.000000   \n",
              "\n",
              "               Item_Type  Item_MRP Outlet_Identifier  \\\n",
              "0                  Dairy  249.8092            OUT049   \n",
              "1            Soft Drinks   48.2692            OUT018   \n",
              "2                   Meat  141.6180            OUT049   \n",
              "3  Fruits and Vegetables  182.0950            OUT010   \n",
              "4              Household   53.8614            OUT013   \n",
              "\n",
              "   Outlet_Establishment_Year Outlet_Size Outlet_Location_Type  \\\n",
              "0                       1999      Medium               Tier 1   \n",
              "1                       2009      Medium               Tier 3   \n",
              "2                       1999      Medium               Tier 1   \n",
              "3                       1998       Small               Tier 3   \n",
              "4                       1987        High               Tier 3   \n",
              "\n",
              "         Outlet_Type  Item_Outlet_Sales Item_Weight_revised  \n",
              "0  Supermarket Type1          3735.1380                   2  \n",
              "1  Supermarket Type2           443.4228                   1  \n",
              "2  Supermarket Type1          2097.2700                   4  \n",
              "3      Grocery Store           732.3800                   4  \n",
              "4  Supermarket Type1           994.7052                   2  "
            ]
          },
          "execution_count": 16,
          "metadata": {},
          "output_type": "execute_result"
        }
      ],
      "source": [
        "# create a list of our conditions\n",
        "conditions = [\n",
        "    (data['Item_Weight'] == 'Nan'),\n",
        "    (data['Item_Weight'] > 4.50) & (data['Item_Weight'] <= 8.773),\n",
        "    (data['Item_Weight'] > 8.773) & (data['Item_Weight'] <= 12.60),\n",
        "    (data['Item_Weight'] > 12.60) & (data['Item_Weight'] <= 16.85),\n",
        "    (data['Item_Weight'] > 16.85)\n",
        "    ]\n",
        "\n",
        "# create a list of the values we want to assign for each condition\n",
        "values = ['0', '1', '2', '3','4']\n",
        "\n",
        "# create a new column and use np.select to assign values to it using our lists as arguments\n",
        "data['Item_Weight_revised'] = np.select(conditions, values)\n",
        "\n",
        "# display updated DataFrame\n",
        "data.head()"
      ]
    },
    {
      "cell_type": "code",
      "execution_count": null,
      "id": "0ca4b474",
      "metadata": {
        "id": "0ca4b474",
        "outputId": "ef2e8919-eb11-40c6-cf68-0edc6fabf6e6"
      },
      "outputs": [
        {
          "data": {
            "text/plain": [
              "Item_Weight_revised\n",
              "0    139.796485\n",
              "1    137.792335\n",
              "2    141.274333\n",
              "3    140.372708\n",
              "4    145.584520\n",
              "Name: Item_MRP, dtype: float64"
            ]
          },
          "execution_count": 17,
          "metadata": {},
          "output_type": "execute_result"
        }
      ],
      "source": [
        "data.groupby(['Item_Weight_revised'])['Item_MRP'].mean()"
      ]
    },
    {
      "cell_type": "code",
      "execution_count": null,
      "id": "952e9f99",
      "metadata": {
        "id": "952e9f99"
      },
      "outputs": [],
      "source": [
        "data['Item_Weight_revised'].replace(to_replace = '0', value = pd.NA, inplace=True)"
      ]
    },
    {
      "cell_type": "code",
      "execution_count": null,
      "id": "67222d2d",
      "metadata": {
        "id": "67222d2d"
      },
      "outputs": [],
      "source": [
        "common1 = data['Item_Weight_revised'].isnull()\n",
        "all_conditions1 = [(data['Item_MRP'] <= 137.79) & (common1),\n",
        "                  (data['Item_MRP'] > 137.79)  & (data['Item_MRP'] < 140.37) & (common1),\n",
        "                   (data['Item_MRP'] >= 140.37)  & (data['Item_MRP'] < 141.27) & (common1),\n",
        "                  (data['Item_MRP'] >= 141.27)  & (common1)\n",
        "\n",
        "                 ]\n",
        "\n",
        "fill_with1 = ['1', '3', '2','4']\n",
        "data['Item_Weight_revised'] = np.select(all_conditions1, fill_with1, default=data['Item_Weight_revised'])"
      ]
    },
    {
      "cell_type": "code",
      "execution_count": null,
      "id": "666dbc70",
      "metadata": {
        "id": "666dbc70",
        "outputId": "dfd807e3-74f5-4678-c3e5-25cf78b1bf45"
      },
      "outputs": [
        {
          "data": {
            "text/plain": [
              "Item_Identifier                 0\n",
              "Item_Weight                  1463\n",
              "Item_Fat_Content                0\n",
              "Item_Visibility                 0\n",
              "Item_Type                       0\n",
              "Item_MRP                        0\n",
              "Outlet_Identifier               0\n",
              "Outlet_Establishment_Year       0\n",
              "Outlet_Size                     0\n",
              "Outlet_Location_Type            0\n",
              "Outlet_Type                     0\n",
              "Item_Outlet_Sales               0\n",
              "Item_Weight_revised             0\n",
              "dtype: int64"
            ]
          },
          "execution_count": 20,
          "metadata": {},
          "output_type": "execute_result"
        }
      ],
      "source": [
        "data.isnull().sum()"
      ]
    },
    {
      "cell_type": "code",
      "execution_count": null,
      "id": "cbbf2a6f",
      "metadata": {
        "id": "cbbf2a6f",
        "outputId": "5b59d5c8-8d59-4d06-b95d-62cad527af42"
      },
      "outputs": [
        {
          "data": {
            "text/plain": [
              "4    2493\n",
              "1    2467\n",
              "2    1787\n",
              "3    1776\n",
              "Name: Item_Weight_revised, dtype: int64"
            ]
          },
          "execution_count": 21,
          "metadata": {},
          "output_type": "execute_result"
        }
      ],
      "source": [
        "data['Item_Weight_revised'].value_counts()"
      ]
    },
    {
      "cell_type": "code",
      "execution_count": null,
      "id": "a163114a",
      "metadata": {
        "id": "a163114a",
        "outputId": "814ee731-6047-4d60-c0d0-09990719fe1c"
      },
      "outputs": [
        {
          "data": {
            "text/html": [
              "<div>\n",
              "<style scoped>\n",
              "    .dataframe tbody tr th:only-of-type {\n",
              "        vertical-align: middle;\n",
              "    }\n",
              "\n",
              "    .dataframe tbody tr th {\n",
              "        vertical-align: top;\n",
              "    }\n",
              "\n",
              "    .dataframe thead th {\n",
              "        text-align: right;\n",
              "    }\n",
              "</style>\n",
              "<table border=\"1\" class=\"dataframe\">\n",
              "  <thead>\n",
              "    <tr style=\"text-align: right;\">\n",
              "      <th></th>\n",
              "      <th>Item_Identifier</th>\n",
              "      <th>Item_Weight</th>\n",
              "      <th>Item_Fat_Content</th>\n",
              "      <th>Item_Visibility</th>\n",
              "      <th>Item_Type</th>\n",
              "      <th>Item_MRP</th>\n",
              "      <th>Outlet_Identifier</th>\n",
              "      <th>Outlet_Establishment_Year</th>\n",
              "      <th>Outlet_Size</th>\n",
              "      <th>Outlet_Location_Type</th>\n",
              "      <th>Outlet_Type</th>\n",
              "      <th>Item_Outlet_Sales</th>\n",
              "      <th>Item_Weight_revised</th>\n",
              "    </tr>\n",
              "  </thead>\n",
              "  <tbody>\n",
              "    <tr>\n",
              "      <th>0</th>\n",
              "      <td>FDA15</td>\n",
              "      <td>9.30</td>\n",
              "      <td>Low Fat</td>\n",
              "      <td>0.016047</td>\n",
              "      <td>Dairy</td>\n",
              "      <td>249.8092</td>\n",
              "      <td>OUT049</td>\n",
              "      <td>1999</td>\n",
              "      <td>Medium</td>\n",
              "      <td>Tier 1</td>\n",
              "      <td>Supermarket Type1</td>\n",
              "      <td>3735.1380</td>\n",
              "      <td>2</td>\n",
              "    </tr>\n",
              "    <tr>\n",
              "      <th>1</th>\n",
              "      <td>DRC01</td>\n",
              "      <td>5.92</td>\n",
              "      <td>Regular</td>\n",
              "      <td>0.019278</td>\n",
              "      <td>Soft Drinks</td>\n",
              "      <td>48.2692</td>\n",
              "      <td>OUT018</td>\n",
              "      <td>2009</td>\n",
              "      <td>Medium</td>\n",
              "      <td>Tier 3</td>\n",
              "      <td>Supermarket Type2</td>\n",
              "      <td>443.4228</td>\n",
              "      <td>1</td>\n",
              "    </tr>\n",
              "    <tr>\n",
              "      <th>2</th>\n",
              "      <td>FDN15</td>\n",
              "      <td>17.50</td>\n",
              "      <td>Low Fat</td>\n",
              "      <td>0.016760</td>\n",
              "      <td>Meat</td>\n",
              "      <td>141.6180</td>\n",
              "      <td>OUT049</td>\n",
              "      <td>1999</td>\n",
              "      <td>Medium</td>\n",
              "      <td>Tier 1</td>\n",
              "      <td>Supermarket Type1</td>\n",
              "      <td>2097.2700</td>\n",
              "      <td>4</td>\n",
              "    </tr>\n",
              "    <tr>\n",
              "      <th>3</th>\n",
              "      <td>FDX07</td>\n",
              "      <td>19.20</td>\n",
              "      <td>Regular</td>\n",
              "      <td>0.000000</td>\n",
              "      <td>Fruits and Vegetables</td>\n",
              "      <td>182.0950</td>\n",
              "      <td>OUT010</td>\n",
              "      <td>1998</td>\n",
              "      <td>Small</td>\n",
              "      <td>Tier 3</td>\n",
              "      <td>Grocery Store</td>\n",
              "      <td>732.3800</td>\n",
              "      <td>4</td>\n",
              "    </tr>\n",
              "    <tr>\n",
              "      <th>4</th>\n",
              "      <td>NCD19</td>\n",
              "      <td>8.93</td>\n",
              "      <td>Low Fat</td>\n",
              "      <td>0.000000</td>\n",
              "      <td>Household</td>\n",
              "      <td>53.8614</td>\n",
              "      <td>OUT013</td>\n",
              "      <td>1987</td>\n",
              "      <td>High</td>\n",
              "      <td>Tier 3</td>\n",
              "      <td>Supermarket Type1</td>\n",
              "      <td>994.7052</td>\n",
              "      <td>2</td>\n",
              "    </tr>\n",
              "  </tbody>\n",
              "</table>\n",
              "</div>"
            ],
            "text/plain": [
              "  Item_Identifier  Item_Weight Item_Fat_Content  Item_Visibility  \\\n",
              "0           FDA15         9.30          Low Fat         0.016047   \n",
              "1           DRC01         5.92          Regular         0.019278   \n",
              "2           FDN15        17.50          Low Fat         0.016760   \n",
              "3           FDX07        19.20          Regular         0.000000   \n",
              "4           NCD19         8.93          Low Fat         0.000000   \n",
              "\n",
              "               Item_Type  Item_MRP Outlet_Identifier  \\\n",
              "0                  Dairy  249.8092            OUT049   \n",
              "1            Soft Drinks   48.2692            OUT018   \n",
              "2                   Meat  141.6180            OUT049   \n",
              "3  Fruits and Vegetables  182.0950            OUT010   \n",
              "4              Household   53.8614            OUT013   \n",
              "\n",
              "   Outlet_Establishment_Year Outlet_Size Outlet_Location_Type  \\\n",
              "0                       1999      Medium               Tier 1   \n",
              "1                       2009      Medium               Tier 3   \n",
              "2                       1999      Medium               Tier 1   \n",
              "3                       1998       Small               Tier 3   \n",
              "4                       1987        High               Tier 3   \n",
              "\n",
              "         Outlet_Type  Item_Outlet_Sales Item_Weight_revised  \n",
              "0  Supermarket Type1          3735.1380                   2  \n",
              "1  Supermarket Type2           443.4228                   1  \n",
              "2  Supermarket Type1          2097.2700                   4  \n",
              "3      Grocery Store           732.3800                   4  \n",
              "4  Supermarket Type1           994.7052                   2  "
            ]
          },
          "execution_count": 22,
          "metadata": {},
          "output_type": "execute_result"
        }
      ],
      "source": [
        "data.head()"
      ]
    },
    {
      "cell_type": "code",
      "execution_count": null,
      "id": "21009174",
      "metadata": {
        "id": "21009174",
        "outputId": "48a5b671-7d22-4af1-ea65-1b3681c5c9f0"
      },
      "outputs": [
        {
          "data": {
            "text/plain": [
              "Fruits and Vegetables    1232\n",
              "Snack Foods              1200\n",
              "Household                 910\n",
              "Frozen Foods              856\n",
              "Dairy                     682\n",
              "Canned                    649\n",
              "Baking Goods              648\n",
              "Health and Hygiene        520\n",
              "Soft Drinks               445\n",
              "Meat                      425\n",
              "Breads                    251\n",
              "Hard Drinks               214\n",
              "Others                    169\n",
              "Starchy Foods             148\n",
              "Breakfast                 110\n",
              "Seafood                    64\n",
              "Name: Item_Type, dtype: int64"
            ]
          },
          "execution_count": 23,
          "metadata": {},
          "output_type": "execute_result"
        }
      ],
      "source": [
        "data['Item_Type'].value_counts()"
      ]
    },
    {
      "cell_type": "code",
      "execution_count": null,
      "id": "273497b7",
      "metadata": {
        "id": "273497b7"
      },
      "outputs": [],
      "source": [
        "data['item_identified_first_3'] = data['Item_Identifier'].astype(str).str[0:2]"
      ]
    },
    {
      "cell_type": "code",
      "execution_count": null,
      "id": "30669506",
      "metadata": {
        "scrolled": true,
        "id": "30669506",
        "outputId": "53ae6b08-9c73-4761-eb64-beb0a037f26c"
      },
      "outputs": [
        {
          "data": {
            "text/html": [
              "<div>\n",
              "<style scoped>\n",
              "    .dataframe tbody tr th:only-of-type {\n",
              "        vertical-align: middle;\n",
              "    }\n",
              "\n",
              "    .dataframe tbody tr th {\n",
              "        vertical-align: top;\n",
              "    }\n",
              "\n",
              "    .dataframe thead th {\n",
              "        text-align: right;\n",
              "    }\n",
              "</style>\n",
              "<table border=\"1\" class=\"dataframe\">\n",
              "  <thead>\n",
              "    <tr style=\"text-align: right;\">\n",
              "      <th></th>\n",
              "      <th>Item_Identifier</th>\n",
              "      <th>Item_Weight</th>\n",
              "      <th>Item_Fat_Content</th>\n",
              "      <th>Item_Visibility</th>\n",
              "      <th>Item_Type</th>\n",
              "      <th>Item_MRP</th>\n",
              "      <th>Outlet_Identifier</th>\n",
              "      <th>Outlet_Establishment_Year</th>\n",
              "      <th>Outlet_Size</th>\n",
              "      <th>Outlet_Location_Type</th>\n",
              "      <th>Outlet_Type</th>\n",
              "      <th>Item_Outlet_Sales</th>\n",
              "      <th>Item_Weight_revised</th>\n",
              "      <th>item_identified_first_3</th>\n",
              "    </tr>\n",
              "  </thead>\n",
              "  <tbody>\n",
              "    <tr>\n",
              "      <th>0</th>\n",
              "      <td>FDA15</td>\n",
              "      <td>9.30</td>\n",
              "      <td>Low Fat</td>\n",
              "      <td>0.016047</td>\n",
              "      <td>Dairy</td>\n",
              "      <td>249.8092</td>\n",
              "      <td>OUT049</td>\n",
              "      <td>1999</td>\n",
              "      <td>Medium</td>\n",
              "      <td>Tier 1</td>\n",
              "      <td>Supermarket Type1</td>\n",
              "      <td>3735.1380</td>\n",
              "      <td>2</td>\n",
              "      <td>FD</td>\n",
              "    </tr>\n",
              "    <tr>\n",
              "      <th>1</th>\n",
              "      <td>DRC01</td>\n",
              "      <td>5.92</td>\n",
              "      <td>Regular</td>\n",
              "      <td>0.019278</td>\n",
              "      <td>Soft Drinks</td>\n",
              "      <td>48.2692</td>\n",
              "      <td>OUT018</td>\n",
              "      <td>2009</td>\n",
              "      <td>Medium</td>\n",
              "      <td>Tier 3</td>\n",
              "      <td>Supermarket Type2</td>\n",
              "      <td>443.4228</td>\n",
              "      <td>1</td>\n",
              "      <td>DR</td>\n",
              "    </tr>\n",
              "    <tr>\n",
              "      <th>2</th>\n",
              "      <td>FDN15</td>\n",
              "      <td>17.50</td>\n",
              "      <td>Low Fat</td>\n",
              "      <td>0.016760</td>\n",
              "      <td>Meat</td>\n",
              "      <td>141.6180</td>\n",
              "      <td>OUT049</td>\n",
              "      <td>1999</td>\n",
              "      <td>Medium</td>\n",
              "      <td>Tier 1</td>\n",
              "      <td>Supermarket Type1</td>\n",
              "      <td>2097.2700</td>\n",
              "      <td>4</td>\n",
              "      <td>FD</td>\n",
              "    </tr>\n",
              "    <tr>\n",
              "      <th>3</th>\n",
              "      <td>FDX07</td>\n",
              "      <td>19.20</td>\n",
              "      <td>Regular</td>\n",
              "      <td>0.000000</td>\n",
              "      <td>Fruits and Vegetables</td>\n",
              "      <td>182.0950</td>\n",
              "      <td>OUT010</td>\n",
              "      <td>1998</td>\n",
              "      <td>Small</td>\n",
              "      <td>Tier 3</td>\n",
              "      <td>Grocery Store</td>\n",
              "      <td>732.3800</td>\n",
              "      <td>4</td>\n",
              "      <td>FD</td>\n",
              "    </tr>\n",
              "    <tr>\n",
              "      <th>4</th>\n",
              "      <td>NCD19</td>\n",
              "      <td>8.93</td>\n",
              "      <td>Low Fat</td>\n",
              "      <td>0.000000</td>\n",
              "      <td>Household</td>\n",
              "      <td>53.8614</td>\n",
              "      <td>OUT013</td>\n",
              "      <td>1987</td>\n",
              "      <td>High</td>\n",
              "      <td>Tier 3</td>\n",
              "      <td>Supermarket Type1</td>\n",
              "      <td>994.7052</td>\n",
              "      <td>2</td>\n",
              "      <td>NC</td>\n",
              "    </tr>\n",
              "  </tbody>\n",
              "</table>\n",
              "</div>"
            ],
            "text/plain": [
              "  Item_Identifier  Item_Weight Item_Fat_Content  Item_Visibility  \\\n",
              "0           FDA15         9.30          Low Fat         0.016047   \n",
              "1           DRC01         5.92          Regular         0.019278   \n",
              "2           FDN15        17.50          Low Fat         0.016760   \n",
              "3           FDX07        19.20          Regular         0.000000   \n",
              "4           NCD19         8.93          Low Fat         0.000000   \n",
              "\n",
              "               Item_Type  Item_MRP Outlet_Identifier  \\\n",
              "0                  Dairy  249.8092            OUT049   \n",
              "1            Soft Drinks   48.2692            OUT018   \n",
              "2                   Meat  141.6180            OUT049   \n",
              "3  Fruits and Vegetables  182.0950            OUT010   \n",
              "4              Household   53.8614            OUT013   \n",
              "\n",
              "   Outlet_Establishment_Year Outlet_Size Outlet_Location_Type  \\\n",
              "0                       1999      Medium               Tier 1   \n",
              "1                       2009      Medium               Tier 3   \n",
              "2                       1999      Medium               Tier 1   \n",
              "3                       1998       Small               Tier 3   \n",
              "4                       1987        High               Tier 3   \n",
              "\n",
              "         Outlet_Type  Item_Outlet_Sales Item_Weight_revised  \\\n",
              "0  Supermarket Type1          3735.1380                   2   \n",
              "1  Supermarket Type2           443.4228                   1   \n",
              "2  Supermarket Type1          2097.2700                   4   \n",
              "3      Grocery Store           732.3800                   4   \n",
              "4  Supermarket Type1           994.7052                   2   \n",
              "\n",
              "  item_identified_first_3  \n",
              "0                      FD  \n",
              "1                      DR  \n",
              "2                      FD  \n",
              "3                      FD  \n",
              "4                      NC  "
            ]
          },
          "execution_count": 25,
          "metadata": {},
          "output_type": "execute_result"
        }
      ],
      "source": [
        "data.head()"
      ]
    },
    {
      "cell_type": "code",
      "execution_count": null,
      "id": "77be1d8b",
      "metadata": {
        "id": "77be1d8b",
        "outputId": "663e3ea0-fed6-4aeb-f931-490d061cb1aa"
      },
      "outputs": [
        {
          "data": {
            "text/plain": [
              "FD    6125\n",
              "NC    1599\n",
              "DR     799\n",
              "Name: item_identified_first_3, dtype: int64"
            ]
          },
          "execution_count": 26,
          "metadata": {},
          "output_type": "execute_result"
        }
      ],
      "source": [
        "data['item_identified_first_3'].value_counts()"
      ]
    },
    {
      "cell_type": "code",
      "execution_count": null,
      "id": "9c61583d",
      "metadata": {
        "id": "9c61583d",
        "outputId": "2d987ef7-7f6c-480a-9dfb-483b26c8c4c5"
      },
      "outputs": [
        {
          "data": {
            "text/plain": [
              "Item_Identifier               object\n",
              "Item_Weight                  float64\n",
              "Item_Fat_Content              object\n",
              "Item_Visibility              float64\n",
              "Item_Type                     object\n",
              "Item_MRP                     float64\n",
              "Outlet_Identifier             object\n",
              "Outlet_Establishment_Year      int64\n",
              "Outlet_Size                   object\n",
              "Outlet_Location_Type          object\n",
              "Outlet_Type                   object\n",
              "Item_Outlet_Sales            float64\n",
              "Item_Weight_revised           object\n",
              "item_identified_first_3       object\n",
              "dtype: object"
            ]
          },
          "execution_count": 27,
          "metadata": {},
          "output_type": "execute_result"
        }
      ],
      "source": [
        "data.dtypes"
      ]
    },
    {
      "cell_type": "code",
      "execution_count": null,
      "id": "562e2547",
      "metadata": {
        "id": "562e2547",
        "outputId": "e4b31613-65dd-410f-c84f-1ff32570186e"
      },
      "outputs": [
        {
          "data": {
            "text/plain": [
              "Low Fat    5089\n",
              "Regular    2889\n",
              "LF          316\n",
              "reg         117\n",
              "low fat     112\n",
              "Name: Item_Fat_Content, dtype: int64"
            ]
          },
          "execution_count": 28,
          "metadata": {},
          "output_type": "execute_result"
        }
      ],
      "source": [
        "data['Item_Fat_Content'].value_counts()"
      ]
    },
    {
      "cell_type": "code",
      "execution_count": null,
      "id": "800860be",
      "metadata": {
        "id": "800860be"
      },
      "outputs": [],
      "source": [
        "data.loc[data[\"Item_Fat_Content\"] == \"LF\", \"Item_Fat_Content\"] = 'Low Fat'"
      ]
    },
    {
      "cell_type": "code",
      "execution_count": null,
      "id": "ec02c3cc",
      "metadata": {
        "id": "ec02c3cc"
      },
      "outputs": [],
      "source": [
        "data.loc[data[\"Item_Fat_Content\"] == \"low fat\", \"Item_Fat_Content\"] = 'Low Fat'"
      ]
    },
    {
      "cell_type": "code",
      "execution_count": null,
      "id": "cc6d215d",
      "metadata": {
        "id": "cc6d215d"
      },
      "outputs": [],
      "source": [
        "data.loc[data[\"Item_Fat_Content\"] == \"reg\", \"Item_Fat_Content\"] = 'Regular'"
      ]
    },
    {
      "cell_type": "code",
      "execution_count": null,
      "id": "dd3f7082",
      "metadata": {
        "id": "dd3f7082",
        "outputId": "a36c10a9-5b4c-4d86-c95e-93f6bb6d3bda"
      },
      "outputs": [
        {
          "data": {
            "text/plain": [
              "Low Fat    5517\n",
              "Regular    3006\n",
              "Name: Item_Fat_Content, dtype: int64"
            ]
          },
          "execution_count": 32,
          "metadata": {},
          "output_type": "execute_result"
        }
      ],
      "source": [
        "data['Item_Fat_Content'].value_counts()"
      ]
    },
    {
      "cell_type": "code",
      "execution_count": null,
      "id": "49023806",
      "metadata": {
        "id": "49023806",
        "outputId": "b911549a-5365-45c7-8a8b-9f822c03dad8"
      },
      "outputs": [
        {
          "data": {
            "text/plain": [
              "Supermarket Type1    5577\n",
              "Grocery Store        1083\n",
              "Supermarket Type3     935\n",
              "Supermarket Type2     928\n",
              "Name: Outlet_Type, dtype: int64"
            ]
          },
          "execution_count": 33,
          "metadata": {},
          "output_type": "execute_result"
        }
      ],
      "source": [
        "data['Outlet_Type'].value_counts()"
      ]
    },
    {
      "cell_type": "code",
      "execution_count": null,
      "id": "797cf00d",
      "metadata": {
        "id": "797cf00d",
        "outputId": "d6c73d32-2843-451b-a0d2-6fa26d16b604"
      },
      "outputs": [
        {
          "data": {
            "text/plain": [
              "Item_Identifier               object\n",
              "Item_Weight                  float64\n",
              "Item_Fat_Content              object\n",
              "Item_Visibility              float64\n",
              "Item_Type                     object\n",
              "Item_MRP                     float64\n",
              "Outlet_Identifier             object\n",
              "Outlet_Establishment_Year      int64\n",
              "Outlet_Size                   object\n",
              "Outlet_Location_Type          object\n",
              "Outlet_Type                   object\n",
              "Item_Outlet_Sales            float64\n",
              "Item_Weight_revised           object\n",
              "item_identified_first_3       object\n",
              "dtype: object"
            ]
          },
          "execution_count": 34,
          "metadata": {},
          "output_type": "execute_result"
        }
      ],
      "source": [
        "data.dtypes"
      ]
    },
    {
      "cell_type": "code",
      "execution_count": null,
      "id": "959ae71b",
      "metadata": {
        "id": "959ae71b"
      },
      "outputs": [],
      "source": [
        "data['Item_Visibility'] = data['Item_Visibility'].astype('float')\n",
        "data['Item_MRP'] = data['Item_MRP'].astype('float')\n",
        "data['Item_Outlet_Sales'] = data['Item_Outlet_Sales'].astype('float')\n",
        "data['Item_Weight_revised'] = data['Item_Weight_revised'].astype('int64')"
      ]
    },
    {
      "cell_type": "code",
      "execution_count": null,
      "id": "2411ac56",
      "metadata": {
        "id": "2411ac56",
        "outputId": "bbbf2214-aadf-4a8a-fd10-02d09e30a6c9"
      },
      "outputs": [
        {
          "data": {
            "text/plain": [
              "Item_Identifier               object\n",
              "Item_Weight                  float64\n",
              "Item_Fat_Content              object\n",
              "Item_Visibility              float64\n",
              "Item_Type                     object\n",
              "Item_MRP                     float64\n",
              "Outlet_Identifier             object\n",
              "Outlet_Establishment_Year      int64\n",
              "Outlet_Size                   object\n",
              "Outlet_Location_Type          object\n",
              "Outlet_Type                   object\n",
              "Item_Outlet_Sales            float64\n",
              "Item_Weight_revised            int64\n",
              "item_identified_first_3       object\n",
              "dtype: object"
            ]
          },
          "execution_count": 36,
          "metadata": {},
          "output_type": "execute_result"
        }
      ],
      "source": [
        "data.dtypes"
      ]
    },
    {
      "cell_type": "code",
      "execution_count": null,
      "id": "f7bddeb3",
      "metadata": {
        "id": "f7bddeb3",
        "outputId": "3119513b-a8db-47d7-a5e1-1dae83d9da82"
      },
      "outputs": [
        {
          "data": {
            "text/html": [
              "<div>\n",
              "<style scoped>\n",
              "    .dataframe tbody tr th:only-of-type {\n",
              "        vertical-align: middle;\n",
              "    }\n",
              "\n",
              "    .dataframe tbody tr th {\n",
              "        vertical-align: top;\n",
              "    }\n",
              "\n",
              "    .dataframe thead th {\n",
              "        text-align: right;\n",
              "    }\n",
              "</style>\n",
              "<table border=\"1\" class=\"dataframe\">\n",
              "  <thead>\n",
              "    <tr style=\"text-align: right;\">\n",
              "      <th></th>\n",
              "      <th>Item_Fat_Content</th>\n",
              "      <th>Item_Visibility</th>\n",
              "      <th>Item_Type</th>\n",
              "      <th>Item_MRP</th>\n",
              "      <th>Outlet_Identifier</th>\n",
              "      <th>Outlet_Establishment_Year</th>\n",
              "      <th>Outlet_Size</th>\n",
              "      <th>Outlet_Location_Type</th>\n",
              "      <th>Outlet_Type</th>\n",
              "      <th>Item_Outlet_Sales</th>\n",
              "      <th>Item_Weight_revised</th>\n",
              "      <th>item_identified_first_3</th>\n",
              "    </tr>\n",
              "  </thead>\n",
              "  <tbody>\n",
              "    <tr>\n",
              "      <th>0</th>\n",
              "      <td>Low Fat</td>\n",
              "      <td>0.016047</td>\n",
              "      <td>Dairy</td>\n",
              "      <td>249.8092</td>\n",
              "      <td>OUT049</td>\n",
              "      <td>1999</td>\n",
              "      <td>Medium</td>\n",
              "      <td>Tier 1</td>\n",
              "      <td>Supermarket Type1</td>\n",
              "      <td>3735.1380</td>\n",
              "      <td>2</td>\n",
              "      <td>FD</td>\n",
              "    </tr>\n",
              "    <tr>\n",
              "      <th>1</th>\n",
              "      <td>Regular</td>\n",
              "      <td>0.019278</td>\n",
              "      <td>Soft Drinks</td>\n",
              "      <td>48.2692</td>\n",
              "      <td>OUT018</td>\n",
              "      <td>2009</td>\n",
              "      <td>Medium</td>\n",
              "      <td>Tier 3</td>\n",
              "      <td>Supermarket Type2</td>\n",
              "      <td>443.4228</td>\n",
              "      <td>1</td>\n",
              "      <td>DR</td>\n",
              "    </tr>\n",
              "    <tr>\n",
              "      <th>2</th>\n",
              "      <td>Low Fat</td>\n",
              "      <td>0.016760</td>\n",
              "      <td>Meat</td>\n",
              "      <td>141.6180</td>\n",
              "      <td>OUT049</td>\n",
              "      <td>1999</td>\n",
              "      <td>Medium</td>\n",
              "      <td>Tier 1</td>\n",
              "      <td>Supermarket Type1</td>\n",
              "      <td>2097.2700</td>\n",
              "      <td>4</td>\n",
              "      <td>FD</td>\n",
              "    </tr>\n",
              "    <tr>\n",
              "      <th>3</th>\n",
              "      <td>Regular</td>\n",
              "      <td>0.000000</td>\n",
              "      <td>Fruits and Vegetables</td>\n",
              "      <td>182.0950</td>\n",
              "      <td>OUT010</td>\n",
              "      <td>1998</td>\n",
              "      <td>Small</td>\n",
              "      <td>Tier 3</td>\n",
              "      <td>Grocery Store</td>\n",
              "      <td>732.3800</td>\n",
              "      <td>4</td>\n",
              "      <td>FD</td>\n",
              "    </tr>\n",
              "    <tr>\n",
              "      <th>4</th>\n",
              "      <td>Low Fat</td>\n",
              "      <td>0.000000</td>\n",
              "      <td>Household</td>\n",
              "      <td>53.8614</td>\n",
              "      <td>OUT013</td>\n",
              "      <td>1987</td>\n",
              "      <td>High</td>\n",
              "      <td>Tier 3</td>\n",
              "      <td>Supermarket Type1</td>\n",
              "      <td>994.7052</td>\n",
              "      <td>2</td>\n",
              "      <td>NC</td>\n",
              "    </tr>\n",
              "    <tr>\n",
              "      <th>...</th>\n",
              "      <td>...</td>\n",
              "      <td>...</td>\n",
              "      <td>...</td>\n",
              "      <td>...</td>\n",
              "      <td>...</td>\n",
              "      <td>...</td>\n",
              "      <td>...</td>\n",
              "      <td>...</td>\n",
              "      <td>...</td>\n",
              "      <td>...</td>\n",
              "      <td>...</td>\n",
              "      <td>...</td>\n",
              "    </tr>\n",
              "    <tr>\n",
              "      <th>8518</th>\n",
              "      <td>Low Fat</td>\n",
              "      <td>0.056783</td>\n",
              "      <td>Snack Foods</td>\n",
              "      <td>214.5218</td>\n",
              "      <td>OUT013</td>\n",
              "      <td>1987</td>\n",
              "      <td>High</td>\n",
              "      <td>Tier 3</td>\n",
              "      <td>Supermarket Type1</td>\n",
              "      <td>2778.3834</td>\n",
              "      <td>1</td>\n",
              "      <td>FD</td>\n",
              "    </tr>\n",
              "    <tr>\n",
              "      <th>8519</th>\n",
              "      <td>Regular</td>\n",
              "      <td>0.046982</td>\n",
              "      <td>Baking Goods</td>\n",
              "      <td>108.1570</td>\n",
              "      <td>OUT045</td>\n",
              "      <td>2002</td>\n",
              "      <td>Small</td>\n",
              "      <td>Tier 2</td>\n",
              "      <td>Supermarket Type1</td>\n",
              "      <td>549.2850</td>\n",
              "      <td>1</td>\n",
              "      <td>FD</td>\n",
              "    </tr>\n",
              "    <tr>\n",
              "      <th>8520</th>\n",
              "      <td>Low Fat</td>\n",
              "      <td>0.035186</td>\n",
              "      <td>Health and Hygiene</td>\n",
              "      <td>85.1224</td>\n",
              "      <td>OUT035</td>\n",
              "      <td>2004</td>\n",
              "      <td>Small</td>\n",
              "      <td>Tier 2</td>\n",
              "      <td>Supermarket Type1</td>\n",
              "      <td>1193.1136</td>\n",
              "      <td>2</td>\n",
              "      <td>NC</td>\n",
              "    </tr>\n",
              "    <tr>\n",
              "      <th>8521</th>\n",
              "      <td>Regular</td>\n",
              "      <td>0.145221</td>\n",
              "      <td>Snack Foods</td>\n",
              "      <td>103.1332</td>\n",
              "      <td>OUT018</td>\n",
              "      <td>2009</td>\n",
              "      <td>Medium</td>\n",
              "      <td>Tier 3</td>\n",
              "      <td>Supermarket Type2</td>\n",
              "      <td>1845.5976</td>\n",
              "      <td>1</td>\n",
              "      <td>FD</td>\n",
              "    </tr>\n",
              "    <tr>\n",
              "      <th>8522</th>\n",
              "      <td>Low Fat</td>\n",
              "      <td>0.044878</td>\n",
              "      <td>Soft Drinks</td>\n",
              "      <td>75.4670</td>\n",
              "      <td>OUT046</td>\n",
              "      <td>1997</td>\n",
              "      <td>Small</td>\n",
              "      <td>Tier 1</td>\n",
              "      <td>Supermarket Type1</td>\n",
              "      <td>765.6700</td>\n",
              "      <td>3</td>\n",
              "      <td>DR</td>\n",
              "    </tr>\n",
              "  </tbody>\n",
              "</table>\n",
              "<p>8523 rows × 12 columns</p>\n",
              "</div>"
            ],
            "text/plain": [
              "     Item_Fat_Content  Item_Visibility              Item_Type  Item_MRP  \\\n",
              "0             Low Fat         0.016047                  Dairy  249.8092   \n",
              "1             Regular         0.019278            Soft Drinks   48.2692   \n",
              "2             Low Fat         0.016760                   Meat  141.6180   \n",
              "3             Regular         0.000000  Fruits and Vegetables  182.0950   \n",
              "4             Low Fat         0.000000              Household   53.8614   \n",
              "...               ...              ...                    ...       ...   \n",
              "8518          Low Fat         0.056783            Snack Foods  214.5218   \n",
              "8519          Regular         0.046982           Baking Goods  108.1570   \n",
              "8520          Low Fat         0.035186     Health and Hygiene   85.1224   \n",
              "8521          Regular         0.145221            Snack Foods  103.1332   \n",
              "8522          Low Fat         0.044878            Soft Drinks   75.4670   \n",
              "\n",
              "     Outlet_Identifier  Outlet_Establishment_Year Outlet_Size  \\\n",
              "0               OUT049                       1999      Medium   \n",
              "1               OUT018                       2009      Medium   \n",
              "2               OUT049                       1999      Medium   \n",
              "3               OUT010                       1998       Small   \n",
              "4               OUT013                       1987        High   \n",
              "...                ...                        ...         ...   \n",
              "8518            OUT013                       1987        High   \n",
              "8519            OUT045                       2002       Small   \n",
              "8520            OUT035                       2004       Small   \n",
              "8521            OUT018                       2009      Medium   \n",
              "8522            OUT046                       1997       Small   \n",
              "\n",
              "     Outlet_Location_Type        Outlet_Type  Item_Outlet_Sales  \\\n",
              "0                  Tier 1  Supermarket Type1          3735.1380   \n",
              "1                  Tier 3  Supermarket Type2           443.4228   \n",
              "2                  Tier 1  Supermarket Type1          2097.2700   \n",
              "3                  Tier 3      Grocery Store           732.3800   \n",
              "4                  Tier 3  Supermarket Type1           994.7052   \n",
              "...                   ...                ...                ...   \n",
              "8518               Tier 3  Supermarket Type1          2778.3834   \n",
              "8519               Tier 2  Supermarket Type1           549.2850   \n",
              "8520               Tier 2  Supermarket Type1          1193.1136   \n",
              "8521               Tier 3  Supermarket Type2          1845.5976   \n",
              "8522               Tier 1  Supermarket Type1           765.6700   \n",
              "\n",
              "      Item_Weight_revised item_identified_first_3  \n",
              "0                       2                      FD  \n",
              "1                       1                      DR  \n",
              "2                       4                      FD  \n",
              "3                       4                      FD  \n",
              "4                       2                      NC  \n",
              "...                   ...                     ...  \n",
              "8518                    1                      FD  \n",
              "8519                    1                      FD  \n",
              "8520                    2                      NC  \n",
              "8521                    1                      FD  \n",
              "8522                    3                      DR  \n",
              "\n",
              "[8523 rows x 12 columns]"
            ]
          },
          "execution_count": 37,
          "metadata": {},
          "output_type": "execute_result"
        }
      ],
      "source": [
        "data.drop(['Item_Identifier', 'Item_Weight'], axis=1)"
      ]
    },
    {
      "cell_type": "code",
      "execution_count": null,
      "id": "32ae18ac",
      "metadata": {
        "id": "32ae18ac",
        "outputId": "74e8ed8b-c983-40c4-dae5-29003079a64b"
      },
      "outputs": [
        {
          "data": {
            "text/plain": [
              "FD    6125\n",
              "NC    1599\n",
              "DR     799\n",
              "Name: item_identified_first_3, dtype: int64"
            ]
          },
          "execution_count": 38,
          "metadata": {},
          "output_type": "execute_result"
        }
      ],
      "source": [
        "data['item_identified_first_3'].value_counts()"
      ]
    },
    {
      "cell_type": "code",
      "execution_count": null,
      "id": "f1165cf0",
      "metadata": {
        "id": "f1165cf0",
        "outputId": "0a0655df-940d-4286-9f59-1ea5a98f4c15"
      },
      "outputs": [
        {
          "data": {
            "text/plain": [
              "Item_Identifier               object\n",
              "Item_Weight                  float64\n",
              "Item_Fat_Content              object\n",
              "Item_Visibility              float64\n",
              "Item_Type                     object\n",
              "Item_MRP                     float64\n",
              "Outlet_Identifier             object\n",
              "Outlet_Establishment_Year      int64\n",
              "Outlet_Size                   object\n",
              "Outlet_Location_Type          object\n",
              "Outlet_Type                   object\n",
              "Item_Outlet_Sales            float64\n",
              "Item_Weight_revised            int64\n",
              "item_identified_first_3       object\n",
              "dtype: object"
            ]
          },
          "execution_count": 39,
          "metadata": {},
          "output_type": "execute_result"
        }
      ],
      "source": [
        "data.dtypes\n"
      ]
    },
    {
      "cell_type": "markdown",
      "id": "73f33502",
      "metadata": {
        "id": "73f33502"
      },
      "source": [
        "# Pre-processing Outlet size in ordinal using Label Encoder"
      ]
    },
    {
      "cell_type": "code",
      "execution_count": null,
      "id": "c3d46075",
      "metadata": {
        "id": "c3d46075",
        "outputId": "5654d2ca-4dfe-4034-a398-2f5b1ba2551d"
      },
      "outputs": [
        {
          "data": {
            "text/plain": [
              "array([1, 2, 0])"
            ]
          },
          "execution_count": 40,
          "metadata": {},
          "output_type": "execute_result"
        }
      ],
      "source": [
        "from sklearn import preprocessing\n",
        "\n",
        "# label_encoder object knows how to understand word labels.\n",
        "label_encoder = preprocessing.LabelEncoder()\n",
        "\n",
        "# Encode labels in column 'species'.\n",
        "data['Outlet_Size']= label_encoder.fit_transform(data['Outlet_Size'])\n",
        "data['Item_Fat_Content']= label_encoder.fit_transform(data['Item_Fat_Content'])\n",
        "\n",
        "data['Outlet_Size'].unique()"
      ]
    },
    {
      "cell_type": "code",
      "execution_count": null,
      "id": "930a8b2e",
      "metadata": {
        "id": "930a8b2e",
        "outputId": "944b14a0-5193-4425-8451-eda8e7472260"
      },
      "outputs": [
        {
          "data": {
            "text/html": [
              "<div>\n",
              "<style scoped>\n",
              "    .dataframe tbody tr th:only-of-type {\n",
              "        vertical-align: middle;\n",
              "    }\n",
              "\n",
              "    .dataframe tbody tr th {\n",
              "        vertical-align: top;\n",
              "    }\n",
              "\n",
              "    .dataframe thead th {\n",
              "        text-align: right;\n",
              "    }\n",
              "</style>\n",
              "<table border=\"1\" class=\"dataframe\">\n",
              "  <thead>\n",
              "    <tr style=\"text-align: right;\">\n",
              "      <th></th>\n",
              "      <th>Item_Identifier</th>\n",
              "      <th>Item_Weight</th>\n",
              "      <th>Item_Fat_Content</th>\n",
              "      <th>Item_Visibility</th>\n",
              "      <th>Item_Type</th>\n",
              "      <th>Item_MRP</th>\n",
              "      <th>Outlet_Identifier</th>\n",
              "      <th>Outlet_Establishment_Year</th>\n",
              "      <th>Outlet_Size</th>\n",
              "      <th>Outlet_Location_Type</th>\n",
              "      <th>Outlet_Type</th>\n",
              "      <th>Item_Outlet_Sales</th>\n",
              "      <th>Item_Weight_revised</th>\n",
              "      <th>item_identified_first_3</th>\n",
              "    </tr>\n",
              "  </thead>\n",
              "  <tbody>\n",
              "    <tr>\n",
              "      <th>0</th>\n",
              "      <td>FDA15</td>\n",
              "      <td>9.30</td>\n",
              "      <td>0</td>\n",
              "      <td>0.016047</td>\n",
              "      <td>Dairy</td>\n",
              "      <td>249.8092</td>\n",
              "      <td>OUT049</td>\n",
              "      <td>1999</td>\n",
              "      <td>1</td>\n",
              "      <td>Tier 1</td>\n",
              "      <td>Supermarket Type1</td>\n",
              "      <td>3735.1380</td>\n",
              "      <td>2</td>\n",
              "      <td>FD</td>\n",
              "    </tr>\n",
              "    <tr>\n",
              "      <th>1</th>\n",
              "      <td>DRC01</td>\n",
              "      <td>5.92</td>\n",
              "      <td>1</td>\n",
              "      <td>0.019278</td>\n",
              "      <td>Soft Drinks</td>\n",
              "      <td>48.2692</td>\n",
              "      <td>OUT018</td>\n",
              "      <td>2009</td>\n",
              "      <td>1</td>\n",
              "      <td>Tier 3</td>\n",
              "      <td>Supermarket Type2</td>\n",
              "      <td>443.4228</td>\n",
              "      <td>1</td>\n",
              "      <td>DR</td>\n",
              "    </tr>\n",
              "    <tr>\n",
              "      <th>2</th>\n",
              "      <td>FDN15</td>\n",
              "      <td>17.50</td>\n",
              "      <td>0</td>\n",
              "      <td>0.016760</td>\n",
              "      <td>Meat</td>\n",
              "      <td>141.6180</td>\n",
              "      <td>OUT049</td>\n",
              "      <td>1999</td>\n",
              "      <td>1</td>\n",
              "      <td>Tier 1</td>\n",
              "      <td>Supermarket Type1</td>\n",
              "      <td>2097.2700</td>\n",
              "      <td>4</td>\n",
              "      <td>FD</td>\n",
              "    </tr>\n",
              "    <tr>\n",
              "      <th>3</th>\n",
              "      <td>FDX07</td>\n",
              "      <td>19.20</td>\n",
              "      <td>1</td>\n",
              "      <td>0.000000</td>\n",
              "      <td>Fruits and Vegetables</td>\n",
              "      <td>182.0950</td>\n",
              "      <td>OUT010</td>\n",
              "      <td>1998</td>\n",
              "      <td>2</td>\n",
              "      <td>Tier 3</td>\n",
              "      <td>Grocery Store</td>\n",
              "      <td>732.3800</td>\n",
              "      <td>4</td>\n",
              "      <td>FD</td>\n",
              "    </tr>\n",
              "    <tr>\n",
              "      <th>4</th>\n",
              "      <td>NCD19</td>\n",
              "      <td>8.93</td>\n",
              "      <td>0</td>\n",
              "      <td>0.000000</td>\n",
              "      <td>Household</td>\n",
              "      <td>53.8614</td>\n",
              "      <td>OUT013</td>\n",
              "      <td>1987</td>\n",
              "      <td>0</td>\n",
              "      <td>Tier 3</td>\n",
              "      <td>Supermarket Type1</td>\n",
              "      <td>994.7052</td>\n",
              "      <td>2</td>\n",
              "      <td>NC</td>\n",
              "    </tr>\n",
              "  </tbody>\n",
              "</table>\n",
              "</div>"
            ],
            "text/plain": [
              "  Item_Identifier  Item_Weight  Item_Fat_Content  Item_Visibility  \\\n",
              "0           FDA15         9.30                 0         0.016047   \n",
              "1           DRC01         5.92                 1         0.019278   \n",
              "2           FDN15        17.50                 0         0.016760   \n",
              "3           FDX07        19.20                 1         0.000000   \n",
              "4           NCD19         8.93                 0         0.000000   \n",
              "\n",
              "               Item_Type  Item_MRP Outlet_Identifier  \\\n",
              "0                  Dairy  249.8092            OUT049   \n",
              "1            Soft Drinks   48.2692            OUT018   \n",
              "2                   Meat  141.6180            OUT049   \n",
              "3  Fruits and Vegetables  182.0950            OUT010   \n",
              "4              Household   53.8614            OUT013   \n",
              "\n",
              "   Outlet_Establishment_Year  Outlet_Size Outlet_Location_Type  \\\n",
              "0                       1999            1               Tier 1   \n",
              "1                       2009            1               Tier 3   \n",
              "2                       1999            1               Tier 1   \n",
              "3                       1998            2               Tier 3   \n",
              "4                       1987            0               Tier 3   \n",
              "\n",
              "         Outlet_Type  Item_Outlet_Sales  Item_Weight_revised  \\\n",
              "0  Supermarket Type1          3735.1380                    2   \n",
              "1  Supermarket Type2           443.4228                    1   \n",
              "2  Supermarket Type1          2097.2700                    4   \n",
              "3      Grocery Store           732.3800                    4   \n",
              "4  Supermarket Type1           994.7052                    2   \n",
              "\n",
              "  item_identified_first_3  \n",
              "0                      FD  \n",
              "1                      DR  \n",
              "2                      FD  \n",
              "3                      FD  \n",
              "4                      NC  "
            ]
          },
          "execution_count": 41,
          "metadata": {},
          "output_type": "execute_result"
        }
      ],
      "source": [
        "data.head()"
      ]
    },
    {
      "cell_type": "code",
      "execution_count": null,
      "id": "0e532900",
      "metadata": {
        "scrolled": true,
        "id": "0e532900",
        "outputId": "527327a6-fa62-4a75-c09d-b442a7dbc50b"
      },
      "outputs": [
        {
          "data": {
            "text/html": [
              "<div>\n",
              "<style scoped>\n",
              "    .dataframe tbody tr th:only-of-type {\n",
              "        vertical-align: middle;\n",
              "    }\n",
              "\n",
              "    .dataframe tbody tr th {\n",
              "        vertical-align: top;\n",
              "    }\n",
              "\n",
              "    .dataframe thead th {\n",
              "        text-align: right;\n",
              "    }\n",
              "</style>\n",
              "<table border=\"1\" class=\"dataframe\">\n",
              "  <thead>\n",
              "    <tr style=\"text-align: right;\">\n",
              "      <th></th>\n",
              "      <th>Item_Identifier</th>\n",
              "      <th>Item_Weight</th>\n",
              "      <th>Item_Fat_Content</th>\n",
              "      <th>Item_Visibility</th>\n",
              "      <th>Item_Type</th>\n",
              "      <th>Item_MRP</th>\n",
              "      <th>Outlet_Identifier</th>\n",
              "      <th>Outlet_Establishment_Year</th>\n",
              "      <th>Outlet_Size</th>\n",
              "      <th>Outlet_Location_Type</th>\n",
              "      <th>Outlet_Type</th>\n",
              "      <th>Item_Outlet_Sales</th>\n",
              "      <th>Item_Weight_revised</th>\n",
              "      <th>item_identified_first_3</th>\n",
              "    </tr>\n",
              "  </thead>\n",
              "  <tbody>\n",
              "    <tr>\n",
              "      <th>0</th>\n",
              "      <td>FDA15</td>\n",
              "      <td>9.30</td>\n",
              "      <td>0</td>\n",
              "      <td>0.016047</td>\n",
              "      <td>Dairy</td>\n",
              "      <td>249.8092</td>\n",
              "      <td>OUT049</td>\n",
              "      <td>1999</td>\n",
              "      <td>1</td>\n",
              "      <td>Tier 1</td>\n",
              "      <td>Supermarket Type1</td>\n",
              "      <td>3735.1380</td>\n",
              "      <td>2</td>\n",
              "      <td>FD</td>\n",
              "    </tr>\n",
              "    <tr>\n",
              "      <th>1</th>\n",
              "      <td>DRC01</td>\n",
              "      <td>5.92</td>\n",
              "      <td>1</td>\n",
              "      <td>0.019278</td>\n",
              "      <td>Soft Drinks</td>\n",
              "      <td>48.2692</td>\n",
              "      <td>OUT018</td>\n",
              "      <td>2009</td>\n",
              "      <td>1</td>\n",
              "      <td>Tier 3</td>\n",
              "      <td>Supermarket Type2</td>\n",
              "      <td>443.4228</td>\n",
              "      <td>1</td>\n",
              "      <td>DR</td>\n",
              "    </tr>\n",
              "    <tr>\n",
              "      <th>2</th>\n",
              "      <td>FDN15</td>\n",
              "      <td>17.50</td>\n",
              "      <td>0</td>\n",
              "      <td>0.016760</td>\n",
              "      <td>Meat</td>\n",
              "      <td>141.6180</td>\n",
              "      <td>OUT049</td>\n",
              "      <td>1999</td>\n",
              "      <td>1</td>\n",
              "      <td>Tier 1</td>\n",
              "      <td>Supermarket Type1</td>\n",
              "      <td>2097.2700</td>\n",
              "      <td>4</td>\n",
              "      <td>FD</td>\n",
              "    </tr>\n",
              "    <tr>\n",
              "      <th>3</th>\n",
              "      <td>FDX07</td>\n",
              "      <td>19.20</td>\n",
              "      <td>1</td>\n",
              "      <td>0.000000</td>\n",
              "      <td>Fruits and Vegetables</td>\n",
              "      <td>182.0950</td>\n",
              "      <td>OUT010</td>\n",
              "      <td>1998</td>\n",
              "      <td>2</td>\n",
              "      <td>Tier 3</td>\n",
              "      <td>Grocery Store</td>\n",
              "      <td>732.3800</td>\n",
              "      <td>4</td>\n",
              "      <td>FD</td>\n",
              "    </tr>\n",
              "    <tr>\n",
              "      <th>4</th>\n",
              "      <td>NCD19</td>\n",
              "      <td>8.93</td>\n",
              "      <td>0</td>\n",
              "      <td>0.000000</td>\n",
              "      <td>Household</td>\n",
              "      <td>53.8614</td>\n",
              "      <td>OUT013</td>\n",
              "      <td>1987</td>\n",
              "      <td>0</td>\n",
              "      <td>Tier 3</td>\n",
              "      <td>Supermarket Type1</td>\n",
              "      <td>994.7052</td>\n",
              "      <td>2</td>\n",
              "      <td>NC</td>\n",
              "    </tr>\n",
              "  </tbody>\n",
              "</table>\n",
              "</div>"
            ],
            "text/plain": [
              "  Item_Identifier  Item_Weight  Item_Fat_Content  Item_Visibility  \\\n",
              "0           FDA15         9.30                 0         0.016047   \n",
              "1           DRC01         5.92                 1         0.019278   \n",
              "2           FDN15        17.50                 0         0.016760   \n",
              "3           FDX07        19.20                 1         0.000000   \n",
              "4           NCD19         8.93                 0         0.000000   \n",
              "\n",
              "               Item_Type  Item_MRP Outlet_Identifier  \\\n",
              "0                  Dairy  249.8092            OUT049   \n",
              "1            Soft Drinks   48.2692            OUT018   \n",
              "2                   Meat  141.6180            OUT049   \n",
              "3  Fruits and Vegetables  182.0950            OUT010   \n",
              "4              Household   53.8614            OUT013   \n",
              "\n",
              "   Outlet_Establishment_Year  Outlet_Size Outlet_Location_Type  \\\n",
              "0                       1999            1               Tier 1   \n",
              "1                       2009            1               Tier 3   \n",
              "2                       1999            1               Tier 1   \n",
              "3                       1998            2               Tier 3   \n",
              "4                       1987            0               Tier 3   \n",
              "\n",
              "         Outlet_Type  Item_Outlet_Sales  Item_Weight_revised  \\\n",
              "0  Supermarket Type1          3735.1380                    2   \n",
              "1  Supermarket Type2           443.4228                    1   \n",
              "2  Supermarket Type1          2097.2700                    4   \n",
              "3      Grocery Store           732.3800                    4   \n",
              "4  Supermarket Type1           994.7052                    2   \n",
              "\n",
              "  item_identified_first_3  \n",
              "0                      FD  \n",
              "1                      DR  \n",
              "2                      FD  \n",
              "3                      FD  \n",
              "4                      NC  "
            ]
          },
          "execution_count": 42,
          "metadata": {},
          "output_type": "execute_result"
        }
      ],
      "source": [
        "data.head()"
      ]
    },
    {
      "cell_type": "code",
      "execution_count": null,
      "id": "debd8145",
      "metadata": {
        "id": "debd8145"
      },
      "outputs": [],
      "source": [
        "del data['Item_Identifier']"
      ]
    },
    {
      "cell_type": "code",
      "execution_count": null,
      "id": "9aafb922",
      "metadata": {
        "id": "9aafb922"
      },
      "outputs": [],
      "source": [
        "#One hot encoding of the columns Item type, Outlet id, outlet location, item identi\n",
        "categorical_cols = ['Item_Type','Outlet_Identifier', 'Outlet_Location_Type', 'Outlet_Type', 'item_identified_first_3']"
      ]
    },
    {
      "cell_type": "code",
      "execution_count": null,
      "id": "2c0f30a3",
      "metadata": {
        "id": "2c0f30a3"
      },
      "outputs": [],
      "source": [
        "train_data = pd.get_dummies(data, columns = categorical_cols)"
      ]
    },
    {
      "cell_type": "code",
      "execution_count": null,
      "id": "8b23559a",
      "metadata": {
        "id": "8b23559a",
        "outputId": "553e3ba6-a518-42d7-8709-c2ef04c41cf7"
      },
      "outputs": [
        {
          "data": {
            "text/html": [
              "<div>\n",
              "<style scoped>\n",
              "    .dataframe tbody tr th:only-of-type {\n",
              "        vertical-align: middle;\n",
              "    }\n",
              "\n",
              "    .dataframe tbody tr th {\n",
              "        vertical-align: top;\n",
              "    }\n",
              "\n",
              "    .dataframe thead th {\n",
              "        text-align: right;\n",
              "    }\n",
              "</style>\n",
              "<table border=\"1\" class=\"dataframe\">\n",
              "  <thead>\n",
              "    <tr style=\"text-align: right;\">\n",
              "      <th></th>\n",
              "      <th>Item_Weight</th>\n",
              "      <th>Item_Fat_Content</th>\n",
              "      <th>Item_Visibility</th>\n",
              "      <th>Item_MRP</th>\n",
              "      <th>Outlet_Establishment_Year</th>\n",
              "      <th>Outlet_Size</th>\n",
              "      <th>Item_Outlet_Sales</th>\n",
              "      <th>Item_Weight_revised</th>\n",
              "      <th>Item_Type_Baking Goods</th>\n",
              "      <th>Item_Type_Breads</th>\n",
              "      <th>...</th>\n",
              "      <th>Outlet_Location_Type_Tier 1</th>\n",
              "      <th>Outlet_Location_Type_Tier 2</th>\n",
              "      <th>Outlet_Location_Type_Tier 3</th>\n",
              "      <th>Outlet_Type_Grocery Store</th>\n",
              "      <th>Outlet_Type_Supermarket Type1</th>\n",
              "      <th>Outlet_Type_Supermarket Type2</th>\n",
              "      <th>Outlet_Type_Supermarket Type3</th>\n",
              "      <th>item_identified_first_3_DR</th>\n",
              "      <th>item_identified_first_3_FD</th>\n",
              "      <th>item_identified_first_3_NC</th>\n",
              "    </tr>\n",
              "  </thead>\n",
              "  <tbody>\n",
              "    <tr>\n",
              "      <th>0</th>\n",
              "      <td>9.30</td>\n",
              "      <td>0</td>\n",
              "      <td>0.016047</td>\n",
              "      <td>249.8092</td>\n",
              "      <td>1999</td>\n",
              "      <td>1</td>\n",
              "      <td>3735.1380</td>\n",
              "      <td>2</td>\n",
              "      <td>0</td>\n",
              "      <td>0</td>\n",
              "      <td>...</td>\n",
              "      <td>1</td>\n",
              "      <td>0</td>\n",
              "      <td>0</td>\n",
              "      <td>0</td>\n",
              "      <td>1</td>\n",
              "      <td>0</td>\n",
              "      <td>0</td>\n",
              "      <td>0</td>\n",
              "      <td>1</td>\n",
              "      <td>0</td>\n",
              "    </tr>\n",
              "    <tr>\n",
              "      <th>1</th>\n",
              "      <td>5.92</td>\n",
              "      <td>1</td>\n",
              "      <td>0.019278</td>\n",
              "      <td>48.2692</td>\n",
              "      <td>2009</td>\n",
              "      <td>1</td>\n",
              "      <td>443.4228</td>\n",
              "      <td>1</td>\n",
              "      <td>0</td>\n",
              "      <td>0</td>\n",
              "      <td>...</td>\n",
              "      <td>0</td>\n",
              "      <td>0</td>\n",
              "      <td>1</td>\n",
              "      <td>0</td>\n",
              "      <td>0</td>\n",
              "      <td>1</td>\n",
              "      <td>0</td>\n",
              "      <td>1</td>\n",
              "      <td>0</td>\n",
              "      <td>0</td>\n",
              "    </tr>\n",
              "    <tr>\n",
              "      <th>2</th>\n",
              "      <td>17.50</td>\n",
              "      <td>0</td>\n",
              "      <td>0.016760</td>\n",
              "      <td>141.6180</td>\n",
              "      <td>1999</td>\n",
              "      <td>1</td>\n",
              "      <td>2097.2700</td>\n",
              "      <td>4</td>\n",
              "      <td>0</td>\n",
              "      <td>0</td>\n",
              "      <td>...</td>\n",
              "      <td>1</td>\n",
              "      <td>0</td>\n",
              "      <td>0</td>\n",
              "      <td>0</td>\n",
              "      <td>1</td>\n",
              "      <td>0</td>\n",
              "      <td>0</td>\n",
              "      <td>0</td>\n",
              "      <td>1</td>\n",
              "      <td>0</td>\n",
              "    </tr>\n",
              "    <tr>\n",
              "      <th>3</th>\n",
              "      <td>19.20</td>\n",
              "      <td>1</td>\n",
              "      <td>0.000000</td>\n",
              "      <td>182.0950</td>\n",
              "      <td>1998</td>\n",
              "      <td>2</td>\n",
              "      <td>732.3800</td>\n",
              "      <td>4</td>\n",
              "      <td>0</td>\n",
              "      <td>0</td>\n",
              "      <td>...</td>\n",
              "      <td>0</td>\n",
              "      <td>0</td>\n",
              "      <td>1</td>\n",
              "      <td>1</td>\n",
              "      <td>0</td>\n",
              "      <td>0</td>\n",
              "      <td>0</td>\n",
              "      <td>0</td>\n",
              "      <td>1</td>\n",
              "      <td>0</td>\n",
              "    </tr>\n",
              "    <tr>\n",
              "      <th>4</th>\n",
              "      <td>8.93</td>\n",
              "      <td>0</td>\n",
              "      <td>0.000000</td>\n",
              "      <td>53.8614</td>\n",
              "      <td>1987</td>\n",
              "      <td>0</td>\n",
              "      <td>994.7052</td>\n",
              "      <td>2</td>\n",
              "      <td>0</td>\n",
              "      <td>0</td>\n",
              "      <td>...</td>\n",
              "      <td>0</td>\n",
              "      <td>0</td>\n",
              "      <td>1</td>\n",
              "      <td>0</td>\n",
              "      <td>1</td>\n",
              "      <td>0</td>\n",
              "      <td>0</td>\n",
              "      <td>0</td>\n",
              "      <td>0</td>\n",
              "      <td>1</td>\n",
              "    </tr>\n",
              "  </tbody>\n",
              "</table>\n",
              "<p>5 rows × 44 columns</p>\n",
              "</div>"
            ],
            "text/plain": [
              "   Item_Weight  Item_Fat_Content  Item_Visibility  Item_MRP  \\\n",
              "0         9.30                 0         0.016047  249.8092   \n",
              "1         5.92                 1         0.019278   48.2692   \n",
              "2        17.50                 0         0.016760  141.6180   \n",
              "3        19.20                 1         0.000000  182.0950   \n",
              "4         8.93                 0         0.000000   53.8614   \n",
              "\n",
              "   Outlet_Establishment_Year  Outlet_Size  Item_Outlet_Sales  \\\n",
              "0                       1999            1          3735.1380   \n",
              "1                       2009            1           443.4228   \n",
              "2                       1999            1          2097.2700   \n",
              "3                       1998            2           732.3800   \n",
              "4                       1987            0           994.7052   \n",
              "\n",
              "   Item_Weight_revised  Item_Type_Baking Goods  Item_Type_Breads  ...  \\\n",
              "0                    2                       0                 0  ...   \n",
              "1                    1                       0                 0  ...   \n",
              "2                    4                       0                 0  ...   \n",
              "3                    4                       0                 0  ...   \n",
              "4                    2                       0                 0  ...   \n",
              "\n",
              "   Outlet_Location_Type_Tier 1  Outlet_Location_Type_Tier 2  \\\n",
              "0                            1                            0   \n",
              "1                            0                            0   \n",
              "2                            1                            0   \n",
              "3                            0                            0   \n",
              "4                            0                            0   \n",
              "\n",
              "   Outlet_Location_Type_Tier 3  Outlet_Type_Grocery Store  \\\n",
              "0                            0                          0   \n",
              "1                            1                          0   \n",
              "2                            0                          0   \n",
              "3                            1                          1   \n",
              "4                            1                          0   \n",
              "\n",
              "   Outlet_Type_Supermarket Type1  Outlet_Type_Supermarket Type2  \\\n",
              "0                              1                              0   \n",
              "1                              0                              1   \n",
              "2                              1                              0   \n",
              "3                              0                              0   \n",
              "4                              1                              0   \n",
              "\n",
              "   Outlet_Type_Supermarket Type3  item_identified_first_3_DR  \\\n",
              "0                              0                           0   \n",
              "1                              0                           1   \n",
              "2                              0                           0   \n",
              "3                              0                           0   \n",
              "4                              0                           0   \n",
              "\n",
              "   item_identified_first_3_FD  item_identified_first_3_NC  \n",
              "0                           1                           0  \n",
              "1                           0                           0  \n",
              "2                           1                           0  \n",
              "3                           1                           0  \n",
              "4                           0                           1  \n",
              "\n",
              "[5 rows x 44 columns]"
            ]
          },
          "execution_count": 46,
          "metadata": {},
          "output_type": "execute_result"
        }
      ],
      "source": [
        "train_data.head()"
      ]
    },
    {
      "cell_type": "code",
      "execution_count": null,
      "id": "5ee665e3",
      "metadata": {
        "id": "5ee665e3",
        "outputId": "6caa3a55-7e58-4fd8-b2d3-a75c1371a32d"
      },
      "outputs": [
        {
          "data": {
            "text/plain": [
              "Item_Weight                        1463\n",
              "Item_Fat_Content                      0\n",
              "Item_Visibility                       0\n",
              "Item_MRP                              0\n",
              "Outlet_Establishment_Year             0\n",
              "Outlet_Size                           0\n",
              "Item_Outlet_Sales                     0\n",
              "Item_Weight_revised                   0\n",
              "Item_Type_Baking Goods                0\n",
              "Item_Type_Breads                      0\n",
              "Item_Type_Breakfast                   0\n",
              "Item_Type_Canned                      0\n",
              "Item_Type_Dairy                       0\n",
              "Item_Type_Frozen Foods                0\n",
              "Item_Type_Fruits and Vegetables       0\n",
              "Item_Type_Hard Drinks                 0\n",
              "Item_Type_Health and Hygiene          0\n",
              "Item_Type_Household                   0\n",
              "Item_Type_Meat                        0\n",
              "Item_Type_Others                      0\n",
              "Item_Type_Seafood                     0\n",
              "Item_Type_Snack Foods                 0\n",
              "Item_Type_Soft Drinks                 0\n",
              "Item_Type_Starchy Foods               0\n",
              "Outlet_Identifier_OUT010              0\n",
              "Outlet_Identifier_OUT013              0\n",
              "Outlet_Identifier_OUT017              0\n",
              "Outlet_Identifier_OUT018              0\n",
              "Outlet_Identifier_OUT019              0\n",
              "Outlet_Identifier_OUT027              0\n",
              "Outlet_Identifier_OUT035              0\n",
              "Outlet_Identifier_OUT045              0\n",
              "Outlet_Identifier_OUT046              0\n",
              "Outlet_Identifier_OUT049              0\n",
              "Outlet_Location_Type_Tier 1           0\n",
              "Outlet_Location_Type_Tier 2           0\n",
              "Outlet_Location_Type_Tier 3           0\n",
              "Outlet_Type_Grocery Store             0\n",
              "Outlet_Type_Supermarket Type1         0\n",
              "Outlet_Type_Supermarket Type2         0\n",
              "Outlet_Type_Supermarket Type3         0\n",
              "item_identified_first_3_DR            0\n",
              "item_identified_first_3_FD            0\n",
              "item_identified_first_3_NC            0\n",
              "dtype: int64"
            ]
          },
          "execution_count": 47,
          "metadata": {},
          "output_type": "execute_result"
        }
      ],
      "source": [
        "train_data.isnull().sum()"
      ]
    },
    {
      "cell_type": "code",
      "execution_count": null,
      "id": "81fe82e3",
      "metadata": {
        "id": "81fe82e3"
      },
      "outputs": [],
      "source": [
        "del train_data['Item_Weight']"
      ]
    },
    {
      "cell_type": "code",
      "execution_count": null,
      "id": "0b241031",
      "metadata": {
        "id": "0b241031",
        "outputId": "e72c1101-c574-43b5-e492-dab19db37d66"
      },
      "outputs": [
        {
          "data": {
            "text/plain": [
              "Item_Fat_Content                     int32\n",
              "Item_Visibility                    float64\n",
              "Item_MRP                           float64\n",
              "Outlet_Establishment_Year            int64\n",
              "Outlet_Size                          int32\n",
              "Item_Outlet_Sales                  float64\n",
              "Item_Weight_revised                  int64\n",
              "Item_Type_Baking Goods               uint8\n",
              "Item_Type_Breads                     uint8\n",
              "Item_Type_Breakfast                  uint8\n",
              "Item_Type_Canned                     uint8\n",
              "Item_Type_Dairy                      uint8\n",
              "Item_Type_Frozen Foods               uint8\n",
              "Item_Type_Fruits and Vegetables      uint8\n",
              "Item_Type_Hard Drinks                uint8\n",
              "Item_Type_Health and Hygiene         uint8\n",
              "Item_Type_Household                  uint8\n",
              "Item_Type_Meat                       uint8\n",
              "Item_Type_Others                     uint8\n",
              "Item_Type_Seafood                    uint8\n",
              "Item_Type_Snack Foods                uint8\n",
              "Item_Type_Soft Drinks                uint8\n",
              "Item_Type_Starchy Foods              uint8\n",
              "Outlet_Identifier_OUT010             uint8\n",
              "Outlet_Identifier_OUT013             uint8\n",
              "Outlet_Identifier_OUT017             uint8\n",
              "Outlet_Identifier_OUT018             uint8\n",
              "Outlet_Identifier_OUT019             uint8\n",
              "Outlet_Identifier_OUT027             uint8\n",
              "Outlet_Identifier_OUT035             uint8\n",
              "Outlet_Identifier_OUT045             uint8\n",
              "Outlet_Identifier_OUT046             uint8\n",
              "Outlet_Identifier_OUT049             uint8\n",
              "Outlet_Location_Type_Tier 1          uint8\n",
              "Outlet_Location_Type_Tier 2          uint8\n",
              "Outlet_Location_Type_Tier 3          uint8\n",
              "Outlet_Type_Grocery Store            uint8\n",
              "Outlet_Type_Supermarket Type1        uint8\n",
              "Outlet_Type_Supermarket Type2        uint8\n",
              "Outlet_Type_Supermarket Type3        uint8\n",
              "item_identified_first_3_DR           uint8\n",
              "item_identified_first_3_FD           uint8\n",
              "item_identified_first_3_NC           uint8\n",
              "dtype: object"
            ]
          },
          "execution_count": 49,
          "metadata": {},
          "output_type": "execute_result"
        }
      ],
      "source": [
        "train_data.dtypes"
      ]
    },
    {
      "cell_type": "code",
      "execution_count": null,
      "id": "e34297f4",
      "metadata": {
        "id": "e34297f4"
      },
      "outputs": [],
      "source": []
    },
    {
      "cell_type": "code",
      "execution_count": null,
      "id": "a2a60c85",
      "metadata": {
        "id": "a2a60c85"
      },
      "outputs": [],
      "source": [
        "# separating the independent and dependent variables\n",
        "\n",
        "# storing all the independent variables as X\n",
        "X = train_data.drop('Item_Outlet_Sales', axis=1)\n",
        "\n",
        "# storing the dependent variable as y\n",
        "y = train_data['Item_Outlet_Sales']"
      ]
    },
    {
      "cell_type": "code",
      "execution_count": null,
      "id": "a93aa2e4",
      "metadata": {
        "id": "a93aa2e4",
        "outputId": "4c9da96e-5003-42b6-bcb9-7c8f9c9419ec"
      },
      "outputs": [
        {
          "data": {
            "text/plain": [
              "((8523, 42), (8523,))"
            ]
          },
          "execution_count": 51,
          "metadata": {},
          "output_type": "execute_result"
        }
      ],
      "source": [
        "X.shape, y.shape"
      ]
    },
    {
      "cell_type": "code",
      "execution_count": null,
      "id": "dc6573f3",
      "metadata": {
        "id": "dc6573f3"
      },
      "outputs": [],
      "source": [
        "X_train, X_test, y_train, y_test = train_test_split(X,y,test_size=0.33, random_state=42)"
      ]
    },
    {
      "cell_type": "code",
      "execution_count": null,
      "id": "df9985aa",
      "metadata": {
        "id": "df9985aa"
      },
      "outputs": [],
      "source": []
    },
    {
      "cell_type": "code",
      "execution_count": null,
      "id": "3238f36d",
      "metadata": {
        "id": "3238f36d",
        "outputId": "b5a6ed27-c85c-47b8-f316-eeafacd29917"
      },
      "outputs": [
        {
          "data": {
            "text/plain": [
              "(((5710, 42), (5710,)), ((2813, 42), (2813,)))"
            ]
          },
          "execution_count": 53,
          "metadata": {},
          "output_type": "execute_result"
        }
      ],
      "source": [
        "# shape of training and validation set\n",
        "(X_train.shape, y_train.shape), (X_test.shape, y_test.shape)"
      ]
    },
    {
      "cell_type": "code",
      "execution_count": null,
      "id": "4e37a7bc",
      "metadata": {
        "id": "4e37a7bc",
        "outputId": "963e91ff-9dce-40b5-d57d-e3f10c615339"
      },
      "outputs": [
        {
          "name": "stdout",
          "output_type": "stream",
          "text": [
            "2.10.0\n"
          ]
        }
      ],
      "source": [
        "# checking the version of keras\n",
        "import keras\n",
        "print(keras.__version__)"
      ]
    },
    {
      "cell_type": "code",
      "execution_count": null,
      "id": "c909042b",
      "metadata": {
        "id": "c909042b",
        "outputId": "3adf1d04-2832-4d17-cb51-05621b239d4d"
      },
      "outputs": [
        {
          "name": "stdout",
          "output_type": "stream",
          "text": [
            "2.10.0\n"
          ]
        }
      ],
      "source": [
        "# checking the version of tensorflow\n",
        "import tensorflow as tf\n",
        "print(tf.__version__)"
      ]
    },
    {
      "cell_type": "code",
      "execution_count": null,
      "id": "d9b08fd6",
      "metadata": {
        "id": "d9b08fd6"
      },
      "outputs": [],
      "source": [
        "# importing the sequential model\n",
        "from keras.models import Sequential"
      ]
    },
    {
      "cell_type": "code",
      "execution_count": null,
      "id": "690434c3",
      "metadata": {
        "id": "690434c3"
      },
      "outputs": [],
      "source": [
        "# importing different layers from keras\n",
        "from keras.layers import InputLayer, Dense"
      ]
    },
    {
      "cell_type": "code",
      "execution_count": null,
      "id": "8acd07ad",
      "metadata": {
        "id": "8acd07ad",
        "outputId": "6650317c-9506-415b-abfa-0cdae13d4a97"
      },
      "outputs": [
        {
          "data": {
            "text/plain": [
              "(8523, 42)"
            ]
          },
          "execution_count": 58,
          "metadata": {},
          "output_type": "execute_result"
        }
      ],
      "source": [
        "# number of input neurons\n",
        "X.shape"
      ]
    },
    {
      "cell_type": "code",
      "execution_count": null,
      "id": "1d934c16",
      "metadata": {
        "id": "1d934c16"
      },
      "outputs": [],
      "source": [
        "# defining input neurons\n",
        "input_neurons = X_train.shape[1]"
      ]
    },
    {
      "cell_type": "code",
      "execution_count": null,
      "id": "f9fe8603",
      "metadata": {
        "id": "f9fe8603"
      },
      "outputs": [],
      "source": [
        "output_neurons = 1"
      ]
    },
    {
      "cell_type": "code",
      "execution_count": null,
      "id": "feaa7c4b",
      "metadata": {
        "id": "feaa7c4b"
      },
      "outputs": [],
      "source": [
        "# define hidden layers and neuron in each layer\n",
        "number_of_hidden_layers = 2\n",
        "neuron_hidden_layer_1 = 10\n",
        "neuron_hidden_layer_2 = 5"
      ]
    },
    {
      "cell_type": "code",
      "execution_count": null,
      "id": "0951b72d",
      "metadata": {
        "id": "0951b72d"
      },
      "outputs": [],
      "source": [
        "model = Sequential()\n",
        "model.add(InputLayer(input_shape=(input_neurons,)))\n",
        "model.add(Dense(units=neuron_hidden_layer_1, activation='LeakyReLU'))\n",
        "model.add(Dense(units=neuron_hidden_layer_2, activation='LeakyReLU'))\n",
        "model.add(Dense(units=output_neurons, activation='linear'))"
      ]
    },
    {
      "cell_type": "code",
      "execution_count": null,
      "id": "6f8b5463",
      "metadata": {
        "id": "6f8b5463",
        "outputId": "3ee5e216-9e39-48d1-bc30-11a29554bb4e"
      },
      "outputs": [
        {
          "name": "stdout",
          "output_type": "stream",
          "text": [
            "Model: \"sequential\"\n",
            "_________________________________________________________________\n",
            " Layer (type)                Output Shape              Param #   \n",
            "=================================================================\n",
            " dense (Dense)               (None, 10)                430       \n",
            "                                                                 \n",
            " dense_1 (Dense)             (None, 5)                 55        \n",
            "                                                                 \n",
            " dense_2 (Dense)             (None, 1)                 6         \n",
            "                                                                 \n",
            "=================================================================\n",
            "Total params: 491\n",
            "Trainable params: 491\n",
            "Non-trainable params: 0\n",
            "_________________________________________________________________\n"
          ]
        }
      ],
      "source": [
        "model.summary()"
      ]
    },
    {
      "cell_type": "code",
      "execution_count": null,
      "id": "15a17e66",
      "metadata": {
        "id": "15a17e66"
      },
      "outputs": [],
      "source": [
        "from keras.losses import mean_squared_error\n",
        "import tensorflow.keras.backend as K\n",
        "def root_mean_squared_error(y_true, y_pred):\n",
        "    return K.sqrt(mean_squared_error(y_true, y_pred))\n",
        "\n",
        "model.compile(optimizer = \"adam\", loss = root_mean_squared_error,\n",
        "          metrics =[root_mean_squared_error])"
      ]
    },
    {
      "cell_type": "code",
      "execution_count": null,
      "id": "ed7ab905",
      "metadata": {
        "id": "ed7ab905",
        "outputId": "b979961a-ff08-43ab-a586-e10326e714d5"
      },
      "outputs": [
        {
          "name": "stdout",
          "output_type": "stream",
          "text": [
            "Epoch 1/150\n",
            "179/179 [==============================] - 1s 2ms/step - loss: 1651.6805 - root_mean_squared_error: 1651.6805 - val_loss: 1267.5219 - val_root_mean_squared_error: 1267.5219\n",
            "Epoch 2/150\n",
            "179/179 [==============================] - 0s 1ms/step - loss: 1290.6321 - root_mean_squared_error: 1290.6321 - val_loss: 1252.5950 - val_root_mean_squared_error: 1252.5950\n",
            "Epoch 3/150\n",
            "179/179 [==============================] - 0s 1ms/step - loss: 1276.3092 - root_mean_squared_error: 1276.3092 - val_loss: 1236.2322 - val_root_mean_squared_error: 1236.2322\n",
            "Epoch 4/150\n",
            "179/179 [==============================] - 0s 1ms/step - loss: 1260.4376 - root_mean_squared_error: 1260.4376 - val_loss: 1220.6512 - val_root_mean_squared_error: 1220.6512\n",
            "Epoch 5/150\n",
            "179/179 [==============================] - 0s 1ms/step - loss: 1238.2513 - root_mean_squared_error: 1238.2513 - val_loss: 1195.0704 - val_root_mean_squared_error: 1195.0704\n",
            "Epoch 6/150\n",
            "179/179 [==============================] - 0s 1ms/step - loss: 1207.7705 - root_mean_squared_error: 1207.7705 - val_loss: 1159.5874 - val_root_mean_squared_error: 1159.5874\n",
            "Epoch 7/150\n",
            "179/179 [==============================] - 0s 1ms/step - loss: 1167.6431 - root_mean_squared_error: 1167.6431 - val_loss: 1126.9056 - val_root_mean_squared_error: 1126.9056\n",
            "Epoch 8/150\n",
            "179/179 [==============================] - 0s 1ms/step - loss: 1121.7775 - root_mean_squared_error: 1121.7775 - val_loss: 1073.6112 - val_root_mean_squared_error: 1073.6112\n",
            "Epoch 9/150\n",
            "179/179 [==============================] - 0s 1ms/step - loss: 1079.0774 - root_mean_squared_error: 1079.0774 - val_loss: 1033.4934 - val_root_mean_squared_error: 1033.4934\n",
            "Epoch 10/150\n",
            "179/179 [==============================] - 0s 1ms/step - loss: 1046.9330 - root_mean_squared_error: 1046.9330 - val_loss: 1005.9246 - val_root_mean_squared_error: 1005.9246\n",
            "Epoch 11/150\n",
            "179/179 [==============================] - 0s 1ms/step - loss: 1030.7415 - root_mean_squared_error: 1030.7415 - val_loss: 1005.2190 - val_root_mean_squared_error: 1005.2190\n",
            "Epoch 12/150\n",
            "179/179 [==============================] - 0s 1ms/step - loss: 1026.0845 - root_mean_squared_error: 1026.0845 - val_loss: 995.6458 - val_root_mean_squared_error: 995.6458\n",
            "Epoch 13/150\n",
            "179/179 [==============================] - 0s 1ms/step - loss: 1024.4839 - root_mean_squared_error: 1024.4839 - val_loss: 995.5854 - val_root_mean_squared_error: 995.5854\n",
            "Epoch 14/150\n",
            "179/179 [==============================] - 0s 1ms/step - loss: 1022.7349 - root_mean_squared_error: 1022.7349 - val_loss: 996.8229 - val_root_mean_squared_error: 996.8229\n",
            "Epoch 15/150\n",
            "179/179 [==============================] - 0s 1ms/step - loss: 1020.9098 - root_mean_squared_error: 1020.9098 - val_loss: 995.6661 - val_root_mean_squared_error: 995.6661\n",
            "Epoch 16/150\n",
            "179/179 [==============================] - 0s 1ms/step - loss: 1020.3416 - root_mean_squared_error: 1020.3416 - val_loss: 993.8718 - val_root_mean_squared_error: 993.8718\n",
            "Epoch 17/150\n",
            "179/179 [==============================] - 0s 1ms/step - loss: 1018.8559 - root_mean_squared_error: 1018.8559 - val_loss: 990.9153 - val_root_mean_squared_error: 990.9153\n",
            "Epoch 18/150\n",
            "179/179 [==============================] - 0s 1ms/step - loss: 1017.2200 - root_mean_squared_error: 1017.2200 - val_loss: 995.0213 - val_root_mean_squared_error: 995.0213\n",
            "Epoch 19/150\n",
            "179/179 [==============================] - 0s 1ms/step - loss: 1016.2993 - root_mean_squared_error: 1016.2993 - val_loss: 986.8387 - val_root_mean_squared_error: 986.8387\n",
            "Epoch 20/150\n",
            "179/179 [==============================] - 0s 1ms/step - loss: 1015.5208 - root_mean_squared_error: 1015.5208 - val_loss: 984.8815 - val_root_mean_squared_error: 984.8815\n",
            "Epoch 21/150\n",
            "179/179 [==============================] - 0s 1ms/step - loss: 1013.1201 - root_mean_squared_error: 1013.1201 - val_loss: 985.0974 - val_root_mean_squared_error: 985.0974\n",
            "Epoch 22/150\n",
            "179/179 [==============================] - 0s 1ms/step - loss: 1012.2357 - root_mean_squared_error: 1012.2357 - val_loss: 982.3508 - val_root_mean_squared_error: 982.3508\n",
            "Epoch 23/150\n",
            "179/179 [==============================] - 0s 1ms/step - loss: 1010.6908 - root_mean_squared_error: 1010.6908 - val_loss: 980.5094 - val_root_mean_squared_error: 980.5094\n",
            "Epoch 24/150\n",
            "179/179 [==============================] - 0s 1ms/step - loss: 1009.1035 - root_mean_squared_error: 1009.1035 - val_loss: 979.7056 - val_root_mean_squared_error: 979.7056\n",
            "Epoch 25/150\n",
            "179/179 [==============================] - 0s 1ms/step - loss: 1007.6918 - root_mean_squared_error: 1007.6918 - val_loss: 980.0192 - val_root_mean_squared_error: 980.0192\n",
            "Epoch 26/150\n",
            "179/179 [==============================] - 0s 1ms/step - loss: 1005.8951 - root_mean_squared_error: 1005.8951 - val_loss: 980.0813 - val_root_mean_squared_error: 980.0813\n",
            "Epoch 27/150\n",
            "179/179 [==============================] - 0s 1ms/step - loss: 1005.0999 - root_mean_squared_error: 1005.0999 - val_loss: 975.8276 - val_root_mean_squared_error: 975.8276\n",
            "Epoch 28/150\n",
            "179/179 [==============================] - 0s 1ms/step - loss: 1003.8338 - root_mean_squared_error: 1003.8338 - val_loss: 974.5058 - val_root_mean_squared_error: 974.5058\n",
            "Epoch 29/150\n",
            "179/179 [==============================] - 0s 1ms/step - loss: 1001.9733 - root_mean_squared_error: 1001.9733 - val_loss: 972.2358 - val_root_mean_squared_error: 972.2358\n",
            "Epoch 30/150\n",
            "179/179 [==============================] - 0s 1ms/step - loss: 1001.3777 - root_mean_squared_error: 1001.3777 - val_loss: 970.0836 - val_root_mean_squared_error: 970.0836\n",
            "Epoch 31/150\n",
            "179/179 [==============================] - 0s 1ms/step - loss: 998.5580 - root_mean_squared_error: 998.5580 - val_loss: 968.7523 - val_root_mean_squared_error: 968.7523\n",
            "Epoch 32/150\n",
            "179/179 [==============================] - 0s 1ms/step - loss: 997.2691 - root_mean_squared_error: 997.2691 - val_loss: 966.7414 - val_root_mean_squared_error: 966.7414\n",
            "Epoch 33/150\n",
            "179/179 [==============================] - 0s 1ms/step - loss: 994.7732 - root_mean_squared_error: 994.7732 - val_loss: 965.3137 - val_root_mean_squared_error: 965.3137\n",
            "Epoch 34/150\n",
            "179/179 [==============================] - 0s 1ms/step - loss: 993.3522 - root_mean_squared_error: 993.3522 - val_loss: 964.6428 - val_root_mean_squared_error: 964.6428\n",
            "Epoch 35/150\n",
            "179/179 [==============================] - 0s 1ms/step - loss: 993.3152 - root_mean_squared_error: 993.3152 - val_loss: 961.2161 - val_root_mean_squared_error: 961.2161\n",
            "Epoch 36/150\n",
            "179/179 [==============================] - 0s 1ms/step - loss: 989.1971 - root_mean_squared_error: 989.1971 - val_loss: 960.8123 - val_root_mean_squared_error: 960.8123\n",
            "Epoch 37/150\n",
            "179/179 [==============================] - 0s 1ms/step - loss: 987.7889 - root_mean_squared_error: 987.7889 - val_loss: 958.5944 - val_root_mean_squared_error: 958.5944\n",
            "Epoch 38/150\n",
            "179/179 [==============================] - 0s 1ms/step - loss: 985.2826 - root_mean_squared_error: 985.2826 - val_loss: 959.7758 - val_root_mean_squared_error: 959.7758\n",
            "Epoch 39/150\n",
            "179/179 [==============================] - 0s 1ms/step - loss: 984.3568 - root_mean_squared_error: 984.3568 - val_loss: 956.4133 - val_root_mean_squared_error: 956.4133\n",
            "Epoch 40/150\n",
            "179/179 [==============================] - 0s 1ms/step - loss: 982.3193 - root_mean_squared_error: 982.3193 - val_loss: 950.9202 - val_root_mean_squared_error: 950.9202\n",
            "Epoch 41/150\n",
            "179/179 [==============================] - 0s 1ms/step - loss: 979.1696 - root_mean_squared_error: 979.1696 - val_loss: 950.4332 - val_root_mean_squared_error: 950.4332\n",
            "Epoch 42/150\n",
            "179/179 [==============================] - 0s 1ms/step - loss: 977.8032 - root_mean_squared_error: 977.8032 - val_loss: 948.1642 - val_root_mean_squared_error: 948.1642\n",
            "Epoch 43/150\n",
            "179/179 [==============================] - 0s 1ms/step - loss: 974.6114 - root_mean_squared_error: 974.6114 - val_loss: 956.4332 - val_root_mean_squared_error: 956.4332\n",
            "Epoch 44/150\n",
            "179/179 [==============================] - 0s 1ms/step - loss: 975.7768 - root_mean_squared_error: 975.7768 - val_loss: 942.4744 - val_root_mean_squared_error: 942.4744\n",
            "Epoch 45/150\n",
            "179/179 [==============================] - 0s 1ms/step - loss: 971.2451 - root_mean_squared_error: 971.2451 - val_loss: 938.8671 - val_root_mean_squared_error: 938.8671\n",
            "Epoch 46/150\n",
            "179/179 [==============================] - 0s 1ms/step - loss: 967.4045 - root_mean_squared_error: 967.4045 - val_loss: 937.2449 - val_root_mean_squared_error: 937.2449\n",
            "Epoch 47/150\n",
            "179/179 [==============================] - 0s 1ms/step - loss: 965.5364 - root_mean_squared_error: 965.5364 - val_loss: 934.1890 - val_root_mean_squared_error: 934.1890\n",
            "Epoch 48/150\n",
            "179/179 [==============================] - 0s 1ms/step - loss: 963.7603 - root_mean_squared_error: 963.7603 - val_loss: 931.0097 - val_root_mean_squared_error: 931.0097\n",
            "Epoch 49/150\n",
            "179/179 [==============================] - 0s 1ms/step - loss: 960.2975 - root_mean_squared_error: 960.2975 - val_loss: 929.8143 - val_root_mean_squared_error: 929.8143\n",
            "Epoch 50/150\n",
            "179/179 [==============================] - 0s 1ms/step - loss: 956.6152 - root_mean_squared_error: 956.6152 - val_loss: 929.0172 - val_root_mean_squared_error: 929.0172\n",
            "Epoch 51/150\n",
            "179/179 [==============================] - 0s 1ms/step - loss: 954.8187 - root_mean_squared_error: 954.8187 - val_loss: 923.7223 - val_root_mean_squared_error: 923.7223\n",
            "Epoch 52/150\n",
            "179/179 [==============================] - 0s 1ms/step - loss: 950.6869 - root_mean_squared_error: 950.6869 - val_loss: 920.2399 - val_root_mean_squared_error: 920.2399\n",
            "Epoch 53/150\n",
            "179/179 [==============================] - 0s 1ms/step - loss: 947.2490 - root_mean_squared_error: 947.2490 - val_loss: 918.3373 - val_root_mean_squared_error: 918.3373\n",
            "Epoch 54/150\n",
            "179/179 [==============================] - 0s 1ms/step - loss: 943.9673 - root_mean_squared_error: 943.9673 - val_loss: 914.6118 - val_root_mean_squared_error: 914.6118\n",
            "Epoch 55/150\n",
            "179/179 [==============================] - 0s 1ms/step - loss: 940.3137 - root_mean_squared_error: 940.3137 - val_loss: 915.2369 - val_root_mean_squared_error: 915.2369\n",
            "Epoch 56/150\n",
            "179/179 [==============================] - 0s 1ms/step - loss: 936.0444 - root_mean_squared_error: 936.0444 - val_loss: 920.2270 - val_root_mean_squared_error: 920.2270\n",
            "Epoch 57/150\n",
            "179/179 [==============================] - 0s 1ms/step - loss: 933.1305 - root_mean_squared_error: 933.1305 - val_loss: 900.9751 - val_root_mean_squared_error: 900.9751\n",
            "Epoch 58/150\n",
            "179/179 [==============================] - 0s 1ms/step - loss: 927.1429 - root_mean_squared_error: 927.1429 - val_loss: 896.0405 - val_root_mean_squared_error: 896.0405\n",
            "Epoch 59/150\n",
            "179/179 [==============================] - 0s 1ms/step - loss: 923.7192 - root_mean_squared_error: 923.7192 - val_loss: 899.7931 - val_root_mean_squared_error: 899.7931\n",
            "Epoch 60/150\n",
            "179/179 [==============================] - 0s 1ms/step - loss: 919.9703 - root_mean_squared_error: 919.9703 - val_loss: 887.1891 - val_root_mean_squared_error: 887.1891\n",
            "Epoch 61/150\n",
            "179/179 [==============================] - 0s 1ms/step - loss: 914.1080 - root_mean_squared_error: 914.1080 - val_loss: 881.6276 - val_root_mean_squared_error: 881.6276\n",
            "Epoch 62/150\n",
            "179/179 [==============================] - 0s 1ms/step - loss: 911.5875 - root_mean_squared_error: 911.5875 - val_loss: 876.9833 - val_root_mean_squared_error: 876.9833\n",
            "Epoch 63/150\n",
            "179/179 [==============================] - 0s 1ms/step - loss: 904.2502 - root_mean_squared_error: 904.2502 - val_loss: 872.8121 - val_root_mean_squared_error: 872.8121\n",
            "Epoch 64/150\n",
            "179/179 [==============================] - 0s 1ms/step - loss: 899.4771 - root_mean_squared_error: 899.4771 - val_loss: 870.8915 - val_root_mean_squared_error: 870.8915\n",
            "Epoch 65/150\n",
            "179/179 [==============================] - 0s 1ms/step - loss: 896.3706 - root_mean_squared_error: 896.3706 - val_loss: 871.2372 - val_root_mean_squared_error: 871.2372\n",
            "Epoch 66/150\n",
            "179/179 [==============================] - 0s 1ms/step - loss: 889.5018 - root_mean_squared_error: 889.5018 - val_loss: 860.5939 - val_root_mean_squared_error: 860.5939\n",
            "Epoch 67/150\n",
            "179/179 [==============================] - 0s 1ms/step - loss: 885.3967 - root_mean_squared_error: 885.3967 - val_loss: 851.1569 - val_root_mean_squared_error: 851.1569\n",
            "Epoch 68/150\n",
            "179/179 [==============================] - 0s 1ms/step - loss: 876.9524 - root_mean_squared_error: 876.9524 - val_loss: 845.9702 - val_root_mean_squared_error: 845.9702\n",
            "Epoch 69/150\n",
            "179/179 [==============================] - 0s 1ms/step - loss: 875.3954 - root_mean_squared_error: 875.3954 - val_loss: 841.8737 - val_root_mean_squared_error: 841.8737\n",
            "Epoch 70/150\n",
            "179/179 [==============================] - 0s 1ms/step - loss: 872.1148 - root_mean_squared_error: 872.1148 - val_loss: 837.2969 - val_root_mean_squared_error: 837.2969\n",
            "Epoch 71/150\n",
            "179/179 [==============================] - 0s 1ms/step - loss: 869.3431 - root_mean_squared_error: 869.3431 - val_loss: 835.2639 - val_root_mean_squared_error: 835.2639\n",
            "Epoch 72/150\n",
            "179/179 [==============================] - 0s 1ms/step - loss: 862.4867 - root_mean_squared_error: 862.4867 - val_loss: 825.9039 - val_root_mean_squared_error: 825.9039\n",
            "Epoch 73/150\n",
            "179/179 [==============================] - 0s 1ms/step - loss: 856.1581 - root_mean_squared_error: 856.1581 - val_loss: 819.3968 - val_root_mean_squared_error: 819.3968\n",
            "Epoch 74/150\n",
            "179/179 [==============================] - 0s 1ms/step - loss: 851.0935 - root_mean_squared_error: 851.0935 - val_loss: 814.7856 - val_root_mean_squared_error: 814.7856\n",
            "Epoch 75/150\n",
            "179/179 [==============================] - 0s 1ms/step - loss: 844.2756 - root_mean_squared_error: 844.2756 - val_loss: 817.0965 - val_root_mean_squared_error: 817.0965\n",
            "Epoch 76/150\n",
            "179/179 [==============================] - 0s 1ms/step - loss: 844.4176 - root_mean_squared_error: 844.4176 - val_loss: 806.5164 - val_root_mean_squared_error: 806.5164\n",
            "Epoch 77/150\n",
            "179/179 [==============================] - 0s 1ms/step - loss: 837.5214 - root_mean_squared_error: 837.5214 - val_loss: 804.3480 - val_root_mean_squared_error: 804.3480\n",
            "Epoch 78/150\n",
            "179/179 [==============================] - 0s 1ms/step - loss: 838.0377 - root_mean_squared_error: 838.0377 - val_loss: 803.0460 - val_root_mean_squared_error: 803.0460\n",
            "Epoch 79/150\n",
            "179/179 [==============================] - 0s 1ms/step - loss: 831.6656 - root_mean_squared_error: 831.6656 - val_loss: 816.2205 - val_root_mean_squared_error: 816.2205\n",
            "Epoch 80/150\n",
            "179/179 [==============================] - 0s 1ms/step - loss: 832.4718 - root_mean_squared_error: 832.4718 - val_loss: 795.2809 - val_root_mean_squared_error: 795.2809\n",
            "Epoch 81/150\n",
            "179/179 [==============================] - 0s 1ms/step - loss: 828.3126 - root_mean_squared_error: 828.3126 - val_loss: 809.8333 - val_root_mean_squared_error: 809.8333\n",
            "Epoch 82/150\n",
            "179/179 [==============================] - 0s 1ms/step - loss: 827.7532 - root_mean_squared_error: 827.7532 - val_loss: 791.7909 - val_root_mean_squared_error: 791.7909\n",
            "Epoch 83/150\n",
            "179/179 [==============================] - 0s 1ms/step - loss: 825.0637 - root_mean_squared_error: 825.0637 - val_loss: 802.2239 - val_root_mean_squared_error: 802.2239\n",
            "Epoch 84/150\n",
            "179/179 [==============================] - 0s 1ms/step - loss: 824.9686 - root_mean_squared_error: 824.9686 - val_loss: 788.7838 - val_root_mean_squared_error: 788.7838\n",
            "Epoch 85/150\n",
            "179/179 [==============================] - 0s 1ms/step - loss: 820.6386 - root_mean_squared_error: 820.6386 - val_loss: 785.8844 - val_root_mean_squared_error: 785.8844\n",
            "Epoch 86/150\n",
            "179/179 [==============================] - 0s 1ms/step - loss: 817.7386 - root_mean_squared_error: 817.7386 - val_loss: 789.0573 - val_root_mean_squared_error: 789.0573\n",
            "Epoch 87/150\n",
            "179/179 [==============================] - 0s 1ms/step - loss: 819.5953 - root_mean_squared_error: 819.5953 - val_loss: 789.7896 - val_root_mean_squared_error: 789.7896\n",
            "Epoch 88/150\n",
            "179/179 [==============================] - 0s 1ms/step - loss: 818.6037 - root_mean_squared_error: 818.6037 - val_loss: 790.9411 - val_root_mean_squared_error: 790.9411\n",
            "Epoch 89/150\n",
            "179/179 [==============================] - 0s 1ms/step - loss: 815.8947 - root_mean_squared_error: 815.8947 - val_loss: 782.2136 - val_root_mean_squared_error: 782.2136\n",
            "Epoch 90/150\n"
          ]
        },
        {
          "name": "stdout",
          "output_type": "stream",
          "text": [
            "179/179 [==============================] - 0s 1ms/step - loss: 817.5764 - root_mean_squared_error: 817.5764 - val_loss: 778.7671 - val_root_mean_squared_error: 778.7671\n",
            "Epoch 91/150\n",
            "179/179 [==============================] - 0s 1ms/step - loss: 815.6642 - root_mean_squared_error: 815.6642 - val_loss: 779.8556 - val_root_mean_squared_error: 779.8556\n",
            "Epoch 92/150\n",
            "179/179 [==============================] - 0s 1ms/step - loss: 816.2387 - root_mean_squared_error: 816.2387 - val_loss: 781.7012 - val_root_mean_squared_error: 781.7012\n",
            "Epoch 93/150\n",
            "179/179 [==============================] - 0s 1ms/step - loss: 813.1370 - root_mean_squared_error: 813.1370 - val_loss: 798.0690 - val_root_mean_squared_error: 798.0690\n",
            "Epoch 94/150\n",
            "179/179 [==============================] - 0s 1ms/step - loss: 813.0428 - root_mean_squared_error: 813.0428 - val_loss: 775.1486 - val_root_mean_squared_error: 775.1486\n",
            "Epoch 95/150\n",
            "179/179 [==============================] - 0s 1ms/step - loss: 813.2149 - root_mean_squared_error: 813.2149 - val_loss: 776.9249 - val_root_mean_squared_error: 776.9249\n",
            "Epoch 96/150\n",
            "179/179 [==============================] - 0s 1ms/step - loss: 809.9116 - root_mean_squared_error: 809.9116 - val_loss: 777.1416 - val_root_mean_squared_error: 777.1416\n",
            "Epoch 97/150\n",
            "179/179 [==============================] - 0s 1ms/step - loss: 810.8256 - root_mean_squared_error: 810.8256 - val_loss: 791.0879 - val_root_mean_squared_error: 791.0879\n",
            "Epoch 98/150\n",
            "179/179 [==============================] - 0s 1ms/step - loss: 809.9067 - root_mean_squared_error: 809.9067 - val_loss: 772.8566 - val_root_mean_squared_error: 772.8566\n",
            "Epoch 99/150\n",
            "179/179 [==============================] - 0s 1ms/step - loss: 808.3559 - root_mean_squared_error: 808.3559 - val_loss: 780.5076 - val_root_mean_squared_error: 780.5076\n",
            "Epoch 100/150\n",
            "179/179 [==============================] - 0s 1ms/step - loss: 808.8546 - root_mean_squared_error: 808.8546 - val_loss: 819.5115 - val_root_mean_squared_error: 819.5115\n",
            "Epoch 101/150\n",
            "179/179 [==============================] - 0s 1ms/step - loss: 808.0740 - root_mean_squared_error: 808.0740 - val_loss: 770.2570 - val_root_mean_squared_error: 770.2570\n",
            "Epoch 102/150\n",
            "179/179 [==============================] - 0s 1ms/step - loss: 809.5187 - root_mean_squared_error: 809.5187 - val_loss: 774.7976 - val_root_mean_squared_error: 774.7976\n",
            "Epoch 103/150\n",
            "179/179 [==============================] - 0s 1ms/step - loss: 804.6899 - root_mean_squared_error: 804.6899 - val_loss: 771.6824 - val_root_mean_squared_error: 771.6824\n",
            "Epoch 104/150\n",
            "179/179 [==============================] - 0s 1ms/step - loss: 806.8752 - root_mean_squared_error: 806.8752 - val_loss: 769.8054 - val_root_mean_squared_error: 769.8054\n",
            "Epoch 105/150\n",
            "179/179 [==============================] - 0s 1ms/step - loss: 806.7397 - root_mean_squared_error: 806.7397 - val_loss: 777.1970 - val_root_mean_squared_error: 777.1970\n",
            "Epoch 106/150\n",
            "179/179 [==============================] - 0s 1ms/step - loss: 806.0365 - root_mean_squared_error: 806.0365 - val_loss: 774.6347 - val_root_mean_squared_error: 774.6347\n",
            "Epoch 107/150\n",
            "179/179 [==============================] - 0s 1ms/step - loss: 804.4124 - root_mean_squared_error: 804.4124 - val_loss: 774.0422 - val_root_mean_squared_error: 774.0422\n",
            "Epoch 108/150\n",
            "179/179 [==============================] - 0s 1ms/step - loss: 801.7016 - root_mean_squared_error: 801.7016 - val_loss: 780.7094 - val_root_mean_squared_error: 780.7094\n",
            "Epoch 109/150\n",
            "179/179 [==============================] - 0s 1ms/step - loss: 805.1225 - root_mean_squared_error: 805.1225 - val_loss: 766.1841 - val_root_mean_squared_error: 766.1841\n",
            "Epoch 110/150\n",
            "179/179 [==============================] - 0s 1ms/step - loss: 802.9183 - root_mean_squared_error: 802.9183 - val_loss: 765.7200 - val_root_mean_squared_error: 765.7200\n",
            "Epoch 111/150\n",
            "179/179 [==============================] - 0s 1ms/step - loss: 804.5076 - root_mean_squared_error: 804.5076 - val_loss: 765.4747 - val_root_mean_squared_error: 765.4747\n",
            "Epoch 112/150\n",
            "179/179 [==============================] - 0s 1ms/step - loss: 803.2140 - root_mean_squared_error: 803.2140 - val_loss: 767.8666 - val_root_mean_squared_error: 767.8666\n",
            "Epoch 113/150\n",
            "179/179 [==============================] - 0s 1ms/step - loss: 806.9599 - root_mean_squared_error: 806.9599 - val_loss: 764.8985 - val_root_mean_squared_error: 764.8985\n",
            "Epoch 114/150\n",
            "179/179 [==============================] - 0s 1ms/step - loss: 803.8558 - root_mean_squared_error: 803.8558 - val_loss: 780.6713 - val_root_mean_squared_error: 780.6713\n",
            "Epoch 115/150\n",
            "179/179 [==============================] - 0s 1ms/step - loss: 800.1317 - root_mean_squared_error: 800.1317 - val_loss: 767.0193 - val_root_mean_squared_error: 767.0193\n",
            "Epoch 116/150\n",
            "179/179 [==============================] - 0s 1ms/step - loss: 799.8071 - root_mean_squared_error: 799.8071 - val_loss: 767.1031 - val_root_mean_squared_error: 767.1031\n",
            "Epoch 117/150\n",
            "179/179 [==============================] - 0s 1ms/step - loss: 799.2783 - root_mean_squared_error: 799.2783 - val_loss: 764.0970 - val_root_mean_squared_error: 764.0970\n",
            "Epoch 118/150\n",
            "179/179 [==============================] - 0s 1ms/step - loss: 798.5236 - root_mean_squared_error: 798.5236 - val_loss: 797.1598 - val_root_mean_squared_error: 797.1598\n",
            "Epoch 119/150\n",
            "179/179 [==============================] - 0s 1ms/step - loss: 801.5479 - root_mean_squared_error: 801.5479 - val_loss: 760.5947 - val_root_mean_squared_error: 760.5947\n",
            "Epoch 120/150\n",
            "179/179 [==============================] - 0s 1ms/step - loss: 798.0967 - root_mean_squared_error: 798.0967 - val_loss: 760.0311 - val_root_mean_squared_error: 760.0311\n",
            "Epoch 121/150\n",
            "179/179 [==============================] - 0s 1ms/step - loss: 799.2131 - root_mean_squared_error: 799.2131 - val_loss: 763.1103 - val_root_mean_squared_error: 763.1103\n",
            "Epoch 122/150\n",
            "179/179 [==============================] - 0s 1ms/step - loss: 799.9758 - root_mean_squared_error: 799.9758 - val_loss: 764.2474 - val_root_mean_squared_error: 764.2474\n",
            "Epoch 123/150\n",
            "179/179 [==============================] - 0s 1ms/step - loss: 797.1584 - root_mean_squared_error: 797.1584 - val_loss: 782.0249 - val_root_mean_squared_error: 782.0249\n",
            "Epoch 124/150\n",
            "179/179 [==============================] - 0s 1ms/step - loss: 799.4042 - root_mean_squared_error: 799.4042 - val_loss: 757.9361 - val_root_mean_squared_error: 757.9361\n",
            "Epoch 125/150\n",
            "179/179 [==============================] - 0s 1ms/step - loss: 797.5387 - root_mean_squared_error: 797.5387 - val_loss: 762.1680 - val_root_mean_squared_error: 762.1680\n",
            "Epoch 126/150\n",
            "179/179 [==============================] - 0s 1ms/step - loss: 794.8987 - root_mean_squared_error: 794.8987 - val_loss: 767.8807 - val_root_mean_squared_error: 767.8807\n",
            "Epoch 127/150\n",
            "179/179 [==============================] - 0s 1ms/step - loss: 800.9193 - root_mean_squared_error: 800.9193 - val_loss: 784.3316 - val_root_mean_squared_error: 784.3316\n",
            "Epoch 128/150\n",
            "179/179 [==============================] - 0s 1ms/step - loss: 796.0565 - root_mean_squared_error: 796.0565 - val_loss: 763.8629 - val_root_mean_squared_error: 763.8629\n",
            "Epoch 129/150\n",
            "179/179 [==============================] - 0s 1ms/step - loss: 794.3721 - root_mean_squared_error: 794.3721 - val_loss: 757.2377 - val_root_mean_squared_error: 757.2377\n",
            "Epoch 130/150\n",
            "179/179 [==============================] - 0s 1ms/step - loss: 794.3312 - root_mean_squared_error: 794.3312 - val_loss: 756.2309 - val_root_mean_squared_error: 756.2309\n",
            "Epoch 131/150\n",
            "179/179 [==============================] - 0s 1ms/step - loss: 793.0100 - root_mean_squared_error: 793.0100 - val_loss: 756.5369 - val_root_mean_squared_error: 756.5369\n",
            "Epoch 132/150\n",
            "179/179 [==============================] - 0s 1ms/step - loss: 795.6881 - root_mean_squared_error: 795.6881 - val_loss: 761.0990 - val_root_mean_squared_error: 761.0990\n",
            "Epoch 133/150\n",
            "179/179 [==============================] - 0s 1ms/step - loss: 795.5659 - root_mean_squared_error: 795.5659 - val_loss: 759.9402 - val_root_mean_squared_error: 759.9402\n",
            "Epoch 134/150\n",
            "179/179 [==============================] - 0s 1ms/step - loss: 793.0450 - root_mean_squared_error: 793.0450 - val_loss: 764.3301 - val_root_mean_squared_error: 764.3301\n"
          ]
        },
        {
          "name": "stdout",
          "output_type": "stream",
          "text": [
            "Epoch 135/150\n",
            "179/179 [==============================] - 0s 1ms/step - loss: 794.9932 - root_mean_squared_error: 794.9932 - val_loss: 754.5388 - val_root_mean_squared_error: 754.5388\n",
            "Epoch 136/150\n",
            "179/179 [==============================] - 0s 1ms/step - loss: 795.5261 - root_mean_squared_error: 795.5261 - val_loss: 754.6861 - val_root_mean_squared_error: 754.6861\n",
            "Epoch 137/150\n",
            "179/179 [==============================] - 0s 1ms/step - loss: 793.5921 - root_mean_squared_error: 793.5921 - val_loss: 753.0573 - val_root_mean_squared_error: 753.0573\n",
            "Epoch 138/150\n",
            "179/179 [==============================] - 0s 1ms/step - loss: 791.1847 - root_mean_squared_error: 791.1847 - val_loss: 765.4341 - val_root_mean_squared_error: 765.4341\n",
            "Epoch 139/150\n",
            "179/179 [==============================] - 0s 1ms/step - loss: 794.8522 - root_mean_squared_error: 794.8522 - val_loss: 754.7483 - val_root_mean_squared_error: 754.7483\n",
            "Epoch 140/150\n",
            "179/179 [==============================] - 0s 1ms/step - loss: 795.2444 - root_mean_squared_error: 795.2444 - val_loss: 776.9039 - val_root_mean_squared_error: 776.9039\n",
            "Epoch 141/150\n",
            "179/179 [==============================] - 0s 1ms/step - loss: 793.1196 - root_mean_squared_error: 793.1196 - val_loss: 753.3270 - val_root_mean_squared_error: 753.3270\n",
            "Epoch 142/150\n",
            "179/179 [==============================] - 0s 1ms/step - loss: 790.6460 - root_mean_squared_error: 790.6460 - val_loss: 751.9374 - val_root_mean_squared_error: 751.9374\n",
            "Epoch 143/150\n",
            "179/179 [==============================] - 0s 1ms/step - loss: 791.3213 - root_mean_squared_error: 791.3213 - val_loss: 754.7850 - val_root_mean_squared_error: 754.7850\n",
            "Epoch 144/150\n",
            "179/179 [==============================] - 0s 1ms/step - loss: 788.1547 - root_mean_squared_error: 788.1547 - val_loss: 757.2126 - val_root_mean_squared_error: 757.2126\n",
            "Epoch 145/150\n",
            "179/179 [==============================] - 0s 1ms/step - loss: 790.8217 - root_mean_squared_error: 790.8217 - val_loss: 753.0236 - val_root_mean_squared_error: 753.0236\n",
            "Epoch 146/150\n",
            "179/179 [==============================] - 0s 1ms/step - loss: 790.0251 - root_mean_squared_error: 790.0251 - val_loss: 750.0746 - val_root_mean_squared_error: 750.0746\n",
            "Epoch 147/150\n",
            "179/179 [==============================] - 0s 1ms/step - loss: 790.5499 - root_mean_squared_error: 790.5499 - val_loss: 756.1470 - val_root_mean_squared_error: 756.1470\n",
            "Epoch 148/150\n",
            "179/179 [==============================] - 0s 1ms/step - loss: 789.1904 - root_mean_squared_error: 789.1904 - val_loss: 764.5427 - val_root_mean_squared_error: 764.5427\n",
            "Epoch 149/150\n",
            "179/179 [==============================] - 0s 1ms/step - loss: 790.6072 - root_mean_squared_error: 790.6072 - val_loss: 750.7756 - val_root_mean_squared_error: 750.7756\n",
            "Epoch 150/150\n",
            "179/179 [==============================] - 0s 1ms/step - loss: 789.7532 - root_mean_squared_error: 789.7532 - val_loss: 763.9565 - val_root_mean_squared_error: 763.9565\n"
          ]
        }
      ],
      "source": [
        "model_history = model.fit(X_train, y_train, validation_data=(X_test, y_test), epochs=150)"
      ]
    },
    {
      "cell_type": "code",
      "execution_count": null,
      "id": "808d965c",
      "metadata": {
        "id": "808d965c",
        "outputId": "6373c141-688c-4824-9187-72345286af76"
      },
      "outputs": [
        {
          "name": "stdout",
          "output_type": "stream",
          "text": [
            "88/88 [==============================] - 0s 704us/step\n"
          ]
        }
      ],
      "source": [
        "# getting predictions for the validation set\n",
        "prediction = model.predict(X_test)"
      ]
    },
    {
      "cell_type": "code",
      "execution_count": null,
      "id": "3030d214",
      "metadata": {
        "id": "3030d214",
        "outputId": "f376b45d-7938-47de-af51-8e3c43d93759"
      },
      "outputs": [
        {
          "data": {
            "text/plain": [
              "<tf.Tensor: shape=(2813,), dtype=float32, numpy=\n",
              "array([1983.0576, 2144.7224, 2106.528 , ..., 1731.3376, 1811.7031,\n",
              "       2237.2944], dtype=float32)>"
            ]
          },
          "execution_count": 67,
          "metadata": {},
          "output_type": "execute_result"
        }
      ],
      "source": [
        "# calculating the accuracy on validation set\n",
        "root_mean_squared_error(y_test, prediction)"
      ]
    },
    {
      "cell_type": "code",
      "execution_count": null,
      "id": "cbedcf13",
      "metadata": {
        "id": "cbedcf13",
        "outputId": "d8d1951d-4793-49bb-8adb-03f212ebc48c"
      },
      "outputs": [
        {
          "data": {
            "image/png": "[encoded data removed]",
            "text/plain": [
              "<Figure size 432x288 with 1 Axes>"
            ]
          },
          "metadata": {
            "needs_background": "light"
          },
          "output_type": "display_data"
        }
      ],
      "source": [
        "# summarize history for loss\n",
        "plt.plot(model_history.history['loss'])\n",
        "plt.plot(model_history.history['val_loss'])\n",
        "plt.title('model loss')\n",
        "plt.ylabel('loss')\n",
        "plt.xlabel('epoch')\n",
        "plt.legend(['train', 'validation'], loc='upper left')\n",
        "plt.show()"
      ]
    },
    {
      "cell_type": "markdown",
      "id": "16b96f83",
      "metadata": {
        "id": "16b96f83"
      },
      "source": [
        "# preprocess all test data set"
      ]
    },
    {
      "cell_type": "code",
      "execution_count": null,
      "id": "599f3e32",
      "metadata": {
        "id": "599f3e32"
      },
      "outputs": [],
      "source": [
        "testdata = pd.read_csv('test.csv')"
      ]
    },
    {
      "cell_type": "code",
      "execution_count": null,
      "id": "b563cb6d",
      "metadata": {
        "id": "b563cb6d",
        "outputId": "20b53d9b-67c0-4d87-8ac4-a8440818592f"
      },
      "outputs": [
        {
          "data": {
            "text/html": [
              "<div>\n",
              "<style scoped>\n",
              "    .dataframe tbody tr th:only-of-type {\n",
              "        vertical-align: middle;\n",
              "    }\n",
              "\n",
              "    .dataframe tbody tr th {\n",
              "        vertical-align: top;\n",
              "    }\n",
              "\n",
              "    .dataframe thead th {\n",
              "        text-align: right;\n",
              "    }\n",
              "</style>\n",
              "<table border=\"1\" class=\"dataframe\">\n",
              "  <thead>\n",
              "    <tr style=\"text-align: right;\">\n",
              "      <th></th>\n",
              "      <th>Item_Identifier</th>\n",
              "      <th>Item_Weight</th>\n",
              "      <th>Item_Fat_Content</th>\n",
              "      <th>Item_Visibility</th>\n",
              "      <th>Item_Type</th>\n",
              "      <th>Item_MRP</th>\n",
              "      <th>Outlet_Identifier</th>\n",
              "      <th>Outlet_Establishment_Year</th>\n",
              "      <th>Outlet_Size</th>\n",
              "      <th>Outlet_Location_Type</th>\n",
              "      <th>Outlet_Type</th>\n",
              "    </tr>\n",
              "  </thead>\n",
              "  <tbody>\n",
              "    <tr>\n",
              "      <th>0</th>\n",
              "      <td>FDW58</td>\n",
              "      <td>20.750</td>\n",
              "      <td>Low Fat</td>\n",
              "      <td>0.007565</td>\n",
              "      <td>Snack Foods</td>\n",
              "      <td>107.8622</td>\n",
              "      <td>OUT049</td>\n",
              "      <td>1999</td>\n",
              "      <td>Medium</td>\n",
              "      <td>Tier 1</td>\n",
              "      <td>Supermarket Type1</td>\n",
              "    </tr>\n",
              "    <tr>\n",
              "      <th>1</th>\n",
              "      <td>FDW14</td>\n",
              "      <td>8.300</td>\n",
              "      <td>reg</td>\n",
              "      <td>0.038428</td>\n",
              "      <td>Dairy</td>\n",
              "      <td>87.3198</td>\n",
              "      <td>OUT017</td>\n",
              "      <td>2007</td>\n",
              "      <td>NaN</td>\n",
              "      <td>Tier 2</td>\n",
              "      <td>Supermarket Type1</td>\n",
              "    </tr>\n",
              "    <tr>\n",
              "      <th>2</th>\n",
              "      <td>NCN55</td>\n",
              "      <td>14.600</td>\n",
              "      <td>Low Fat</td>\n",
              "      <td>0.099575</td>\n",
              "      <td>Others</td>\n",
              "      <td>241.7538</td>\n",
              "      <td>OUT010</td>\n",
              "      <td>1998</td>\n",
              "      <td>NaN</td>\n",
              "      <td>Tier 3</td>\n",
              "      <td>Grocery Store</td>\n",
              "    </tr>\n",
              "    <tr>\n",
              "      <th>3</th>\n",
              "      <td>FDQ58</td>\n",
              "      <td>7.315</td>\n",
              "      <td>Low Fat</td>\n",
              "      <td>0.015388</td>\n",
              "      <td>Snack Foods</td>\n",
              "      <td>155.0340</td>\n",
              "      <td>OUT017</td>\n",
              "      <td>2007</td>\n",
              "      <td>NaN</td>\n",
              "      <td>Tier 2</td>\n",
              "      <td>Supermarket Type1</td>\n",
              "    </tr>\n",
              "    <tr>\n",
              "      <th>4</th>\n",
              "      <td>FDY38</td>\n",
              "      <td>NaN</td>\n",
              "      <td>Regular</td>\n",
              "      <td>0.118599</td>\n",
              "      <td>Dairy</td>\n",
              "      <td>234.2300</td>\n",
              "      <td>OUT027</td>\n",
              "      <td>1985</td>\n",
              "      <td>Medium</td>\n",
              "      <td>Tier 3</td>\n",
              "      <td>Supermarket Type3</td>\n",
              "    </tr>\n",
              "  </tbody>\n",
              "</table>\n",
              "</div>"
            ],
            "text/plain": [
              "  Item_Identifier  Item_Weight Item_Fat_Content  Item_Visibility    Item_Type  \\\n",
              "0           FDW58       20.750          Low Fat         0.007565  Snack Foods   \n",
              "1           FDW14        8.300              reg         0.038428        Dairy   \n",
              "2           NCN55       14.600          Low Fat         0.099575       Others   \n",
              "3           FDQ58        7.315          Low Fat         0.015388  Snack Foods   \n",
              "4           FDY38          NaN          Regular         0.118599        Dairy   \n",
              "\n",
              "   Item_MRP Outlet_Identifier  Outlet_Establishment_Year Outlet_Size  \\\n",
              "0  107.8622            OUT049                       1999      Medium   \n",
              "1   87.3198            OUT017                       2007         NaN   \n",
              "2  241.7538            OUT010                       1998         NaN   \n",
              "3  155.0340            OUT017                       2007         NaN   \n",
              "4  234.2300            OUT027                       1985      Medium   \n",
              "\n",
              "  Outlet_Location_Type        Outlet_Type  \n",
              "0               Tier 1  Supermarket Type1  \n",
              "1               Tier 2  Supermarket Type1  \n",
              "2               Tier 3      Grocery Store  \n",
              "3               Tier 2  Supermarket Type1  \n",
              "4               Tier 3  Supermarket Type3  "
            ]
          },
          "execution_count": 70,
          "metadata": {},
          "output_type": "execute_result"
        }
      ],
      "source": [
        "testdata.head()"
      ]
    },
    {
      "cell_type": "code",
      "execution_count": null,
      "id": "d2a47b3a",
      "metadata": {
        "id": "d2a47b3a",
        "outputId": "ebcf9f82-90df-4c56-e87b-49012d122317"
      },
      "outputs": [
        {
          "data": {
            "text/plain": [
              "Item_Identifier                 0\n",
              "Item_Weight                   976\n",
              "Item_Fat_Content                0\n",
              "Item_Visibility                 0\n",
              "Item_Type                       0\n",
              "Item_MRP                        0\n",
              "Outlet_Identifier               0\n",
              "Outlet_Establishment_Year       0\n",
              "Outlet_Size                  1606\n",
              "Outlet_Location_Type            0\n",
              "Outlet_Type                     0\n",
              "dtype: int64"
            ]
          },
          "execution_count": 71,
          "metadata": {},
          "output_type": "execute_result"
        }
      ],
      "source": [
        "testdata.isnull().sum()"
      ]
    },
    {
      "cell_type": "code",
      "execution_count": null,
      "id": "d8e507b8",
      "metadata": {
        "id": "d8e507b8",
        "outputId": "d4d653a9-116e-44d5-99df-925484830502"
      },
      "outputs": [
        {
          "data": {
            "text/plain": [
              "Medium    1862\n",
              "Small     1592\n",
              "High       621\n",
              "Name: Outlet_Size, dtype: int64"
            ]
          },
          "execution_count": 72,
          "metadata": {},
          "output_type": "execute_result"
        }
      ],
      "source": [
        "testdata['Outlet_Size'].value_counts()"
      ]
    },
    {
      "cell_type": "code",
      "execution_count": null,
      "id": "a8edb8ed",
      "metadata": {
        "id": "a8edb8ed"
      },
      "outputs": [],
      "source": [
        "testdata['Outlet_Size'].fillna(data['Outlet_Size'].mode()[0], inplace=True)"
      ]
    },
    {
      "cell_type": "code",
      "execution_count": null,
      "id": "4d8f1fb0",
      "metadata": {
        "id": "4d8f1fb0",
        "outputId": "0bddc8f9-3452-4d49-a4e1-cf523320d598"
      },
      "outputs": [
        {
          "data": {
            "text/html": [
              "<div>\n",
              "<style scoped>\n",
              "    .dataframe tbody tr th:only-of-type {\n",
              "        vertical-align: middle;\n",
              "    }\n",
              "\n",
              "    .dataframe tbody tr th {\n",
              "        vertical-align: top;\n",
              "    }\n",
              "\n",
              "    .dataframe thead th {\n",
              "        text-align: right;\n",
              "    }\n",
              "</style>\n",
              "<table border=\"1\" class=\"dataframe\">\n",
              "  <thead>\n",
              "    <tr style=\"text-align: right;\">\n",
              "      <th></th>\n",
              "      <th>Item_Identifier</th>\n",
              "      <th>Item_Weight</th>\n",
              "      <th>Item_Fat_Content</th>\n",
              "      <th>Item_Visibility</th>\n",
              "      <th>Item_Type</th>\n",
              "      <th>Item_MRP</th>\n",
              "      <th>Outlet_Identifier</th>\n",
              "      <th>Outlet_Establishment_Year</th>\n",
              "      <th>Outlet_Size</th>\n",
              "      <th>Outlet_Location_Type</th>\n",
              "      <th>Outlet_Type</th>\n",
              "      <th>Item_Weight_revised</th>\n",
              "    </tr>\n",
              "  </thead>\n",
              "  <tbody>\n",
              "    <tr>\n",
              "      <th>0</th>\n",
              "      <td>FDW58</td>\n",
              "      <td>20.750</td>\n",
              "      <td>Low Fat</td>\n",
              "      <td>0.007565</td>\n",
              "      <td>Snack Foods</td>\n",
              "      <td>107.8622</td>\n",
              "      <td>OUT049</td>\n",
              "      <td>1999</td>\n",
              "      <td>Medium</td>\n",
              "      <td>Tier 1</td>\n",
              "      <td>Supermarket Type1</td>\n",
              "      <td>4</td>\n",
              "    </tr>\n",
              "    <tr>\n",
              "      <th>1</th>\n",
              "      <td>FDW14</td>\n",
              "      <td>8.300</td>\n",
              "      <td>reg</td>\n",
              "      <td>0.038428</td>\n",
              "      <td>Dairy</td>\n",
              "      <td>87.3198</td>\n",
              "      <td>OUT017</td>\n",
              "      <td>2007</td>\n",
              "      <td>2</td>\n",
              "      <td>Tier 2</td>\n",
              "      <td>Supermarket Type1</td>\n",
              "      <td>1</td>\n",
              "    </tr>\n",
              "    <tr>\n",
              "      <th>2</th>\n",
              "      <td>NCN55</td>\n",
              "      <td>14.600</td>\n",
              "      <td>Low Fat</td>\n",
              "      <td>0.099575</td>\n",
              "      <td>Others</td>\n",
              "      <td>241.7538</td>\n",
              "      <td>OUT010</td>\n",
              "      <td>1998</td>\n",
              "      <td>2</td>\n",
              "      <td>Tier 3</td>\n",
              "      <td>Grocery Store</td>\n",
              "      <td>3</td>\n",
              "    </tr>\n",
              "    <tr>\n",
              "      <th>3</th>\n",
              "      <td>FDQ58</td>\n",
              "      <td>7.315</td>\n",
              "      <td>Low Fat</td>\n",
              "      <td>0.015388</td>\n",
              "      <td>Snack Foods</td>\n",
              "      <td>155.0340</td>\n",
              "      <td>OUT017</td>\n",
              "      <td>2007</td>\n",
              "      <td>2</td>\n",
              "      <td>Tier 2</td>\n",
              "      <td>Supermarket Type1</td>\n",
              "      <td>1</td>\n",
              "    </tr>\n",
              "    <tr>\n",
              "      <th>4</th>\n",
              "      <td>FDY38</td>\n",
              "      <td>NaN</td>\n",
              "      <td>Regular</td>\n",
              "      <td>0.118599</td>\n",
              "      <td>Dairy</td>\n",
              "      <td>234.2300</td>\n",
              "      <td>OUT027</td>\n",
              "      <td>1985</td>\n",
              "      <td>Medium</td>\n",
              "      <td>Tier 3</td>\n",
              "      <td>Supermarket Type3</td>\n",
              "      <td>0</td>\n",
              "    </tr>\n",
              "  </tbody>\n",
              "</table>\n",
              "</div>"
            ],
            "text/plain": [
              "  Item_Identifier  Item_Weight Item_Fat_Content  Item_Visibility    Item_Type  \\\n",
              "0           FDW58       20.750          Low Fat         0.007565  Snack Foods   \n",
              "1           FDW14        8.300              reg         0.038428        Dairy   \n",
              "2           NCN55       14.600          Low Fat         0.099575       Others   \n",
              "3           FDQ58        7.315          Low Fat         0.015388  Snack Foods   \n",
              "4           FDY38          NaN          Regular         0.118599        Dairy   \n",
              "\n",
              "   Item_MRP Outlet_Identifier  Outlet_Establishment_Year Outlet_Size  \\\n",
              "0  107.8622            OUT049                       1999      Medium   \n",
              "1   87.3198            OUT017                       2007           2   \n",
              "2  241.7538            OUT010                       1998           2   \n",
              "3  155.0340            OUT017                       2007           2   \n",
              "4  234.2300            OUT027                       1985      Medium   \n",
              "\n",
              "  Outlet_Location_Type        Outlet_Type Item_Weight_revised  \n",
              "0               Tier 1  Supermarket Type1                   4  \n",
              "1               Tier 2  Supermarket Type1                   1  \n",
              "2               Tier 3      Grocery Store                   3  \n",
              "3               Tier 2  Supermarket Type1                   1  \n",
              "4               Tier 3  Supermarket Type3                   0  "
            ]
          },
          "execution_count": 74,
          "metadata": {},
          "output_type": "execute_result"
        }
      ],
      "source": [
        "# create a list of our conditions\n",
        "conditions = [\n",
        "    (testdata['Item_Weight'] == 'Nan'),\n",
        "    (testdata['Item_Weight'] > 4.50) & (testdata['Item_Weight'] <= 8.773),\n",
        "    (testdata['Item_Weight'] > 8.773) & (testdata['Item_Weight'] <= 12.60),\n",
        "    (testdata['Item_Weight'] > 12.60) & (testdata['Item_Weight'] <= 16.85),\n",
        "    (testdata['Item_Weight'] > 16.85)\n",
        "    ]\n",
        "\n",
        "# create a list of the values we want to assign for each condition\n",
        "values = ['0', '1', '2', '3','4']\n",
        "\n",
        "# create a new column and use np.select to assign values to it using our lists as arguments\n",
        "testdata['Item_Weight_revised'] = np.select(conditions, values)\n",
        "\n",
        "# display updated DataFrame\n",
        "testdata.head()"
      ]
    },
    {
      "cell_type": "code",
      "execution_count": null,
      "id": "ad931673",
      "metadata": {
        "id": "ad931673",
        "outputId": "96da0c95-395d-4794-cd66-0a03cd1b1e7b"
      },
      "outputs": [
        {
          "data": {
            "text/plain": [
              "Item_Identifier                0\n",
              "Item_Weight                  976\n",
              "Item_Fat_Content               0\n",
              "Item_Visibility                0\n",
              "Item_Type                      0\n",
              "Item_MRP                       0\n",
              "Outlet_Identifier              0\n",
              "Outlet_Establishment_Year      0\n",
              "Outlet_Size                    0\n",
              "Outlet_Location_Type           0\n",
              "Outlet_Type                    0\n",
              "Item_Weight_revised            0\n",
              "dtype: int64"
            ]
          },
          "execution_count": 75,
          "metadata": {},
          "output_type": "execute_result"
        }
      ],
      "source": [
        "testdata.isnull().sum()"
      ]
    },
    {
      "cell_type": "code",
      "execution_count": null,
      "id": "8d4510c0",
      "metadata": {
        "id": "8d4510c0"
      },
      "outputs": [],
      "source": [
        "testdata['Item_Weight_revised'].replace(to_replace = '0', value = pd.NA, inplace=True)"
      ]
    },
    {
      "cell_type": "code",
      "execution_count": null,
      "id": "391b29f3",
      "metadata": {
        "id": "391b29f3"
      },
      "outputs": [],
      "source": [
        "common5 = testdata['Item_Weight_revised'].isnull()\n",
        "all_conditions5 = [(testdata['Item_MRP'] <= 137.79) & (common5),\n",
        "                  (testdata['Item_MRP'] > 137.79)  & (testdata['Item_MRP'] < 140.37) & (common5),\n",
        "                   (testdata['Item_MRP'] >= 140.37)  & (testdata['Item_MRP'] < 141.27) & (common5),\n",
        "                  (testdata['Item_MRP'] >= 141.27)  & (common5)\n",
        "\n",
        "                 ]\n",
        "\n",
        "fill_with5 = ['1', '3', '2','4']\n",
        "testdata['Item_Weight_revised'] = np.select(all_conditions5, fill_with5, default=testdata['Item_Weight_revised'])"
      ]
    },
    {
      "cell_type": "code",
      "execution_count": null,
      "id": "cd4d7da0",
      "metadata": {
        "id": "cd4d7da0",
        "outputId": "35fdddfe-4f93-48bb-abc6-55524cea3aba"
      },
      "outputs": [
        {
          "data": {
            "text/plain": [
              "Item_Identifier                0\n",
              "Item_Weight                  976\n",
              "Item_Fat_Content               0\n",
              "Item_Visibility                0\n",
              "Item_Type                      0\n",
              "Item_MRP                       0\n",
              "Outlet_Identifier              0\n",
              "Outlet_Establishment_Year      0\n",
              "Outlet_Size                    0\n",
              "Outlet_Location_Type           0\n",
              "Outlet_Type                    0\n",
              "Item_Weight_revised            0\n",
              "dtype: int64"
            ]
          },
          "execution_count": 78,
          "metadata": {},
          "output_type": "execute_result"
        }
      ],
      "source": [
        "testdata.isnull().sum()"
      ]
    },
    {
      "cell_type": "code",
      "execution_count": null,
      "id": "a52388dc",
      "metadata": {
        "id": "a52388dc"
      },
      "outputs": [],
      "source": [
        "testdata['item_identified_first_3'] = testdata['Item_Identifier'].astype(str).str[0:2]"
      ]
    },
    {
      "cell_type": "code",
      "execution_count": null,
      "id": "01a447bf",
      "metadata": {
        "id": "01a447bf"
      },
      "outputs": [],
      "source": [
        "testdata.loc[testdata[\"Item_Fat_Content\"] == \"LF\", \"Item_Fat_Content\"] = 'Low Fat'"
      ]
    },
    {
      "cell_type": "code",
      "execution_count": null,
      "id": "12cd2222",
      "metadata": {
        "id": "12cd2222"
      },
      "outputs": [],
      "source": [
        "testdata.loc[testdata[\"Item_Fat_Content\"] == \"low fat\", \"Item_Fat_Content\"] = 'Low Fat'"
      ]
    },
    {
      "cell_type": "code",
      "execution_count": null,
      "id": "97c074da",
      "metadata": {
        "id": "97c074da"
      },
      "outputs": [],
      "source": [
        "testdata.loc[testdata[\"Item_Fat_Content\"] == \"reg\", \"Item_Fat_Content\"] = 'Regular'"
      ]
    },
    {
      "cell_type": "code",
      "execution_count": null,
      "id": "088b8fe8",
      "metadata": {
        "id": "088b8fe8"
      },
      "outputs": [],
      "source": [
        "testdata['Item_Visibility'] = testdata['Item_Visibility'].astype('float')\n",
        "testdata['Item_MRP'] = testdata['Item_MRP'].astype('float')\n",
        "testdata['Item_Weight_revised'] = testdata['Item_Weight_revised'].astype('int64')"
      ]
    },
    {
      "cell_type": "code",
      "execution_count": null,
      "id": "629b2834",
      "metadata": {
        "id": "629b2834",
        "outputId": "e24a973f-167b-4556-8ec6-97d1f0fc637f"
      },
      "outputs": [
        {
          "data": {
            "text/html": [
              "<div>\n",
              "<style scoped>\n",
              "    .dataframe tbody tr th:only-of-type {\n",
              "        vertical-align: middle;\n",
              "    }\n",
              "\n",
              "    .dataframe tbody tr th {\n",
              "        vertical-align: top;\n",
              "    }\n",
              "\n",
              "    .dataframe thead th {\n",
              "        text-align: right;\n",
              "    }\n",
              "</style>\n",
              "<table border=\"1\" class=\"dataframe\">\n",
              "  <thead>\n",
              "    <tr style=\"text-align: right;\">\n",
              "      <th></th>\n",
              "      <th>Item_Fat_Content</th>\n",
              "      <th>Item_Visibility</th>\n",
              "      <th>Item_Type</th>\n",
              "      <th>Item_MRP</th>\n",
              "      <th>Outlet_Identifier</th>\n",
              "      <th>Outlet_Establishment_Year</th>\n",
              "      <th>Outlet_Size</th>\n",
              "      <th>Outlet_Location_Type</th>\n",
              "      <th>Outlet_Type</th>\n",
              "      <th>Item_Weight_revised</th>\n",
              "      <th>item_identified_first_3</th>\n",
              "    </tr>\n",
              "  </thead>\n",
              "  <tbody>\n",
              "    <tr>\n",
              "      <th>0</th>\n",
              "      <td>Low Fat</td>\n",
              "      <td>0.007565</td>\n",
              "      <td>Snack Foods</td>\n",
              "      <td>107.8622</td>\n",
              "      <td>OUT049</td>\n",
              "      <td>1999</td>\n",
              "      <td>Medium</td>\n",
              "      <td>Tier 1</td>\n",
              "      <td>Supermarket Type1</td>\n",
              "      <td>4</td>\n",
              "      <td>FD</td>\n",
              "    </tr>\n",
              "    <tr>\n",
              "      <th>1</th>\n",
              "      <td>Regular</td>\n",
              "      <td>0.038428</td>\n",
              "      <td>Dairy</td>\n",
              "      <td>87.3198</td>\n",
              "      <td>OUT017</td>\n",
              "      <td>2007</td>\n",
              "      <td>2</td>\n",
              "      <td>Tier 2</td>\n",
              "      <td>Supermarket Type1</td>\n",
              "      <td>1</td>\n",
              "      <td>FD</td>\n",
              "    </tr>\n",
              "    <tr>\n",
              "      <th>2</th>\n",
              "      <td>Low Fat</td>\n",
              "      <td>0.099575</td>\n",
              "      <td>Others</td>\n",
              "      <td>241.7538</td>\n",
              "      <td>OUT010</td>\n",
              "      <td>1998</td>\n",
              "      <td>2</td>\n",
              "      <td>Tier 3</td>\n",
              "      <td>Grocery Store</td>\n",
              "      <td>3</td>\n",
              "      <td>NC</td>\n",
              "    </tr>\n",
              "    <tr>\n",
              "      <th>3</th>\n",
              "      <td>Low Fat</td>\n",
              "      <td>0.015388</td>\n",
              "      <td>Snack Foods</td>\n",
              "      <td>155.0340</td>\n",
              "      <td>OUT017</td>\n",
              "      <td>2007</td>\n",
              "      <td>2</td>\n",
              "      <td>Tier 2</td>\n",
              "      <td>Supermarket Type1</td>\n",
              "      <td>1</td>\n",
              "      <td>FD</td>\n",
              "    </tr>\n",
              "    <tr>\n",
              "      <th>4</th>\n",
              "      <td>Regular</td>\n",
              "      <td>0.118599</td>\n",
              "      <td>Dairy</td>\n",
              "      <td>234.2300</td>\n",
              "      <td>OUT027</td>\n",
              "      <td>1985</td>\n",
              "      <td>Medium</td>\n",
              "      <td>Tier 3</td>\n",
              "      <td>Supermarket Type3</td>\n",
              "      <td>4</td>\n",
              "      <td>FD</td>\n",
              "    </tr>\n",
              "    <tr>\n",
              "      <th>...</th>\n",
              "      <td>...</td>\n",
              "      <td>...</td>\n",
              "      <td>...</td>\n",
              "      <td>...</td>\n",
              "      <td>...</td>\n",
              "      <td>...</td>\n",
              "      <td>...</td>\n",
              "      <td>...</td>\n",
              "      <td>...</td>\n",
              "      <td>...</td>\n",
              "      <td>...</td>\n",
              "    </tr>\n",
              "    <tr>\n",
              "      <th>5676</th>\n",
              "      <td>Regular</td>\n",
              "      <td>0.013496</td>\n",
              "      <td>Snack Foods</td>\n",
              "      <td>141.3154</td>\n",
              "      <td>OUT046</td>\n",
              "      <td>1997</td>\n",
              "      <td>Small</td>\n",
              "      <td>Tier 1</td>\n",
              "      <td>Supermarket Type1</td>\n",
              "      <td>2</td>\n",
              "      <td>FD</td>\n",
              "    </tr>\n",
              "    <tr>\n",
              "      <th>5677</th>\n",
              "      <td>Regular</td>\n",
              "      <td>0.142991</td>\n",
              "      <td>Starchy Foods</td>\n",
              "      <td>169.1448</td>\n",
              "      <td>OUT018</td>\n",
              "      <td>2009</td>\n",
              "      <td>Medium</td>\n",
              "      <td>Tier 3</td>\n",
              "      <td>Supermarket Type2</td>\n",
              "      <td>1</td>\n",
              "      <td>FD</td>\n",
              "    </tr>\n",
              "    <tr>\n",
              "      <th>5678</th>\n",
              "      <td>Low Fat</td>\n",
              "      <td>0.073529</td>\n",
              "      <td>Health and Hygiene</td>\n",
              "      <td>118.7440</td>\n",
              "      <td>OUT045</td>\n",
              "      <td>2002</td>\n",
              "      <td>2</td>\n",
              "      <td>Tier 2</td>\n",
              "      <td>Supermarket Type1</td>\n",
              "      <td>2</td>\n",
              "      <td>NC</td>\n",
              "    </tr>\n",
              "    <tr>\n",
              "      <th>5679</th>\n",
              "      <td>Regular</td>\n",
              "      <td>0.000000</td>\n",
              "      <td>Canned</td>\n",
              "      <td>214.6218</td>\n",
              "      <td>OUT017</td>\n",
              "      <td>2007</td>\n",
              "      <td>2</td>\n",
              "      <td>Tier 2</td>\n",
              "      <td>Supermarket Type1</td>\n",
              "      <td>3</td>\n",
              "      <td>FD</td>\n",
              "    </tr>\n",
              "    <tr>\n",
              "      <th>5680</th>\n",
              "      <td>Regular</td>\n",
              "      <td>0.104720</td>\n",
              "      <td>Canned</td>\n",
              "      <td>79.7960</td>\n",
              "      <td>OUT045</td>\n",
              "      <td>2002</td>\n",
              "      <td>2</td>\n",
              "      <td>Tier 2</td>\n",
              "      <td>Supermarket Type1</td>\n",
              "      <td>2</td>\n",
              "      <td>FD</td>\n",
              "    </tr>\n",
              "  </tbody>\n",
              "</table>\n",
              "<p>5681 rows × 11 columns</p>\n",
              "</div>"
            ],
            "text/plain": [
              "     Item_Fat_Content  Item_Visibility           Item_Type  Item_MRP  \\\n",
              "0             Low Fat         0.007565         Snack Foods  107.8622   \n",
              "1             Regular         0.038428               Dairy   87.3198   \n",
              "2             Low Fat         0.099575              Others  241.7538   \n",
              "3             Low Fat         0.015388         Snack Foods  155.0340   \n",
              "4             Regular         0.118599               Dairy  234.2300   \n",
              "...               ...              ...                 ...       ...   \n",
              "5676          Regular         0.013496         Snack Foods  141.3154   \n",
              "5677          Regular         0.142991       Starchy Foods  169.1448   \n",
              "5678          Low Fat         0.073529  Health and Hygiene  118.7440   \n",
              "5679          Regular         0.000000              Canned  214.6218   \n",
              "5680          Regular         0.104720              Canned   79.7960   \n",
              "\n",
              "     Outlet_Identifier  Outlet_Establishment_Year Outlet_Size  \\\n",
              "0               OUT049                       1999      Medium   \n",
              "1               OUT017                       2007           2   \n",
              "2               OUT010                       1998           2   \n",
              "3               OUT017                       2007           2   \n",
              "4               OUT027                       1985      Medium   \n",
              "...                ...                        ...         ...   \n",
              "5676            OUT046                       1997       Small   \n",
              "5677            OUT018                       2009      Medium   \n",
              "5678            OUT045                       2002           2   \n",
              "5679            OUT017                       2007           2   \n",
              "5680            OUT045                       2002           2   \n",
              "\n",
              "     Outlet_Location_Type        Outlet_Type  Item_Weight_revised  \\\n",
              "0                  Tier 1  Supermarket Type1                    4   \n",
              "1                  Tier 2  Supermarket Type1                    1   \n",
              "2                  Tier 3      Grocery Store                    3   \n",
              "3                  Tier 2  Supermarket Type1                    1   \n",
              "4                  Tier 3  Supermarket Type3                    4   \n",
              "...                   ...                ...                  ...   \n",
              "5676               Tier 1  Supermarket Type1                    2   \n",
              "5677               Tier 3  Supermarket Type2                    1   \n",
              "5678               Tier 2  Supermarket Type1                    2   \n",
              "5679               Tier 2  Supermarket Type1                    3   \n",
              "5680               Tier 2  Supermarket Type1                    2   \n",
              "\n",
              "     item_identified_first_3  \n",
              "0                         FD  \n",
              "1                         FD  \n",
              "2                         NC  \n",
              "3                         FD  \n",
              "4                         FD  \n",
              "...                      ...  \n",
              "5676                      FD  \n",
              "5677                      FD  \n",
              "5678                      NC  \n",
              "5679                      FD  \n",
              "5680                      FD  \n",
              "\n",
              "[5681 rows x 11 columns]"
            ]
          },
          "execution_count": 84,
          "metadata": {},
          "output_type": "execute_result"
        }
      ],
      "source": [
        "testdata.drop(['Item_Identifier', 'Item_Weight'], axis=1)"
      ]
    },
    {
      "cell_type": "code",
      "execution_count": null,
      "id": "e9099907",
      "metadata": {
        "id": "e9099907",
        "outputId": "f3103cff-3cfc-48b1-c41f-1c33fa751a63"
      },
      "outputs": [
        {
          "data": {
            "text/plain": [
              "Item_Identifier               object\n",
              "Item_Weight                  float64\n",
              "Item_Fat_Content              object\n",
              "Item_Visibility              float64\n",
              "Item_Type                     object\n",
              "Item_MRP                     float64\n",
              "Outlet_Identifier             object\n",
              "Outlet_Establishment_Year      int64\n",
              "Outlet_Size                   object\n",
              "Outlet_Location_Type          object\n",
              "Outlet_Type                   object\n",
              "Item_Weight_revised            int64\n",
              "item_identified_first_3       object\n",
              "dtype: object"
            ]
          },
          "execution_count": 85,
          "metadata": {},
          "output_type": "execute_result"
        }
      ],
      "source": [
        "testdata.dtypes"
      ]
    },
    {
      "cell_type": "code",
      "execution_count": null,
      "id": "227712cb",
      "metadata": {
        "id": "227712cb"
      },
      "outputs": [],
      "source": [
        "testdata.loc[testdata[\"Outlet_Size\"] == 2, \"Outlet_Size\"] = \"Medium\""
      ]
    },
    {
      "cell_type": "code",
      "execution_count": null,
      "id": "480dcfb1",
      "metadata": {
        "id": "480dcfb1",
        "outputId": "cc750253-98d6-4380-99c6-b4a853af6dd8"
      },
      "outputs": [
        {
          "data": {
            "text/plain": [
              "Medium    3468\n",
              "Small     1592\n",
              "High       621\n",
              "Name: Outlet_Size, dtype: int64"
            ]
          },
          "execution_count": 87,
          "metadata": {},
          "output_type": "execute_result"
        }
      ],
      "source": [
        "testdata['Outlet_Size'].value_counts()"
      ]
    },
    {
      "cell_type": "code",
      "execution_count": null,
      "id": "bafc1d7a",
      "metadata": {
        "id": "bafc1d7a"
      },
      "outputs": [],
      "source": [
        "\n",
        "\n",
        "# label_encoder object knows how to understand word labels.\n",
        "label_encoder = preprocessing.LabelEncoder()\n",
        "\n",
        "# Encode labels in column 'species'.\n",
        "testdata['Outlet_Size']= label_encoder.fit_transform(testdata['Outlet_Size'])\n",
        "testdata['Item_Fat_Content']= label_encoder.fit_transform(testdata['Item_Fat_Content'])\n",
        "\n"
      ]
    },
    {
      "cell_type": "code",
      "execution_count": null,
      "id": "9d808637",
      "metadata": {
        "id": "9d808637"
      },
      "outputs": [],
      "source": [
        "testdata = pd.get_dummies(testdata, columns = categorical_cols)"
      ]
    },
    {
      "cell_type": "code",
      "execution_count": null,
      "id": "a5c443b3",
      "metadata": {
        "id": "a5c443b3",
        "outputId": "0e3d60cb-278b-46e6-d803-e43bbf4589b9"
      },
      "outputs": [
        {
          "data": {
            "text/html": [
              "<div>\n",
              "<style scoped>\n",
              "    .dataframe tbody tr th:only-of-type {\n",
              "        vertical-align: middle;\n",
              "    }\n",
              "\n",
              "    .dataframe tbody tr th {\n",
              "        vertical-align: top;\n",
              "    }\n",
              "\n",
              "    .dataframe thead th {\n",
              "        text-align: right;\n",
              "    }\n",
              "</style>\n",
              "<table border=\"1\" class=\"dataframe\">\n",
              "  <thead>\n",
              "    <tr style=\"text-align: right;\">\n",
              "      <th></th>\n",
              "      <th>Item_Identifier</th>\n",
              "      <th>Item_Weight</th>\n",
              "      <th>Item_Fat_Content</th>\n",
              "      <th>Item_Visibility</th>\n",
              "      <th>Item_MRP</th>\n",
              "      <th>Outlet_Establishment_Year</th>\n",
              "      <th>Outlet_Size</th>\n",
              "      <th>Item_Weight_revised</th>\n",
              "      <th>Item_Type_Baking Goods</th>\n",
              "      <th>Item_Type_Breads</th>\n",
              "      <th>...</th>\n",
              "      <th>Outlet_Location_Type_Tier 1</th>\n",
              "      <th>Outlet_Location_Type_Tier 2</th>\n",
              "      <th>Outlet_Location_Type_Tier 3</th>\n",
              "      <th>Outlet_Type_Grocery Store</th>\n",
              "      <th>Outlet_Type_Supermarket Type1</th>\n",
              "      <th>Outlet_Type_Supermarket Type2</th>\n",
              "      <th>Outlet_Type_Supermarket Type3</th>\n",
              "      <th>item_identified_first_3_DR</th>\n",
              "      <th>item_identified_first_3_FD</th>\n",
              "      <th>item_identified_first_3_NC</th>\n",
              "    </tr>\n",
              "  </thead>\n",
              "  <tbody>\n",
              "    <tr>\n",
              "      <th>0</th>\n",
              "      <td>FDW58</td>\n",
              "      <td>20.750</td>\n",
              "      <td>0</td>\n",
              "      <td>0.007565</td>\n",
              "      <td>107.8622</td>\n",
              "      <td>1999</td>\n",
              "      <td>1</td>\n",
              "      <td>4</td>\n",
              "      <td>0</td>\n",
              "      <td>0</td>\n",
              "      <td>...</td>\n",
              "      <td>1</td>\n",
              "      <td>0</td>\n",
              "      <td>0</td>\n",
              "      <td>0</td>\n",
              "      <td>1</td>\n",
              "      <td>0</td>\n",
              "      <td>0</td>\n",
              "      <td>0</td>\n",
              "      <td>1</td>\n",
              "      <td>0</td>\n",
              "    </tr>\n",
              "    <tr>\n",
              "      <th>1</th>\n",
              "      <td>FDW14</td>\n",
              "      <td>8.300</td>\n",
              "      <td>1</td>\n",
              "      <td>0.038428</td>\n",
              "      <td>87.3198</td>\n",
              "      <td>2007</td>\n",
              "      <td>1</td>\n",
              "      <td>1</td>\n",
              "      <td>0</td>\n",
              "      <td>0</td>\n",
              "      <td>...</td>\n",
              "      <td>0</td>\n",
              "      <td>1</td>\n",
              "      <td>0</td>\n",
              "      <td>0</td>\n",
              "      <td>1</td>\n",
              "      <td>0</td>\n",
              "      <td>0</td>\n",
              "      <td>0</td>\n",
              "      <td>1</td>\n",
              "      <td>0</td>\n",
              "    </tr>\n",
              "    <tr>\n",
              "      <th>2</th>\n",
              "      <td>NCN55</td>\n",
              "      <td>14.600</td>\n",
              "      <td>0</td>\n",
              "      <td>0.099575</td>\n",
              "      <td>241.7538</td>\n",
              "      <td>1998</td>\n",
              "      <td>1</td>\n",
              "      <td>3</td>\n",
              "      <td>0</td>\n",
              "      <td>0</td>\n",
              "      <td>...</td>\n",
              "      <td>0</td>\n",
              "      <td>0</td>\n",
              "      <td>1</td>\n",
              "      <td>1</td>\n",
              "      <td>0</td>\n",
              "      <td>0</td>\n",
              "      <td>0</td>\n",
              "      <td>0</td>\n",
              "      <td>0</td>\n",
              "      <td>1</td>\n",
              "    </tr>\n",
              "    <tr>\n",
              "      <th>3</th>\n",
              "      <td>FDQ58</td>\n",
              "      <td>7.315</td>\n",
              "      <td>0</td>\n",
              "      <td>0.015388</td>\n",
              "      <td>155.0340</td>\n",
              "      <td>2007</td>\n",
              "      <td>1</td>\n",
              "      <td>1</td>\n",
              "      <td>0</td>\n",
              "      <td>0</td>\n",
              "      <td>...</td>\n",
              "      <td>0</td>\n",
              "      <td>1</td>\n",
              "      <td>0</td>\n",
              "      <td>0</td>\n",
              "      <td>1</td>\n",
              "      <td>0</td>\n",
              "      <td>0</td>\n",
              "      <td>0</td>\n",
              "      <td>1</td>\n",
              "      <td>0</td>\n",
              "    </tr>\n",
              "    <tr>\n",
              "      <th>4</th>\n",
              "      <td>FDY38</td>\n",
              "      <td>NaN</td>\n",
              "      <td>1</td>\n",
              "      <td>0.118599</td>\n",
              "      <td>234.2300</td>\n",
              "      <td>1985</td>\n",
              "      <td>1</td>\n",
              "      <td>4</td>\n",
              "      <td>0</td>\n",
              "      <td>0</td>\n",
              "      <td>...</td>\n",
              "      <td>0</td>\n",
              "      <td>0</td>\n",
              "      <td>1</td>\n",
              "      <td>0</td>\n",
              "      <td>0</td>\n",
              "      <td>0</td>\n",
              "      <td>1</td>\n",
              "      <td>0</td>\n",
              "      <td>1</td>\n",
              "      <td>0</td>\n",
              "    </tr>\n",
              "  </tbody>\n",
              "</table>\n",
              "<p>5 rows × 44 columns</p>\n",
              "</div>"
            ],
            "text/plain": [
              "  Item_Identifier  Item_Weight  Item_Fat_Content  Item_Visibility  Item_MRP  \\\n",
              "0           FDW58       20.750                 0         0.007565  107.8622   \n",
              "1           FDW14        8.300                 1         0.038428   87.3198   \n",
              "2           NCN55       14.600                 0         0.099575  241.7538   \n",
              "3           FDQ58        7.315                 0         0.015388  155.0340   \n",
              "4           FDY38          NaN                 1         0.118599  234.2300   \n",
              "\n",
              "   Outlet_Establishment_Year  Outlet_Size  Item_Weight_revised  \\\n",
              "0                       1999            1                    4   \n",
              "1                       2007            1                    1   \n",
              "2                       1998            1                    3   \n",
              "3                       2007            1                    1   \n",
              "4                       1985            1                    4   \n",
              "\n",
              "   Item_Type_Baking Goods  Item_Type_Breads  ...  Outlet_Location_Type_Tier 1  \\\n",
              "0                       0                 0  ...                            1   \n",
              "1                       0                 0  ...                            0   \n",
              "2                       0                 0  ...                            0   \n",
              "3                       0                 0  ...                            0   \n",
              "4                       0                 0  ...                            0   \n",
              "\n",
              "   Outlet_Location_Type_Tier 2  Outlet_Location_Type_Tier 3  \\\n",
              "0                            0                            0   \n",
              "1                            1                            0   \n",
              "2                            0                            1   \n",
              "3                            1                            0   \n",
              "4                            0                            1   \n",
              "\n",
              "   Outlet_Type_Grocery Store  Outlet_Type_Supermarket Type1  \\\n",
              "0                          0                              1   \n",
              "1                          0                              1   \n",
              "2                          1                              0   \n",
              "3                          0                              1   \n",
              "4                          0                              0   \n",
              "\n",
              "   Outlet_Type_Supermarket Type2  Outlet_Type_Supermarket Type3  \\\n",
              "0                              0                              0   \n",
              "1                              0                              0   \n",
              "2                              0                              0   \n",
              "3                              0                              0   \n",
              "4                              0                              1   \n",
              "\n",
              "   item_identified_first_3_DR  item_identified_first_3_FD  \\\n",
              "0                           0                           1   \n",
              "1                           0                           1   \n",
              "2                           0                           0   \n",
              "3                           0                           1   \n",
              "4                           0                           1   \n",
              "\n",
              "   item_identified_first_3_NC  \n",
              "0                           0  \n",
              "1                           0  \n",
              "2                           1  \n",
              "3                           0  \n",
              "4                           0  \n",
              "\n",
              "[5 rows x 44 columns]"
            ]
          },
          "execution_count": 90,
          "metadata": {},
          "output_type": "execute_result"
        }
      ],
      "source": [
        "testdata.head()"
      ]
    },
    {
      "cell_type": "code",
      "execution_count": null,
      "id": "7fa574aa",
      "metadata": {
        "id": "7fa574aa",
        "outputId": "4eeafba0-8835-4fd7-d088-3886f5247afe"
      },
      "outputs": [
        {
          "data": {
            "text/plain": [
              "Item_Identifier                      0\n",
              "Item_Weight                        976\n",
              "Item_Fat_Content                     0\n",
              "Item_Visibility                      0\n",
              "Item_MRP                             0\n",
              "Outlet_Establishment_Year            0\n",
              "Outlet_Size                          0\n",
              "Item_Weight_revised                  0\n",
              "Item_Type_Baking Goods               0\n",
              "Item_Type_Breads                     0\n",
              "Item_Type_Breakfast                  0\n",
              "Item_Type_Canned                     0\n",
              "Item_Type_Dairy                      0\n",
              "Item_Type_Frozen Foods               0\n",
              "Item_Type_Fruits and Vegetables      0\n",
              "Item_Type_Hard Drinks                0\n",
              "Item_Type_Health and Hygiene         0\n",
              "Item_Type_Household                  0\n",
              "Item_Type_Meat                       0\n",
              "Item_Type_Others                     0\n",
              "Item_Type_Seafood                    0\n",
              "Item_Type_Snack Foods                0\n",
              "Item_Type_Soft Drinks                0\n",
              "Item_Type_Starchy Foods              0\n",
              "Outlet_Identifier_OUT010             0\n",
              "Outlet_Identifier_OUT013             0\n",
              "Outlet_Identifier_OUT017             0\n",
              "Outlet_Identifier_OUT018             0\n",
              "Outlet_Identifier_OUT019             0\n",
              "Outlet_Identifier_OUT027             0\n",
              "Outlet_Identifier_OUT035             0\n",
              "Outlet_Identifier_OUT045             0\n",
              "Outlet_Identifier_OUT046             0\n",
              "Outlet_Identifier_OUT049             0\n",
              "Outlet_Location_Type_Tier 1          0\n",
              "Outlet_Location_Type_Tier 2          0\n",
              "Outlet_Location_Type_Tier 3          0\n",
              "Outlet_Type_Grocery Store            0\n",
              "Outlet_Type_Supermarket Type1        0\n",
              "Outlet_Type_Supermarket Type2        0\n",
              "Outlet_Type_Supermarket Type3        0\n",
              "item_identified_first_3_DR           0\n",
              "item_identified_first_3_FD           0\n",
              "item_identified_first_3_NC           0\n",
              "dtype: int64"
            ]
          },
          "execution_count": 91,
          "metadata": {},
          "output_type": "execute_result"
        }
      ],
      "source": [
        "testdata.isnull().sum()"
      ]
    },
    {
      "cell_type": "code",
      "execution_count": null,
      "id": "b3ede961",
      "metadata": {
        "id": "b3ede961"
      },
      "outputs": [],
      "source": [
        "del testdata['Item_Weight']"
      ]
    },
    {
      "cell_type": "code",
      "execution_count": null,
      "id": "3ac4c8b9",
      "metadata": {
        "id": "3ac4c8b9",
        "outputId": "d1087615-f43b-4b36-adf4-2c743c96df5e"
      },
      "outputs": [
        {
          "data": {
            "text/html": [
              "<div>\n",
              "<style scoped>\n",
              "    .dataframe tbody tr th:only-of-type {\n",
              "        vertical-align: middle;\n",
              "    }\n",
              "\n",
              "    .dataframe tbody tr th {\n",
              "        vertical-align: top;\n",
              "    }\n",
              "\n",
              "    .dataframe thead th {\n",
              "        text-align: right;\n",
              "    }\n",
              "</style>\n",
              "<table border=\"1\" class=\"dataframe\">\n",
              "  <thead>\n",
              "    <tr style=\"text-align: right;\">\n",
              "      <th></th>\n",
              "      <th>Item_Identifier</th>\n",
              "      <th>Item_Fat_Content</th>\n",
              "      <th>Item_Visibility</th>\n",
              "      <th>Item_MRP</th>\n",
              "      <th>Outlet_Establishment_Year</th>\n",
              "      <th>Outlet_Size</th>\n",
              "      <th>Item_Weight_revised</th>\n",
              "      <th>Item_Type_Baking Goods</th>\n",
              "      <th>Item_Type_Breads</th>\n",
              "      <th>Item_Type_Breakfast</th>\n",
              "      <th>...</th>\n",
              "      <th>Outlet_Location_Type_Tier 1</th>\n",
              "      <th>Outlet_Location_Type_Tier 2</th>\n",
              "      <th>Outlet_Location_Type_Tier 3</th>\n",
              "      <th>Outlet_Type_Grocery Store</th>\n",
              "      <th>Outlet_Type_Supermarket Type1</th>\n",
              "      <th>Outlet_Type_Supermarket Type2</th>\n",
              "      <th>Outlet_Type_Supermarket Type3</th>\n",
              "      <th>item_identified_first_3_DR</th>\n",
              "      <th>item_identified_first_3_FD</th>\n",
              "      <th>item_identified_first_3_NC</th>\n",
              "    </tr>\n",
              "  </thead>\n",
              "  <tbody>\n",
              "    <tr>\n",
              "      <th>0</th>\n",
              "      <td>FDW58</td>\n",
              "      <td>0</td>\n",
              "      <td>0.007565</td>\n",
              "      <td>107.8622</td>\n",
              "      <td>1999</td>\n",
              "      <td>1</td>\n",
              "      <td>4</td>\n",
              "      <td>0</td>\n",
              "      <td>0</td>\n",
              "      <td>0</td>\n",
              "      <td>...</td>\n",
              "      <td>1</td>\n",
              "      <td>0</td>\n",
              "      <td>0</td>\n",
              "      <td>0</td>\n",
              "      <td>1</td>\n",
              "      <td>0</td>\n",
              "      <td>0</td>\n",
              "      <td>0</td>\n",
              "      <td>1</td>\n",
              "      <td>0</td>\n",
              "    </tr>\n",
              "    <tr>\n",
              "      <th>1</th>\n",
              "      <td>FDW14</td>\n",
              "      <td>1</td>\n",
              "      <td>0.038428</td>\n",
              "      <td>87.3198</td>\n",
              "      <td>2007</td>\n",
              "      <td>1</td>\n",
              "      <td>1</td>\n",
              "      <td>0</td>\n",
              "      <td>0</td>\n",
              "      <td>0</td>\n",
              "      <td>...</td>\n",
              "      <td>0</td>\n",
              "      <td>1</td>\n",
              "      <td>0</td>\n",
              "      <td>0</td>\n",
              "      <td>1</td>\n",
              "      <td>0</td>\n",
              "      <td>0</td>\n",
              "      <td>0</td>\n",
              "      <td>1</td>\n",
              "      <td>0</td>\n",
              "    </tr>\n",
              "    <tr>\n",
              "      <th>2</th>\n",
              "      <td>NCN55</td>\n",
              "      <td>0</td>\n",
              "      <td>0.099575</td>\n",
              "      <td>241.7538</td>\n",
              "      <td>1998</td>\n",
              "      <td>1</td>\n",
              "      <td>3</td>\n",
              "      <td>0</td>\n",
              "      <td>0</td>\n",
              "      <td>0</td>\n",
              "      <td>...</td>\n",
              "      <td>0</td>\n",
              "      <td>0</td>\n",
              "      <td>1</td>\n",
              "      <td>1</td>\n",
              "      <td>0</td>\n",
              "      <td>0</td>\n",
              "      <td>0</td>\n",
              "      <td>0</td>\n",
              "      <td>0</td>\n",
              "      <td>1</td>\n",
              "    </tr>\n",
              "    <tr>\n",
              "      <th>3</th>\n",
              "      <td>FDQ58</td>\n",
              "      <td>0</td>\n",
              "      <td>0.015388</td>\n",
              "      <td>155.0340</td>\n",
              "      <td>2007</td>\n",
              "      <td>1</td>\n",
              "      <td>1</td>\n",
              "      <td>0</td>\n",
              "      <td>0</td>\n",
              "      <td>0</td>\n",
              "      <td>...</td>\n",
              "      <td>0</td>\n",
              "      <td>1</td>\n",
              "      <td>0</td>\n",
              "      <td>0</td>\n",
              "      <td>1</td>\n",
              "      <td>0</td>\n",
              "      <td>0</td>\n",
              "      <td>0</td>\n",
              "      <td>1</td>\n",
              "      <td>0</td>\n",
              "    </tr>\n",
              "    <tr>\n",
              "      <th>4</th>\n",
              "      <td>FDY38</td>\n",
              "      <td>1</td>\n",
              "      <td>0.118599</td>\n",
              "      <td>234.2300</td>\n",
              "      <td>1985</td>\n",
              "      <td>1</td>\n",
              "      <td>4</td>\n",
              "      <td>0</td>\n",
              "      <td>0</td>\n",
              "      <td>0</td>\n",
              "      <td>...</td>\n",
              "      <td>0</td>\n",
              "      <td>0</td>\n",
              "      <td>1</td>\n",
              "      <td>0</td>\n",
              "      <td>0</td>\n",
              "      <td>0</td>\n",
              "      <td>1</td>\n",
              "      <td>0</td>\n",
              "      <td>1</td>\n",
              "      <td>0</td>\n",
              "    </tr>\n",
              "  </tbody>\n",
              "</table>\n",
              "<p>5 rows × 43 columns</p>\n",
              "</div>"
            ],
            "text/plain": [
              "  Item_Identifier  Item_Fat_Content  Item_Visibility  Item_MRP  \\\n",
              "0           FDW58                 0         0.007565  107.8622   \n",
              "1           FDW14                 1         0.038428   87.3198   \n",
              "2           NCN55                 0         0.099575  241.7538   \n",
              "3           FDQ58                 0         0.015388  155.0340   \n",
              "4           FDY38                 1         0.118599  234.2300   \n",
              "\n",
              "   Outlet_Establishment_Year  Outlet_Size  Item_Weight_revised  \\\n",
              "0                       1999            1                    4   \n",
              "1                       2007            1                    1   \n",
              "2                       1998            1                    3   \n",
              "3                       2007            1                    1   \n",
              "4                       1985            1                    4   \n",
              "\n",
              "   Item_Type_Baking Goods  Item_Type_Breads  Item_Type_Breakfast  ...  \\\n",
              "0                       0                 0                    0  ...   \n",
              "1                       0                 0                    0  ...   \n",
              "2                       0                 0                    0  ...   \n",
              "3                       0                 0                    0  ...   \n",
              "4                       0                 0                    0  ...   \n",
              "\n",
              "   Outlet_Location_Type_Tier 1  Outlet_Location_Type_Tier 2  \\\n",
              "0                            1                            0   \n",
              "1                            0                            1   \n",
              "2                            0                            0   \n",
              "3                            0                            1   \n",
              "4                            0                            0   \n",
              "\n",
              "   Outlet_Location_Type_Tier 3  Outlet_Type_Grocery Store  \\\n",
              "0                            0                          0   \n",
              "1                            0                          0   \n",
              "2                            1                          1   \n",
              "3                            0                          0   \n",
              "4                            1                          0   \n",
              "\n",
              "   Outlet_Type_Supermarket Type1  Outlet_Type_Supermarket Type2  \\\n",
              "0                              1                              0   \n",
              "1                              1                              0   \n",
              "2                              0                              0   \n",
              "3                              1                              0   \n",
              "4                              0                              0   \n",
              "\n",
              "   Outlet_Type_Supermarket Type3  item_identified_first_3_DR  \\\n",
              "0                              0                           0   \n",
              "1                              0                           0   \n",
              "2                              0                           0   \n",
              "3                              0                           0   \n",
              "4                              1                           0   \n",
              "\n",
              "   item_identified_first_3_FD  item_identified_first_3_NC  \n",
              "0                           1                           0  \n",
              "1                           1                           0  \n",
              "2                           0                           1  \n",
              "3                           1                           0  \n",
              "4                           1                           0  \n",
              "\n",
              "[5 rows x 43 columns]"
            ]
          },
          "execution_count": 93,
          "metadata": {},
          "output_type": "execute_result"
        }
      ],
      "source": [
        "testdata.head()"
      ]
    },
    {
      "cell_type": "code",
      "execution_count": null,
      "id": "7cb68d3d",
      "metadata": {
        "id": "7cb68d3d",
        "outputId": "bbffef41-2bb4-496c-b181-e31f923c1230"
      },
      "outputs": [
        {
          "data": {
            "text/plain": [
              "Item_Identifier                    0\n",
              "Item_Fat_Content                   0\n",
              "Item_Visibility                    0\n",
              "Item_MRP                           0\n",
              "Outlet_Establishment_Year          0\n",
              "Outlet_Size                        0\n",
              "Item_Weight_revised                0\n",
              "Item_Type_Baking Goods             0\n",
              "Item_Type_Breads                   0\n",
              "Item_Type_Breakfast                0\n",
              "Item_Type_Canned                   0\n",
              "Item_Type_Dairy                    0\n",
              "Item_Type_Frozen Foods             0\n",
              "Item_Type_Fruits and Vegetables    0\n",
              "Item_Type_Hard Drinks              0\n",
              "Item_Type_Health and Hygiene       0\n",
              "Item_Type_Household                0\n",
              "Item_Type_Meat                     0\n",
              "Item_Type_Others                   0\n",
              "Item_Type_Seafood                  0\n",
              "Item_Type_Snack Foods              0\n",
              "Item_Type_Soft Drinks              0\n",
              "Item_Type_Starchy Foods            0\n",
              "Outlet_Identifier_OUT010           0\n",
              "Outlet_Identifier_OUT013           0\n",
              "Outlet_Identifier_OUT017           0\n",
              "Outlet_Identifier_OUT018           0\n",
              "Outlet_Identifier_OUT019           0\n",
              "Outlet_Identifier_OUT027           0\n",
              "Outlet_Identifier_OUT035           0\n",
              "Outlet_Identifier_OUT045           0\n",
              "Outlet_Identifier_OUT046           0\n",
              "Outlet_Identifier_OUT049           0\n",
              "Outlet_Location_Type_Tier 1        0\n",
              "Outlet_Location_Type_Tier 2        0\n",
              "Outlet_Location_Type_Tier 3        0\n",
              "Outlet_Type_Grocery Store          0\n",
              "Outlet_Type_Supermarket Type1      0\n",
              "Outlet_Type_Supermarket Type2      0\n",
              "Outlet_Type_Supermarket Type3      0\n",
              "item_identified_first_3_DR         0\n",
              "item_identified_first_3_FD         0\n",
              "item_identified_first_3_NC         0\n",
              "dtype: int64"
            ]
          },
          "execution_count": 94,
          "metadata": {},
          "output_type": "execute_result"
        }
      ],
      "source": [
        "testdata.isnull().sum()"
      ]
    },
    {
      "cell_type": "code",
      "execution_count": null,
      "id": "49206bb0",
      "metadata": {
        "id": "49206bb0",
        "outputId": "86ccf18e-8df4-4bc8-fc76-1d7c59dbbcca"
      },
      "outputs": [
        {
          "data": {
            "text/plain": [
              "Item_Identifier                     object\n",
              "Item_Fat_Content                     int32\n",
              "Item_Visibility                    float64\n",
              "Item_MRP                           float64\n",
              "Outlet_Establishment_Year            int64\n",
              "Outlet_Size                          int32\n",
              "Item_Weight_revised                  int64\n",
              "Item_Type_Baking Goods               uint8\n",
              "Item_Type_Breads                     uint8\n",
              "Item_Type_Breakfast                  uint8\n",
              "Item_Type_Canned                     uint8\n",
              "Item_Type_Dairy                      uint8\n",
              "Item_Type_Frozen Foods               uint8\n",
              "Item_Type_Fruits and Vegetables      uint8\n",
              "Item_Type_Hard Drinks                uint8\n",
              "Item_Type_Health and Hygiene         uint8\n",
              "Item_Type_Household                  uint8\n",
              "Item_Type_Meat                       uint8\n",
              "Item_Type_Others                     uint8\n",
              "Item_Type_Seafood                    uint8\n",
              "Item_Type_Snack Foods                uint8\n",
              "Item_Type_Soft Drinks                uint8\n",
              "Item_Type_Starchy Foods              uint8\n",
              "Outlet_Identifier_OUT010             uint8\n",
              "Outlet_Identifier_OUT013             uint8\n",
              "Outlet_Identifier_OUT017             uint8\n",
              "Outlet_Identifier_OUT018             uint8\n",
              "Outlet_Identifier_OUT019             uint8\n",
              "Outlet_Identifier_OUT027             uint8\n",
              "Outlet_Identifier_OUT035             uint8\n",
              "Outlet_Identifier_OUT045             uint8\n",
              "Outlet_Identifier_OUT046             uint8\n",
              "Outlet_Identifier_OUT049             uint8\n",
              "Outlet_Location_Type_Tier 1          uint8\n",
              "Outlet_Location_Type_Tier 2          uint8\n",
              "Outlet_Location_Type_Tier 3          uint8\n",
              "Outlet_Type_Grocery Store            uint8\n",
              "Outlet_Type_Supermarket Type1        uint8\n",
              "Outlet_Type_Supermarket Type2        uint8\n",
              "Outlet_Type_Supermarket Type3        uint8\n",
              "item_identified_first_3_DR           uint8\n",
              "item_identified_first_3_FD           uint8\n",
              "item_identified_first_3_NC           uint8\n",
              "dtype: object"
            ]
          },
          "execution_count": 95,
          "metadata": {},
          "output_type": "execute_result"
        }
      ],
      "source": [
        "testdata.dtypes"
      ]
    },
    {
      "cell_type": "code",
      "execution_count": null,
      "id": "cf0e7355",
      "metadata": {
        "id": "cf0e7355"
      },
      "outputs": [],
      "source": [
        "testdata['Item_Weight_revised'] = testdata['Item_Weight_revised'].astype('float')"
      ]
    },
    {
      "cell_type": "code",
      "execution_count": null,
      "id": "73250606",
      "metadata": {
        "id": "73250606",
        "outputId": "0944c284-4996-4682-dc9d-8d316991689b"
      },
      "outputs": [
        {
          "data": {
            "text/html": [
              "<div>\n",
              "<style scoped>\n",
              "    .dataframe tbody tr th:only-of-type {\n",
              "        vertical-align: middle;\n",
              "    }\n",
              "\n",
              "    .dataframe tbody tr th {\n",
              "        vertical-align: top;\n",
              "    }\n",
              "\n",
              "    .dataframe thead th {\n",
              "        text-align: right;\n",
              "    }\n",
              "</style>\n",
              "<table border=\"1\" class=\"dataframe\">\n",
              "  <thead>\n",
              "    <tr style=\"text-align: right;\">\n",
              "      <th></th>\n",
              "      <th>Item_Identifier</th>\n",
              "      <th>Item_Fat_Content</th>\n",
              "      <th>Item_Visibility</th>\n",
              "      <th>Item_MRP</th>\n",
              "      <th>Outlet_Establishment_Year</th>\n",
              "      <th>Outlet_Size</th>\n",
              "      <th>Item_Weight_revised</th>\n",
              "      <th>Item_Type_Baking Goods</th>\n",
              "      <th>Item_Type_Breads</th>\n",
              "      <th>Item_Type_Breakfast</th>\n",
              "      <th>...</th>\n",
              "      <th>Outlet_Location_Type_Tier 1</th>\n",
              "      <th>Outlet_Location_Type_Tier 2</th>\n",
              "      <th>Outlet_Location_Type_Tier 3</th>\n",
              "      <th>Outlet_Type_Grocery Store</th>\n",
              "      <th>Outlet_Type_Supermarket Type1</th>\n",
              "      <th>Outlet_Type_Supermarket Type2</th>\n",
              "      <th>Outlet_Type_Supermarket Type3</th>\n",
              "      <th>item_identified_first_3_DR</th>\n",
              "      <th>item_identified_first_3_FD</th>\n",
              "      <th>item_identified_first_3_NC</th>\n",
              "    </tr>\n",
              "  </thead>\n",
              "  <tbody>\n",
              "    <tr>\n",
              "      <th>0</th>\n",
              "      <td>FDW58</td>\n",
              "      <td>0</td>\n",
              "      <td>0.007565</td>\n",
              "      <td>107.8622</td>\n",
              "      <td>1999</td>\n",
              "      <td>1</td>\n",
              "      <td>4.0</td>\n",
              "      <td>0</td>\n",
              "      <td>0</td>\n",
              "      <td>0</td>\n",
              "      <td>...</td>\n",
              "      <td>1</td>\n",
              "      <td>0</td>\n",
              "      <td>0</td>\n",
              "      <td>0</td>\n",
              "      <td>1</td>\n",
              "      <td>0</td>\n",
              "      <td>0</td>\n",
              "      <td>0</td>\n",
              "      <td>1</td>\n",
              "      <td>0</td>\n",
              "    </tr>\n",
              "    <tr>\n",
              "      <th>1</th>\n",
              "      <td>FDW14</td>\n",
              "      <td>1</td>\n",
              "      <td>0.038428</td>\n",
              "      <td>87.3198</td>\n",
              "      <td>2007</td>\n",
              "      <td>1</td>\n",
              "      <td>1.0</td>\n",
              "      <td>0</td>\n",
              "      <td>0</td>\n",
              "      <td>0</td>\n",
              "      <td>...</td>\n",
              "      <td>0</td>\n",
              "      <td>1</td>\n",
              "      <td>0</td>\n",
              "      <td>0</td>\n",
              "      <td>1</td>\n",
              "      <td>0</td>\n",
              "      <td>0</td>\n",
              "      <td>0</td>\n",
              "      <td>1</td>\n",
              "      <td>0</td>\n",
              "    </tr>\n",
              "    <tr>\n",
              "      <th>2</th>\n",
              "      <td>NCN55</td>\n",
              "      <td>0</td>\n",
              "      <td>0.099575</td>\n",
              "      <td>241.7538</td>\n",
              "      <td>1998</td>\n",
              "      <td>1</td>\n",
              "      <td>3.0</td>\n",
              "      <td>0</td>\n",
              "      <td>0</td>\n",
              "      <td>0</td>\n",
              "      <td>...</td>\n",
              "      <td>0</td>\n",
              "      <td>0</td>\n",
              "      <td>1</td>\n",
              "      <td>1</td>\n",
              "      <td>0</td>\n",
              "      <td>0</td>\n",
              "      <td>0</td>\n",
              "      <td>0</td>\n",
              "      <td>0</td>\n",
              "      <td>1</td>\n",
              "    </tr>\n",
              "    <tr>\n",
              "      <th>3</th>\n",
              "      <td>FDQ58</td>\n",
              "      <td>0</td>\n",
              "      <td>0.015388</td>\n",
              "      <td>155.0340</td>\n",
              "      <td>2007</td>\n",
              "      <td>1</td>\n",
              "      <td>1.0</td>\n",
              "      <td>0</td>\n",
              "      <td>0</td>\n",
              "      <td>0</td>\n",
              "      <td>...</td>\n",
              "      <td>0</td>\n",
              "      <td>1</td>\n",
              "      <td>0</td>\n",
              "      <td>0</td>\n",
              "      <td>1</td>\n",
              "      <td>0</td>\n",
              "      <td>0</td>\n",
              "      <td>0</td>\n",
              "      <td>1</td>\n",
              "      <td>0</td>\n",
              "    </tr>\n",
              "    <tr>\n",
              "      <th>4</th>\n",
              "      <td>FDY38</td>\n",
              "      <td>1</td>\n",
              "      <td>0.118599</td>\n",
              "      <td>234.2300</td>\n",
              "      <td>1985</td>\n",
              "      <td>1</td>\n",
              "      <td>4.0</td>\n",
              "      <td>0</td>\n",
              "      <td>0</td>\n",
              "      <td>0</td>\n",
              "      <td>...</td>\n",
              "      <td>0</td>\n",
              "      <td>0</td>\n",
              "      <td>1</td>\n",
              "      <td>0</td>\n",
              "      <td>0</td>\n",
              "      <td>0</td>\n",
              "      <td>1</td>\n",
              "      <td>0</td>\n",
              "      <td>1</td>\n",
              "      <td>0</td>\n",
              "    </tr>\n",
              "  </tbody>\n",
              "</table>\n",
              "<p>5 rows × 43 columns</p>\n",
              "</div>"
            ],
            "text/plain": [
              "  Item_Identifier  Item_Fat_Content  Item_Visibility  Item_MRP  \\\n",
              "0           FDW58                 0         0.007565  107.8622   \n",
              "1           FDW14                 1         0.038428   87.3198   \n",
              "2           NCN55                 0         0.099575  241.7538   \n",
              "3           FDQ58                 0         0.015388  155.0340   \n",
              "4           FDY38                 1         0.118599  234.2300   \n",
              "\n",
              "   Outlet_Establishment_Year  Outlet_Size  Item_Weight_revised  \\\n",
              "0                       1999            1                  4.0   \n",
              "1                       2007            1                  1.0   \n",
              "2                       1998            1                  3.0   \n",
              "3                       2007            1                  1.0   \n",
              "4                       1985            1                  4.0   \n",
              "\n",
              "   Item_Type_Baking Goods  Item_Type_Breads  Item_Type_Breakfast  ...  \\\n",
              "0                       0                 0                    0  ...   \n",
              "1                       0                 0                    0  ...   \n",
              "2                       0                 0                    0  ...   \n",
              "3                       0                 0                    0  ...   \n",
              "4                       0                 0                    0  ...   \n",
              "\n",
              "   Outlet_Location_Type_Tier 1  Outlet_Location_Type_Tier 2  \\\n",
              "0                            1                            0   \n",
              "1                            0                            1   \n",
              "2                            0                            0   \n",
              "3                            0                            1   \n",
              "4                            0                            0   \n",
              "\n",
              "   Outlet_Location_Type_Tier 3  Outlet_Type_Grocery Store  \\\n",
              "0                            0                          0   \n",
              "1                            0                          0   \n",
              "2                            1                          1   \n",
              "3                            0                          0   \n",
              "4                            1                          0   \n",
              "\n",
              "   Outlet_Type_Supermarket Type1  Outlet_Type_Supermarket Type2  \\\n",
              "0                              1                              0   \n",
              "1                              1                              0   \n",
              "2                              0                              0   \n",
              "3                              1                              0   \n",
              "4                              0                              0   \n",
              "\n",
              "   Outlet_Type_Supermarket Type3  item_identified_first_3_DR  \\\n",
              "0                              0                           0   \n",
              "1                              0                           0   \n",
              "2                              0                           0   \n",
              "3                              0                           0   \n",
              "4                              1                           0   \n",
              "\n",
              "   item_identified_first_3_FD  item_identified_first_3_NC  \n",
              "0                           1                           0  \n",
              "1                           1                           0  \n",
              "2                           0                           1  \n",
              "3                           1                           0  \n",
              "4                           1                           0  \n",
              "\n",
              "[5 rows x 43 columns]"
            ]
          },
          "execution_count": 97,
          "metadata": {},
          "output_type": "execute_result"
        }
      ],
      "source": [
        "testdata.head()"
      ]
    },
    {
      "cell_type": "code",
      "execution_count": null,
      "id": "ada325e3",
      "metadata": {
        "id": "ada325e3"
      },
      "outputs": [],
      "source": [
        "del testdata['Item_Identifier']"
      ]
    },
    {
      "cell_type": "code",
      "execution_count": null,
      "id": "38b34776",
      "metadata": {
        "id": "38b34776",
        "outputId": "49f69067-f94b-4e3a-dfcf-af4bbed59935"
      },
      "outputs": [
        {
          "data": {
            "text/plain": [
              "(5681, 42)"
            ]
          },
          "execution_count": 99,
          "metadata": {},
          "output_type": "execute_result"
        }
      ],
      "source": [
        "testdata.shape"
      ]
    },
    {
      "cell_type": "code",
      "execution_count": null,
      "id": "e76ef0ed",
      "metadata": {
        "id": "e76ef0ed",
        "outputId": "9ebf3a04-08fb-46bb-f774-3044a4be49c2"
      },
      "outputs": [
        {
          "name": "stdout",
          "output_type": "stream",
          "text": [
            "178/178 [==============================] - 0s 593us/step\n"
          ]
        }
      ],
      "source": [
        "prediction_test = model.predict(testdata)"
      ]
    },
    {
      "cell_type": "code",
      "execution_count": null,
      "id": "2c6f9d53",
      "metadata": {
        "id": "2c6f9d53",
        "outputId": "5ea7b851-4df0-4841-f966-120271856990"
      },
      "outputs": [
        {
          "data": {
            "text/plain": [
              "array([[1397.2125],\n",
              "       [1230.9149],\n",
              "       [1597.9781],\n",
              "       ...,\n",
              "       [1722.0846],\n",
              "       [3557.8792],\n",
              "       [1142.93  ]], dtype=float32)"
            ]
          },
          "execution_count": 101,
          "metadata": {},
          "output_type": "execute_result"
        }
      ],
      "source": [
        "prediction_test"
      ]
    },
    {
      "cell_type": "code",
      "execution_count": null,
      "id": "188b2d1c",
      "metadata": {
        "id": "188b2d1c"
      },
      "outputs": [],
      "source": [
        "finaltestdata = pd.read_csv('test.csv')"
      ]
    },
    {
      "cell_type": "code",
      "execution_count": null,
      "id": "c6626961",
      "metadata": {
        "id": "c6626961",
        "outputId": "a445594d-658c-4fbf-91fe-bfde5998fa53"
      },
      "outputs": [
        {
          "data": {
            "text/html": [
              "<div>\n",
              "<style scoped>\n",
              "    .dataframe tbody tr th:only-of-type {\n",
              "        vertical-align: middle;\n",
              "    }\n",
              "\n",
              "    .dataframe tbody tr th {\n",
              "        vertical-align: top;\n",
              "    }\n",
              "\n",
              "    .dataframe thead th {\n",
              "        text-align: right;\n",
              "    }\n",
              "</style>\n",
              "<table border=\"1\" class=\"dataframe\">\n",
              "  <thead>\n",
              "    <tr style=\"text-align: right;\">\n",
              "      <th></th>\n",
              "      <th>Item_Identifier</th>\n",
              "      <th>Item_Weight</th>\n",
              "      <th>Item_Fat_Content</th>\n",
              "      <th>Item_Visibility</th>\n",
              "      <th>Item_Type</th>\n",
              "      <th>Item_MRP</th>\n",
              "      <th>Outlet_Identifier</th>\n",
              "      <th>Outlet_Establishment_Year</th>\n",
              "      <th>Outlet_Size</th>\n",
              "      <th>Outlet_Location_Type</th>\n",
              "      <th>Outlet_Type</th>\n",
              "    </tr>\n",
              "  </thead>\n",
              "  <tbody>\n",
              "    <tr>\n",
              "      <th>0</th>\n",
              "      <td>FDW58</td>\n",
              "      <td>20.750</td>\n",
              "      <td>Low Fat</td>\n",
              "      <td>0.007565</td>\n",
              "      <td>Snack Foods</td>\n",
              "      <td>107.8622</td>\n",
              "      <td>OUT049</td>\n",
              "      <td>1999</td>\n",
              "      <td>Medium</td>\n",
              "      <td>Tier 1</td>\n",
              "      <td>Supermarket Type1</td>\n",
              "    </tr>\n",
              "    <tr>\n",
              "      <th>1</th>\n",
              "      <td>FDW14</td>\n",
              "      <td>8.300</td>\n",
              "      <td>reg</td>\n",
              "      <td>0.038428</td>\n",
              "      <td>Dairy</td>\n",
              "      <td>87.3198</td>\n",
              "      <td>OUT017</td>\n",
              "      <td>2007</td>\n",
              "      <td>NaN</td>\n",
              "      <td>Tier 2</td>\n",
              "      <td>Supermarket Type1</td>\n",
              "    </tr>\n",
              "    <tr>\n",
              "      <th>2</th>\n",
              "      <td>NCN55</td>\n",
              "      <td>14.600</td>\n",
              "      <td>Low Fat</td>\n",
              "      <td>0.099575</td>\n",
              "      <td>Others</td>\n",
              "      <td>241.7538</td>\n",
              "      <td>OUT010</td>\n",
              "      <td>1998</td>\n",
              "      <td>NaN</td>\n",
              "      <td>Tier 3</td>\n",
              "      <td>Grocery Store</td>\n",
              "    </tr>\n",
              "    <tr>\n",
              "      <th>3</th>\n",
              "      <td>FDQ58</td>\n",
              "      <td>7.315</td>\n",
              "      <td>Low Fat</td>\n",
              "      <td>0.015388</td>\n",
              "      <td>Snack Foods</td>\n",
              "      <td>155.0340</td>\n",
              "      <td>OUT017</td>\n",
              "      <td>2007</td>\n",
              "      <td>NaN</td>\n",
              "      <td>Tier 2</td>\n",
              "      <td>Supermarket Type1</td>\n",
              "    </tr>\n",
              "    <tr>\n",
              "      <th>4</th>\n",
              "      <td>FDY38</td>\n",
              "      <td>NaN</td>\n",
              "      <td>Regular</td>\n",
              "      <td>0.118599</td>\n",
              "      <td>Dairy</td>\n",
              "      <td>234.2300</td>\n",
              "      <td>OUT027</td>\n",
              "      <td>1985</td>\n",
              "      <td>Medium</td>\n",
              "      <td>Tier 3</td>\n",
              "      <td>Supermarket Type3</td>\n",
              "    </tr>\n",
              "  </tbody>\n",
              "</table>\n",
              "</div>"
            ],
            "text/plain": [
              "  Item_Identifier  Item_Weight Item_Fat_Content  Item_Visibility    Item_Type  \\\n",
              "0           FDW58       20.750          Low Fat         0.007565  Snack Foods   \n",
              "1           FDW14        8.300              reg         0.038428        Dairy   \n",
              "2           NCN55       14.600          Low Fat         0.099575       Others   \n",
              "3           FDQ58        7.315          Low Fat         0.015388  Snack Foods   \n",
              "4           FDY38          NaN          Regular         0.118599        Dairy   \n",
              "\n",
              "   Item_MRP Outlet_Identifier  Outlet_Establishment_Year Outlet_Size  \\\n",
              "0  107.8622            OUT049                       1999      Medium   \n",
              "1   87.3198            OUT017                       2007         NaN   \n",
              "2  241.7538            OUT010                       1998         NaN   \n",
              "3  155.0340            OUT017                       2007         NaN   \n",
              "4  234.2300            OUT027                       1985      Medium   \n",
              "\n",
              "  Outlet_Location_Type        Outlet_Type  \n",
              "0               Tier 1  Supermarket Type1  \n",
              "1               Tier 2  Supermarket Type1  \n",
              "2               Tier 3      Grocery Store  \n",
              "3               Tier 2  Supermarket Type1  \n",
              "4               Tier 3  Supermarket Type3  "
            ]
          },
          "execution_count": 103,
          "metadata": {},
          "output_type": "execute_result"
        }
      ],
      "source": [
        "finaltestdata.head()"
      ]
    },
    {
      "cell_type": "code",
      "execution_count": null,
      "id": "0b65d67c",
      "metadata": {
        "id": "0b65d67c"
      },
      "outputs": [],
      "source": [
        "finaltestdata1 = finaltestdata[['Item_Identifier', 'Outlet_Identifier']].copy()"
      ]
    },
    {
      "cell_type": "code",
      "execution_count": null,
      "id": "13b5fdce",
      "metadata": {
        "id": "13b5fdce",
        "outputId": "808f983c-8406-40c1-8d32-c7d60fbf7490"
      },
      "outputs": [
        {
          "data": {
            "text/html": [
              "<div>\n",
              "<style scoped>\n",
              "    .dataframe tbody tr th:only-of-type {\n",
              "        vertical-align: middle;\n",
              "    }\n",
              "\n",
              "    .dataframe tbody tr th {\n",
              "        vertical-align: top;\n",
              "    }\n",
              "\n",
              "    .dataframe thead th {\n",
              "        text-align: right;\n",
              "    }\n",
              "</style>\n",
              "<table border=\"1\" class=\"dataframe\">\n",
              "  <thead>\n",
              "    <tr style=\"text-align: right;\">\n",
              "      <th></th>\n",
              "      <th>Item_Identifier</th>\n",
              "      <th>Outlet_Identifier</th>\n",
              "    </tr>\n",
              "  </thead>\n",
              "  <tbody>\n",
              "    <tr>\n",
              "      <th>0</th>\n",
              "      <td>FDW58</td>\n",
              "      <td>OUT049</td>\n",
              "    </tr>\n",
              "    <tr>\n",
              "      <th>1</th>\n",
              "      <td>FDW14</td>\n",
              "      <td>OUT017</td>\n",
              "    </tr>\n",
              "    <tr>\n",
              "      <th>2</th>\n",
              "      <td>NCN55</td>\n",
              "      <td>OUT010</td>\n",
              "    </tr>\n",
              "    <tr>\n",
              "      <th>3</th>\n",
              "      <td>FDQ58</td>\n",
              "      <td>OUT017</td>\n",
              "    </tr>\n",
              "    <tr>\n",
              "      <th>4</th>\n",
              "      <td>FDY38</td>\n",
              "      <td>OUT027</td>\n",
              "    </tr>\n",
              "    <tr>\n",
              "      <th>...</th>\n",
              "      <td>...</td>\n",
              "      <td>...</td>\n",
              "    </tr>\n",
              "    <tr>\n",
              "      <th>5676</th>\n",
              "      <td>FDB58</td>\n",
              "      <td>OUT046</td>\n",
              "    </tr>\n",
              "    <tr>\n",
              "      <th>5677</th>\n",
              "      <td>FDD47</td>\n",
              "      <td>OUT018</td>\n",
              "    </tr>\n",
              "    <tr>\n",
              "      <th>5678</th>\n",
              "      <td>NCO17</td>\n",
              "      <td>OUT045</td>\n",
              "    </tr>\n",
              "    <tr>\n",
              "      <th>5679</th>\n",
              "      <td>FDJ26</td>\n",
              "      <td>OUT017</td>\n",
              "    </tr>\n",
              "    <tr>\n",
              "      <th>5680</th>\n",
              "      <td>FDU37</td>\n",
              "      <td>OUT045</td>\n",
              "    </tr>\n",
              "  </tbody>\n",
              "</table>\n",
              "<p>5681 rows × 2 columns</p>\n",
              "</div>"
            ],
            "text/plain": [
              "     Item_Identifier Outlet_Identifier\n",
              "0              FDW58            OUT049\n",
              "1              FDW14            OUT017\n",
              "2              NCN55            OUT010\n",
              "3              FDQ58            OUT017\n",
              "4              FDY38            OUT027\n",
              "...              ...               ...\n",
              "5676           FDB58            OUT046\n",
              "5677           FDD47            OUT018\n",
              "5678           NCO17            OUT045\n",
              "5679           FDJ26            OUT017\n",
              "5680           FDU37            OUT045\n",
              "\n",
              "[5681 rows x 2 columns]"
            ]
          },
          "execution_count": 123,
          "metadata": {},
          "output_type": "execute_result"
        }
      ],
      "source": [
        "finaltestdata1"
      ]
    },
    {
      "cell_type": "code",
      "execution_count": null,
      "id": "1b8206fb",
      "metadata": {
        "id": "1b8206fb"
      },
      "outputs": [],
      "source": [
        "\n",
        "df = pd.DataFrame(prediction_test, columns = ['Item_Outlet_Sales'])"
      ]
    },
    {
      "cell_type": "code",
      "execution_count": null,
      "id": "e0971ad3",
      "metadata": {
        "id": "e0971ad3",
        "outputId": "f4241167-5a76-4064-d302-de29973ecbc8"
      },
      "outputs": [
        {
          "data": {
            "text/html": [
              "<div>\n",
              "<style scoped>\n",
              "    .dataframe tbody tr th:only-of-type {\n",
              "        vertical-align: middle;\n",
              "    }\n",
              "\n",
              "    .dataframe tbody tr th {\n",
              "        vertical-align: top;\n",
              "    }\n",
              "\n",
              "    .dataframe thead th {\n",
              "        text-align: right;\n",
              "    }\n",
              "</style>\n",
              "<table border=\"1\" class=\"dataframe\">\n",
              "  <thead>\n",
              "    <tr style=\"text-align: right;\">\n",
              "      <th></th>\n",
              "      <th>Item_Outlet_Sales</th>\n",
              "    </tr>\n",
              "  </thead>\n",
              "  <tbody>\n",
              "    <tr>\n",
              "      <th>0</th>\n",
              "      <td>1397.212524</td>\n",
              "    </tr>\n",
              "    <tr>\n",
              "      <th>1</th>\n",
              "      <td>1230.914917</td>\n",
              "    </tr>\n",
              "    <tr>\n",
              "      <th>2</th>\n",
              "      <td>1597.978149</td>\n",
              "    </tr>\n",
              "    <tr>\n",
              "      <th>3</th>\n",
              "      <td>2459.124756</td>\n",
              "    </tr>\n",
              "    <tr>\n",
              "      <th>4</th>\n",
              "      <td>4697.864258</td>\n",
              "    </tr>\n",
              "    <tr>\n",
              "      <th>...</th>\n",
              "      <td>...</td>\n",
              "    </tr>\n",
              "    <tr>\n",
              "      <th>5676</th>\n",
              "      <td>1873.313477</td>\n",
              "    </tr>\n",
              "    <tr>\n",
              "      <th>5677</th>\n",
              "      <td>2078.116943</td>\n",
              "    </tr>\n",
              "    <tr>\n",
              "      <th>5678</th>\n",
              "      <td>1722.084595</td>\n",
              "    </tr>\n",
              "    <tr>\n",
              "      <th>5679</th>\n",
              "      <td>3557.879150</td>\n",
              "    </tr>\n",
              "    <tr>\n",
              "      <th>5680</th>\n",
              "      <td>1142.930054</td>\n",
              "    </tr>\n",
              "  </tbody>\n",
              "</table>\n",
              "<p>5681 rows × 1 columns</p>\n",
              "</div>"
            ],
            "text/plain": [
              "      Item_Outlet_Sales\n",
              "0           1397.212524\n",
              "1           1230.914917\n",
              "2           1597.978149\n",
              "3           2459.124756\n",
              "4           4697.864258\n",
              "...                 ...\n",
              "5676        1873.313477\n",
              "5677        2078.116943\n",
              "5678        1722.084595\n",
              "5679        3557.879150\n",
              "5680        1142.930054\n",
              "\n",
              "[5681 rows x 1 columns]"
            ]
          },
          "execution_count": 125,
          "metadata": {},
          "output_type": "execute_result"
        }
      ],
      "source": [
        "df"
      ]
    },
    {
      "cell_type": "code",
      "execution_count": null,
      "id": "bbd78ea7",
      "metadata": {
        "id": "bbd78ea7"
      },
      "outputs": [],
      "source": [
        "df_col_merged = pd.concat([finaltestdata1, df], axis=1)"
      ]
    },
    {
      "cell_type": "code",
      "execution_count": null,
      "id": "39f59900",
      "metadata": {
        "id": "39f59900",
        "outputId": "c69b39d7-89ce-44de-e3ca-a03bac84c92c"
      },
      "outputs": [
        {
          "data": {
            "text/html": [
              "<div>\n",
              "<style scoped>\n",
              "    .dataframe tbody tr th:only-of-type {\n",
              "        vertical-align: middle;\n",
              "    }\n",
              "\n",
              "    .dataframe tbody tr th {\n",
              "        vertical-align: top;\n",
              "    }\n",
              "\n",
              "    .dataframe thead th {\n",
              "        text-align: right;\n",
              "    }\n",
              "</style>\n",
              "<table border=\"1\" class=\"dataframe\">\n",
              "  <thead>\n",
              "    <tr style=\"text-align: right;\">\n",
              "      <th></th>\n",
              "      <th>Item_Identifier</th>\n",
              "      <th>Outlet_Identifier</th>\n",
              "      <th>Item_Outlet_Sales</th>\n",
              "    </tr>\n",
              "  </thead>\n",
              "  <tbody>\n",
              "    <tr>\n",
              "      <th>0</th>\n",
              "      <td>FDW58</td>\n",
              "      <td>OUT049</td>\n",
              "      <td>1397.212524</td>\n",
              "    </tr>\n",
              "    <tr>\n",
              "      <th>1</th>\n",
              "      <td>FDW14</td>\n",
              "      <td>OUT017</td>\n",
              "      <td>1230.914917</td>\n",
              "    </tr>\n",
              "    <tr>\n",
              "      <th>2</th>\n",
              "      <td>NCN55</td>\n",
              "      <td>OUT010</td>\n",
              "      <td>1597.978149</td>\n",
              "    </tr>\n",
              "    <tr>\n",
              "      <th>3</th>\n",
              "      <td>FDQ58</td>\n",
              "      <td>OUT017</td>\n",
              "      <td>2459.124756</td>\n",
              "    </tr>\n",
              "    <tr>\n",
              "      <th>4</th>\n",
              "      <td>FDY38</td>\n",
              "      <td>OUT027</td>\n",
              "      <td>4697.864258</td>\n",
              "    </tr>\n",
              "    <tr>\n",
              "      <th>...</th>\n",
              "      <td>...</td>\n",
              "      <td>...</td>\n",
              "      <td>...</td>\n",
              "    </tr>\n",
              "    <tr>\n",
              "      <th>5676</th>\n",
              "      <td>FDB58</td>\n",
              "      <td>OUT046</td>\n",
              "      <td>1873.313477</td>\n",
              "    </tr>\n",
              "    <tr>\n",
              "      <th>5677</th>\n",
              "      <td>FDD47</td>\n",
              "      <td>OUT018</td>\n",
              "      <td>2078.116943</td>\n",
              "    </tr>\n",
              "    <tr>\n",
              "      <th>5678</th>\n",
              "      <td>NCO17</td>\n",
              "      <td>OUT045</td>\n",
              "      <td>1722.084595</td>\n",
              "    </tr>\n",
              "    <tr>\n",
              "      <th>5679</th>\n",
              "      <td>FDJ26</td>\n",
              "      <td>OUT017</td>\n",
              "      <td>3557.879150</td>\n",
              "    </tr>\n",
              "    <tr>\n",
              "      <th>5680</th>\n",
              "      <td>FDU37</td>\n",
              "      <td>OUT045</td>\n",
              "      <td>1142.930054</td>\n",
              "    </tr>\n",
              "  </tbody>\n",
              "</table>\n",
              "<p>5681 rows × 3 columns</p>\n",
              "</div>"
            ],
            "text/plain": [
              "     Item_Identifier Outlet_Identifier  Item_Outlet_Sales\n",
              "0              FDW58            OUT049        1397.212524\n",
              "1              FDW14            OUT017        1230.914917\n",
              "2              NCN55            OUT010        1597.978149\n",
              "3              FDQ58            OUT017        2459.124756\n",
              "4              FDY38            OUT027        4697.864258\n",
              "...              ...               ...                ...\n",
              "5676           FDB58            OUT046        1873.313477\n",
              "5677           FDD47            OUT018        2078.116943\n",
              "5678           NCO17            OUT045        1722.084595\n",
              "5679           FDJ26            OUT017        3557.879150\n",
              "5680           FDU37            OUT045        1142.930054\n",
              "\n",
              "[5681 rows x 3 columns]"
            ]
          },
          "execution_count": 127,
          "metadata": {},
          "output_type": "execute_result"
        }
      ],
      "source": [
        "df_col_merged"
      ]
    },
    {
      "cell_type": "code",
      "execution_count": null,
      "id": "b0687832",
      "metadata": {
        "id": "b0687832"
      },
      "outputs": [],
      "source": [
        "df_col_merged.to_csv('lokesh_bigmart.csv')"
      ]
    },
    {
      "cell_type": "code",
      "execution_count": null,
      "id": "3e57f65c",
      "metadata": {
        "id": "3e57f65c"
      },
      "outputs": [],
      "source": [
        "df_col_merged.loc[df_col_merged['Item_Outlet_Sales'] < 0, 'Item_Outlet_Sales'] = 1"
      ]
    },
    {
      "cell_type": "code",
      "execution_count": null,
      "id": "29c420be",
      "metadata": {
        "id": "29c420be"
      },
      "outputs": [],
      "source": []
    }
  ],
  "metadata": {
    "kernelspec": {
      "display_name": "Python 3 (ipykernel)",
      "language": "python",
      "name": "python3"
    },
    "language_info": {
      "codemirror_mode": {
        "name": "ipython",
        "version": 3
      },
      "file_extension": ".py",
      "mimetype": "text/x-python",
      "name": "python",
      "nbconvert_exporter": "python",
      "pygments_lexer": "ipython3",
      "version": "3.9.12"
    },
    "colab": {
      "provenance": [],
      "include_colab_link": true
    }
  },
  "nbformat": 4,
  "nbformat_minor": 5
}
